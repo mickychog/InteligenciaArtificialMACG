{
  "cells": [
    {
      "cell_type": "markdown",
      "metadata": {
        "id": "k4ezJirofDOK"
      },
      "source": [
        "# 1. Primer parcial  - Regresión Logistica\n",
        "\n",
        "En este ejercicio se implementa regresion logistica, para predecir el fraude de seguros de automoviles.\n",
        "Frad Found  que es la variable y indica si hubo fraude o no al seguro de automoviles."
      ]
    },
    {
      "cell_type": "code",
      "execution_count": 25,
      "metadata": {
        "id": "UIILrG1ifDOM"
      },
      "outputs": [],
      "source": [
        "# se utiliza para el manejo de rutas y directorios.\n",
        "import os\n",
        "\n",
        "# Calculo cientifico y vectorial para python\n",
        "import numpy as np\n",
        "\n",
        "# Librerias para graficar\n",
        "from matplotlib import pyplot\n",
        "\n",
        "# Modulo de optimización de scipy\n",
        "from scipy import optimize\n",
        "\n",
        "# le dice a matplotlib que incruste gráficos en el cuaderno\n",
        "%matplotlib inline\n",
        "\n",
        "# usando la libreria pandas para la manipulacion y analisis de datos\n",
        "import pandas as pd\n",
        "\n",
        "# Importar libreria para dividir entrenamiento y prueba\n",
        "from sklearn.model_selection import train_test_split\n",
        "from sklearn.preprocessing import LabelEncoder\n",
        "from datetime import datetime\n",
        "\n",
        "#Importamos seaborn una biblioteca de visualización de datos de Python basada en matplotlib .\n",
        "import seaborn as sns"
      ]
    },
    {
      "cell_type": "markdown",
      "metadata": {
        "id": "VFzWxw7SfDON"
      },
      "source": [
        "## 1 Regresion Logistica\n",
        "\n",
        "En esta parte del ejercicio, creará un modelo de regresión logística para predecir el fraude a segurpos de automoviles.\n",
        "\n",
        "La siguiente celda cargará los datos y las etiquetas correspondientes:"
      ]
    },
    {
      "cell_type": "code",
      "execution_count": 26,
      "metadata": {},
      "outputs": [
        {
          "data": {
            "text/html": [
              "<div>\n",
              "<style scoped>\n",
              "    .dataframe tbody tr th:only-of-type {\n",
              "        vertical-align: middle;\n",
              "    }\n",
              "\n",
              "    .dataframe tbody tr th {\n",
              "        vertical-align: top;\n",
              "    }\n",
              "\n",
              "    .dataframe thead th {\n",
              "        text-align: right;\n",
              "    }\n",
              "</style>\n",
              "<table border=\"1\" class=\"dataframe\">\n",
              "  <thead>\n",
              "    <tr style=\"text-align: right;\">\n",
              "      <th></th>\n",
              "      <th>Month</th>\n",
              "      <th>WeekOfMonth</th>\n",
              "      <th>DayOfWeek</th>\n",
              "      <th>Make</th>\n",
              "      <th>AccidentArea</th>\n",
              "      <th>DayOfWeekClaimed</th>\n",
              "      <th>MonthClaimed</th>\n",
              "      <th>WeekOfMonthClaimed</th>\n",
              "      <th>Sex</th>\n",
              "      <th>MaritalStatus</th>\n",
              "      <th>...</th>\n",
              "      <th>AgeOfPolicyHolder</th>\n",
              "      <th>PoliceReportFiled</th>\n",
              "      <th>WitnessPresent</th>\n",
              "      <th>AgentType</th>\n",
              "      <th>NumberOfSuppliments</th>\n",
              "      <th>AddressChange-Claim</th>\n",
              "      <th>NumberOfCars</th>\n",
              "      <th>Year</th>\n",
              "      <th>BasePolicy</th>\n",
              "      <th>FraudFound</th>\n",
              "    </tr>\n",
              "  </thead>\n",
              "  <tbody>\n",
              "    <tr>\n",
              "      <th>0</th>\n",
              "      <td>Dec</td>\n",
              "      <td>5</td>\n",
              "      <td>Wednesday</td>\n",
              "      <td>Honda</td>\n",
              "      <td>Urban</td>\n",
              "      <td>Tuesday</td>\n",
              "      <td>Jan</td>\n",
              "      <td>1</td>\n",
              "      <td>Female</td>\n",
              "      <td>Single</td>\n",
              "      <td>...</td>\n",
              "      <td>26 to 30</td>\n",
              "      <td>No</td>\n",
              "      <td>No</td>\n",
              "      <td>External</td>\n",
              "      <td>none</td>\n",
              "      <td>1 year</td>\n",
              "      <td>3 to 4</td>\n",
              "      <td>1994</td>\n",
              "      <td>Liability</td>\n",
              "      <td>No</td>\n",
              "    </tr>\n",
              "    <tr>\n",
              "      <th>1</th>\n",
              "      <td>Jan</td>\n",
              "      <td>3</td>\n",
              "      <td>Wednesday</td>\n",
              "      <td>Honda</td>\n",
              "      <td>Urban</td>\n",
              "      <td>Monday</td>\n",
              "      <td>Jan</td>\n",
              "      <td>4</td>\n",
              "      <td>Male</td>\n",
              "      <td>Single</td>\n",
              "      <td>...</td>\n",
              "      <td>31 to 35</td>\n",
              "      <td>Yes</td>\n",
              "      <td>No</td>\n",
              "      <td>External</td>\n",
              "      <td>none</td>\n",
              "      <td>no change</td>\n",
              "      <td>1 vehicle</td>\n",
              "      <td>1994</td>\n",
              "      <td>Collision</td>\n",
              "      <td>No</td>\n",
              "    </tr>\n",
              "    <tr>\n",
              "      <th>2</th>\n",
              "      <td>Oct</td>\n",
              "      <td>5</td>\n",
              "      <td>Friday</td>\n",
              "      <td>Honda</td>\n",
              "      <td>Urban</td>\n",
              "      <td>Thursday</td>\n",
              "      <td>Nov</td>\n",
              "      <td>2</td>\n",
              "      <td>Male</td>\n",
              "      <td>Married</td>\n",
              "      <td>...</td>\n",
              "      <td>41 to 50</td>\n",
              "      <td>No</td>\n",
              "      <td>No</td>\n",
              "      <td>External</td>\n",
              "      <td>none</td>\n",
              "      <td>no change</td>\n",
              "      <td>1 vehicle</td>\n",
              "      <td>1994</td>\n",
              "      <td>Collision</td>\n",
              "      <td>No</td>\n",
              "    </tr>\n",
              "    <tr>\n",
              "      <th>3</th>\n",
              "      <td>Jun</td>\n",
              "      <td>2</td>\n",
              "      <td>Saturday</td>\n",
              "      <td>Toyota</td>\n",
              "      <td>Rural</td>\n",
              "      <td>Friday</td>\n",
              "      <td>Jul</td>\n",
              "      <td>1</td>\n",
              "      <td>Male</td>\n",
              "      <td>Married</td>\n",
              "      <td>...</td>\n",
              "      <td>51 to 65</td>\n",
              "      <td>Yes</td>\n",
              "      <td>No</td>\n",
              "      <td>External</td>\n",
              "      <td>more than 5</td>\n",
              "      <td>no change</td>\n",
              "      <td>1 vehicle</td>\n",
              "      <td>1994</td>\n",
              "      <td>Liability</td>\n",
              "      <td>No</td>\n",
              "    </tr>\n",
              "    <tr>\n",
              "      <th>4</th>\n",
              "      <td>Jan</td>\n",
              "      <td>5</td>\n",
              "      <td>Monday</td>\n",
              "      <td>Honda</td>\n",
              "      <td>Urban</td>\n",
              "      <td>Tuesday</td>\n",
              "      <td>Feb</td>\n",
              "      <td>2</td>\n",
              "      <td>Female</td>\n",
              "      <td>Single</td>\n",
              "      <td>...</td>\n",
              "      <td>31 to 35</td>\n",
              "      <td>No</td>\n",
              "      <td>No</td>\n",
              "      <td>External</td>\n",
              "      <td>none</td>\n",
              "      <td>no change</td>\n",
              "      <td>1 vehicle</td>\n",
              "      <td>1994</td>\n",
              "      <td>Collision</td>\n",
              "      <td>No</td>\n",
              "    </tr>\n",
              "  </tbody>\n",
              "</table>\n",
              "<p>5 rows × 33 columns</p>\n",
              "</div>"
            ],
            "text/plain": [
              "  Month  WeekOfMonth  DayOfWeek    Make AccidentArea DayOfWeekClaimed  \\\n",
              "0   Dec            5  Wednesday   Honda        Urban          Tuesday   \n",
              "1   Jan            3  Wednesday   Honda        Urban           Monday   \n",
              "2   Oct            5     Friday   Honda        Urban         Thursday   \n",
              "3   Jun            2   Saturday  Toyota        Rural           Friday   \n",
              "4   Jan            5     Monday   Honda        Urban          Tuesday   \n",
              "\n",
              "  MonthClaimed  WeekOfMonthClaimed     Sex MaritalStatus  ...  \\\n",
              "0          Jan                   1  Female        Single  ...   \n",
              "1          Jan                   4    Male        Single  ...   \n",
              "2          Nov                   2    Male       Married  ...   \n",
              "3          Jul                   1    Male       Married  ...   \n",
              "4          Feb                   2  Female        Single  ...   \n",
              "\n",
              "   AgeOfPolicyHolder PoliceReportFiled WitnessPresent AgentType  \\\n",
              "0           26 to 30                No             No  External   \n",
              "1           31 to 35               Yes             No  External   \n",
              "2           41 to 50                No             No  External   \n",
              "3           51 to 65               Yes             No  External   \n",
              "4           31 to 35                No             No  External   \n",
              "\n",
              "  NumberOfSuppliments  AddressChange-Claim  NumberOfCars  Year  BasePolicy  \\\n",
              "0                none               1 year        3 to 4  1994   Liability   \n",
              "1                none            no change     1 vehicle  1994   Collision   \n",
              "2                none            no change     1 vehicle  1994   Collision   \n",
              "3         more than 5            no change     1 vehicle  1994   Liability   \n",
              "4                none            no change     1 vehicle  1994   Collision   \n",
              "\n",
              "  FraudFound  \n",
              "0         No  \n",
              "1         No  \n",
              "2         No  \n",
              "3         No  \n",
              "4         No  \n",
              "\n",
              "[5 rows x 33 columns]"
            ]
          },
          "execution_count": 26,
          "metadata": {},
          "output_type": "execute_result"
        }
      ],
      "source": [
        "#Carga de dataset para prediccion\n",
        "data = pd.read_csv('datasets/carclaims.csv')\n",
        "# Mostramos los datos de el dataset cargado\n",
        "#print(data)\n",
        "data.head()"
      ]
    },
    {
      "cell_type": "code",
      "execution_count": 27,
      "metadata": {},
      "outputs": [
        {
          "name": "stdout",
          "output_type": "stream",
          "text": [
            "<class 'pandas.core.frame.DataFrame'>\n",
            "RangeIndex: 15420 entries, 0 to 15419\n",
            "Data columns (total 33 columns):\n",
            " #   Column                Non-Null Count  Dtype \n",
            "---  ------                --------------  ----- \n",
            " 0   Month                 15420 non-null  object\n",
            " 1   WeekOfMonth           15420 non-null  int64 \n",
            " 2   DayOfWeek             15420 non-null  object\n",
            " 3   Make                  15420 non-null  object\n",
            " 4   AccidentArea          15420 non-null  object\n",
            " 5   DayOfWeekClaimed      15420 non-null  object\n",
            " 6   MonthClaimed          15420 non-null  object\n",
            " 7   WeekOfMonthClaimed    15420 non-null  int64 \n",
            " 8   Sex                   15420 non-null  object\n",
            " 9   MaritalStatus         15420 non-null  object\n",
            " 10  Age                   15420 non-null  int64 \n",
            " 11  Fault                 15420 non-null  object\n",
            " 12  PolicyType            15420 non-null  object\n",
            " 13  VehicleCategory       15420 non-null  object\n",
            " 14  VehiclePrice          15420 non-null  object\n",
            " 15  PolicyNumber          15420 non-null  int64 \n",
            " 16  RepNumber             15420 non-null  int64 \n",
            " 17  Deductible            15420 non-null  int64 \n",
            " 18  DriverRating          15420 non-null  int64 \n",
            " 19  Days:Policy-Accident  15420 non-null  object\n",
            " 20  Days:Policy-Claim     15420 non-null  object\n",
            " 21  PastNumberOfClaims    15420 non-null  object\n",
            " 22  AgeOfVehicle          15420 non-null  object\n",
            " 23  AgeOfPolicyHolder     15420 non-null  object\n",
            " 24  PoliceReportFiled     15420 non-null  object\n",
            " 25  WitnessPresent        15420 non-null  object\n",
            " 26  AgentType             15420 non-null  object\n",
            " 27  NumberOfSuppliments   15420 non-null  object\n",
            " 28  AddressChange-Claim   15420 non-null  object\n",
            " 29  NumberOfCars          15420 non-null  object\n",
            " 30  Year                  15420 non-null  int64 \n",
            " 31  BasePolicy            15420 non-null  object\n",
            " 32  FraudFound            15420 non-null  object\n",
            "dtypes: int64(8), object(25)\n",
            "memory usage: 3.9+ MB\n"
          ]
        }
      ],
      "source": [
        "# Mostramos la informacion de los datos del dataset donde podemos ver un elemento tipo object\n",
        "data.info()"
      ]
    },
    {
      "cell_type": "code",
      "execution_count": 28,
      "metadata": {},
      "outputs": [],
      "source": [
        "#convierte las variables categoricas a numericas\n",
        "columnas_categoricas = data.select_dtypes(include=['object']).columns\n",
        "#convierte las variables fechas a numericas en este caso no la usaremos\n",
        "columnas_fechas = data.select_dtypes(include=['datetime64']).columns"
      ]
    },
    {
      "cell_type": "code",
      "execution_count": 29,
      "metadata": {},
      "outputs": [
        {
          "name": "stdout",
          "output_type": "stream",
          "text": [
            "       Month  WeekOfMonth  DayOfWeek  Make  AccidentArea  DayOfWeekClaimed  \\\n",
            "0          2            5          6     6             1                 6   \n",
            "1          4            3          6     6             1                 2   \n",
            "2         10            5          0     6             1                 5   \n",
            "3          6            2          2    17             0                 1   \n",
            "4          4            5          1     6             1                 6   \n",
            "...      ...          ...        ...   ...           ...               ...   \n",
            "15415      9            4          0    17             1                 6   \n",
            "15416      9            5          4    13             1                 1   \n",
            "15417      9            5          4    17             0                 1   \n",
            "15418      2            1          1    17             1                 5   \n",
            "15419      2            2          6    17             1                 5   \n",
            "\n",
            "       MonthClaimed  WeekOfMonthClaimed  Sex  MaritalStatus  ...  \\\n",
            "0                 5                   1    0              2  ...   \n",
            "1                 5                   4    1              2  ...   \n",
            "2                10                   2    1              1  ...   \n",
            "3                 6                   1    1              1  ...   \n",
            "4                 4                   2    0              2  ...   \n",
            "...             ...                 ...  ...            ...  ...   \n",
            "15415            10                   5    1              1  ...   \n",
            "15416             3                   1    1              1  ...   \n",
            "15417             3                   1    1              2  ...   \n",
            "15418             3                   2    0              1  ...   \n",
            "15419             3                   3    1              2  ...   \n",
            "\n",
            "       AgeOfPolicyHolder  PoliceReportFiled  WitnessPresent  AgentType  \\\n",
            "0                      3                  0               0          0   \n",
            "1                      4                  1               0          0   \n",
            "2                      6                  0               0          0   \n",
            "3                      7                  1               0          0   \n",
            "4                      4                  0               0          0   \n",
            "...                  ...                ...             ...        ...   \n",
            "15415                  4                  0               0          0   \n",
            "15416                  4                  0               0          0   \n",
            "15417                  3                  0               0          0   \n",
            "15418                  4                  0               0          0   \n",
            "15419                  3                  0               0          0   \n",
            "\n",
            "       NumberOfSuppliments  AddressChange-Claim  NumberOfCars  Year  \\\n",
            "0                        3                    0             2  1994   \n",
            "1                        3                    3             0  1994   \n",
            "2                        3                    3             0  1994   \n",
            "3                        2                    3             0  1994   \n",
            "4                        3                    3             0  1994   \n",
            "...                    ...                  ...           ...   ...   \n",
            "15415                    3                    3             0  1996   \n",
            "15416                    2                    3             2  1996   \n",
            "15417                    0                    3             0  1996   \n",
            "15418                    2                    3             0  1996   \n",
            "15419                    0                    3             0  1996   \n",
            "\n",
            "       BasePolicy  FraudFound  \n",
            "0               2           0  \n",
            "1               1           0  \n",
            "2               1           0  \n",
            "3               2           0  \n",
            "4               1           0  \n",
            "...           ...         ...  \n",
            "15415           1           1  \n",
            "15416           2           0  \n",
            "15417           1           1  \n",
            "15418           0           0  \n",
            "15419           1           1  \n",
            "\n",
            "[15420 rows x 33 columns]\n"
          ]
        }
      ],
      "source": [
        "#Procesamiento de frases o palabras\n",
        "for columna in columnas_categoricas:\n",
        "  le = LabelEncoder()\n",
        "  data[columna] = le.fit_transform(data[columna])\n",
        "  \n",
        "  # Mostramos lel resultado de los datos convertidos\n",
        "print(data)"
      ]
    },
    {
      "cell_type": "code",
      "execution_count": 30,
      "metadata": {},
      "outputs": [
        {
          "name": "stdout",
          "output_type": "stream",
          "text": [
            "Informacion de los datos\n",
            "<class 'pandas.core.frame.DataFrame'>\n",
            "RangeIndex: 15420 entries, 0 to 15419\n",
            "Data columns (total 33 columns):\n",
            " #   Column                Non-Null Count  Dtype\n",
            "---  ------                --------------  -----\n",
            " 0   Month                 15420 non-null  int32\n",
            " 1   WeekOfMonth           15420 non-null  int64\n",
            " 2   DayOfWeek             15420 non-null  int32\n",
            " 3   Make                  15420 non-null  int32\n",
            " 4   AccidentArea          15420 non-null  int32\n",
            " 5   DayOfWeekClaimed      15420 non-null  int32\n",
            " 6   MonthClaimed          15420 non-null  int32\n",
            " 7   WeekOfMonthClaimed    15420 non-null  int64\n",
            " 8   Sex                   15420 non-null  int32\n",
            " 9   MaritalStatus         15420 non-null  int32\n",
            " 10  Age                   15420 non-null  int64\n",
            " 11  Fault                 15420 non-null  int32\n",
            " 12  PolicyType            15420 non-null  int32\n",
            " 13  VehicleCategory       15420 non-null  int32\n",
            " 14  VehiclePrice          15420 non-null  int32\n",
            " 15  PolicyNumber          15420 non-null  int64\n",
            " 16  RepNumber             15420 non-null  int64\n",
            " 17  Deductible            15420 non-null  int64\n",
            " 18  DriverRating          15420 non-null  int64\n",
            " 19  Days:Policy-Accident  15420 non-null  int32\n",
            " 20  Days:Policy-Claim     15420 non-null  int32\n",
            " 21  PastNumberOfClaims    15420 non-null  int32\n",
            " 22  AgeOfVehicle          15420 non-null  int32\n",
            " 23  AgeOfPolicyHolder     15420 non-null  int32\n",
            " 24  PoliceReportFiled     15420 non-null  int32\n",
            " 25  WitnessPresent        15420 non-null  int32\n",
            " 26  AgentType             15420 non-null  int32\n",
            " 27  NumberOfSuppliments   15420 non-null  int32\n",
            " 28  AddressChange-Claim   15420 non-null  int32\n",
            " 29  NumberOfCars          15420 non-null  int32\n",
            " 30  Year                  15420 non-null  int64\n",
            " 31  BasePolicy            15420 non-null  int32\n",
            " 32  FraudFound            15420 non-null  int32\n",
            "dtypes: int32(25), int64(8)\n",
            "memory usage: 2.4 MB\n"
          ]
        }
      ],
      "source": [
        "print(\"Informacion de los datos\")\n",
        "data.info()"
      ]
    },
    {
      "cell_type": "code",
      "execution_count": 31,
      "metadata": {},
      "outputs": [
        {
          "name": "stdout",
          "output_type": "stream",
          "text": [
            "       Month  WeekOfMonth  DayOfWeek  Make  AccidentArea  DayOfWeekClaimed  \\\n",
            "1943       4            2          1     2             1                 2   \n",
            "10474      3            1          2     6             1                 6   \n",
            "4231       9            4          2    17             1                 2   \n",
            "6551       7            1          4    13             1                 5   \n",
            "6550       5            2          2     9             1                 6   \n",
            "...      ...          ...        ...   ...           ...               ...   \n",
            "5191       7            5          4    13             0                 6   \n",
            "13418     11            5          0     2             1                 1   \n",
            "5390       4            3          4     6             1                 5   \n",
            "860        0            1          6     6             1                 1   \n",
            "7270       3            4          0     9             1                 5   \n",
            "\n",
            "       MonthClaimed  WeekOfMonthClaimed  Sex  MaritalStatus  ...  \\\n",
            "1943              5                   2    1              1  ...   \n",
            "10474             4                   2    0              1  ...   \n",
            "4231             10                   4    1              1  ...   \n",
            "6551              8                   3    0              1  ...   \n",
            "6550              6                   2    1              1  ...   \n",
            "...             ...                 ...  ...            ...  ...   \n",
            "5191              1                   2    1              2  ...   \n",
            "13418            12                   5    1              1  ...   \n",
            "5390              4                   1    1              1  ...   \n",
            "860               1                   2    1              1  ...   \n",
            "7270              8                   2    1              1  ...   \n",
            "\n",
            "       AgeOfVehicle  AgeOfPolicyHolder  PoliceReportFiled  WitnessPresent  \\\n",
            "1943              5                  5                  0               0   \n",
            "10474             5                  4                  0               0   \n",
            "4231              5                  4                  0               0   \n",
            "6551              5                  5                  0               0   \n",
            "6550              5                  4                  0               0   \n",
            "...             ...                ...                ...             ...   \n",
            "5191              4                  5                  0               0   \n",
            "13418             4                  6                  0               0   \n",
            "5390              6                  6                  0               0   \n",
            "860               6                  6                  0               0   \n",
            "7270              4                  4                  0               0   \n",
            "\n",
            "       AgentType  NumberOfSuppliments  AddressChange-Claim  NumberOfCars  \\\n",
            "1943           0                    2                    3             0   \n",
            "10474          0                    3                    3             0   \n",
            "4231           0                    3                    3             0   \n",
            "6551           0                    0                    3             0   \n",
            "6550           0                    3                    3             0   \n",
            "...          ...                  ...                  ...           ...   \n",
            "5191           0                    0                    3             0   \n",
            "13418          0                    2                    3             0   \n",
            "5390           0                    3                    3             0   \n",
            "860            0                    3                    3             0   \n",
            "7270           0                    0                    3             0   \n",
            "\n",
            "       Year  BasePolicy  \n",
            "1943   1994           2  \n",
            "10474  1995           2  \n",
            "4231   1994           1  \n",
            "6551   1995           2  \n",
            "6550   1995           2  \n",
            "...     ...         ...  \n",
            "5191   1994           1  \n",
            "13418  1996           2  \n",
            "5390   1994           1  \n",
            "860    1994           2  \n",
            "7270   1995           2  \n",
            "\n",
            "[12336 rows x 32 columns]\n"
          ]
        }
      ],
      "source": [
        "# Division de dataset en entrenamiento y prueba\n",
        "#train_data, test_data = train_test_split(data, test_size=0.2, random_state=42)\n",
        "\n",
        "#lectura de datos\n",
        "X = data.iloc[:, :32]\n",
        "y = data.iloc[:, 32]\n",
        "\n",
        "#dividimos el dataset en 80% entrea=namiento y 20 prueba\n",
        "X_train, X_test, y_train, y_test = train_test_split(X,y, test_size=0.2, random_state=42)\n",
        "\n",
        "#mostramos datos de entrenamiento\n",
        "print(X_train)\n",
        "#X_train.info"
      ]
    },
    {
      "cell_type": "code",
      "execution_count": 32,
      "metadata": {},
      "outputs": [
        {
          "name": "stdout",
          "output_type": "stream",
          "text": [
            "1943     0\n",
            "10474    0\n",
            "4231     0\n",
            "6551     0\n",
            "6550     0\n",
            "        ..\n",
            "5191     0\n",
            "13418    0\n",
            "5390     0\n",
            "860      0\n",
            "7270     0\n",
            "Name: FraudFound, Length: 12336, dtype: int32\n"
          ]
        }
      ],
      "source": [
        "#mostramos variable y de entrenamiento\n",
        "print(y_train)\n",
        "#y_train.info"
      ]
    },
    {
      "cell_type": "code",
      "execution_count": 33,
      "metadata": {},
      "outputs": [],
      "source": [
        "m = y_train.size"
      ]
    },
    {
      "cell_type": "code",
      "execution_count": 34,
      "metadata": {},
      "outputs": [
        {
          "name": "stdout",
          "output_type": "stream",
          "text": [
            "       Month  WeekOfMonth  DayOfWeek  Make  AccidentArea  DayOfWeekClaimed  \\\n",
            "1943       4            2          1     2             1                 2   \n",
            "10474      3            1          2     6             1                 6   \n",
            "4231       9            4          2    17             1                 2   \n",
            "6551       7            1          4    13             1                 5   \n",
            "6550       5            2          2     9             1                 6   \n",
            "...      ...          ...        ...   ...           ...               ...   \n",
            "5191       7            5          4    13             0                 6   \n",
            "13418     11            5          0     2             1                 1   \n",
            "5390       4            3          4     6             1                 5   \n",
            "860        0            1          6     6             1                 1   \n",
            "7270       3            4          0     9             1                 5   \n",
            "\n",
            "       MonthClaimed  WeekOfMonthClaimed  Sex  MaritalStatus  ...  \\\n",
            "1943              5                   2    1              1  ...   \n",
            "10474             4                   2    0              1  ...   \n",
            "4231             10                   4    1              1  ...   \n",
            "6551              8                   3    0              1  ...   \n",
            "6550              6                   2    1              1  ...   \n",
            "...             ...                 ...  ...            ...  ...   \n",
            "5191              1                   2    1              2  ...   \n",
            "13418            12                   5    1              1  ...   \n",
            "5390              4                   1    1              1  ...   \n",
            "860               1                   2    1              1  ...   \n",
            "7270              8                   2    1              1  ...   \n",
            "\n",
            "       AgeOfVehicle  AgeOfPolicyHolder  PoliceReportFiled  WitnessPresent  \\\n",
            "1943              5                  5                  0               0   \n",
            "10474             5                  4                  0               0   \n",
            "4231              5                  4                  0               0   \n",
            "6551              5                  5                  0               0   \n",
            "6550              5                  4                  0               0   \n",
            "...             ...                ...                ...             ...   \n",
            "5191              4                  5                  0               0   \n",
            "13418             4                  6                  0               0   \n",
            "5390              6                  6                  0               0   \n",
            "860               6                  6                  0               0   \n",
            "7270              4                  4                  0               0   \n",
            "\n",
            "       AgentType  NumberOfSuppliments  AddressChange-Claim  NumberOfCars  \\\n",
            "1943           0                    2                    3             0   \n",
            "10474          0                    3                    3             0   \n",
            "4231           0                    3                    3             0   \n",
            "6551           0                    0                    3             0   \n",
            "6550           0                    3                    3             0   \n",
            "...          ...                  ...                  ...           ...   \n",
            "5191           0                    0                    3             0   \n",
            "13418          0                    2                    3             0   \n",
            "5390           0                    3                    3             0   \n",
            "860            0                    3                    3             0   \n",
            "7270           0                    0                    3             0   \n",
            "\n",
            "       Year  BasePolicy  \n",
            "1943   1994           2  \n",
            "10474  1995           2  \n",
            "4231   1994           1  \n",
            "6551   1995           2  \n",
            "6550   1995           2  \n",
            "...     ...         ...  \n",
            "5191   1994           1  \n",
            "13418  1996           2  \n",
            "5390   1994           1  \n",
            "860    1994           2  \n",
            "7270   1995           2  \n",
            "\n",
            "[12336 rows x 32 columns]\n",
            "****************************************************************************************************\n",
            "1943     0\n",
            "10474    0\n",
            "4231     0\n",
            "6551     0\n",
            "6550     0\n",
            "        ..\n",
            "5191     0\n",
            "13418    0\n",
            "5390     0\n",
            "860      0\n",
            "7270     0\n",
            "Name: FraudFound, Length: 12336, dtype: int32\n"
          ]
        }
      ],
      "source": [
        "print(X_train)\n",
        "print('*'*100)\n",
        "print(y_train)"
      ]
    },
    {
      "cell_type": "markdown",
      "metadata": {
        "id": "z-Xx5IVBfDOP"
      },
      "source": [
        "<a id=\"section1\"></a>\n",
        "### 1.2 Implementacion\n",
        "\n",
        "#### 1.2.1 Fución Sigmoidea\n",
        "\n",
        "La hipotesis para la regresión logistica se define como:\n",
        "\n",
        "$$ h_\\theta(x) = g(\\theta^T x)$$\n",
        "\n",
        "donde la función $g$ is la función sigmoidea. La función sigmoidea se define como:\n",
        "\n",
        "$$g(z) = \\frac{1}{1+e^{-z}}$$.\n",
        "\n",
        "Los resultados que debe generar la funcion sigmoidea para valores positivos amplios de `x`, deben ser cercanos a 1, mientras que para valores negativos grandes, la sigmoide debe generar valores cercanos 0. La evaluacion de `sigmoid(0)` debe dar un resultado exacto de 0.5. Esta funcion tambien debe poder trabajar con vectores y matrices."
      ]
    },
    {
      "cell_type": "code",
      "execution_count": 35,
      "metadata": {
        "id": "Yxz27db7fDOQ"
      },
      "outputs": [],
      "source": [
        "def sigmoid(z):\n",
        "    # Calcula la sigmoide de una entrada z valores entre 0 y 1\n",
        "    # convierte la intrada a un arreglo numpy\n",
        "    z = np.array(z)\n",
        "\n",
        "    g = np.zeros(z.shape)\n",
        "\n",
        "    g = 1 / (1 + np.exp(-z))\n",
        "\n",
        "    return g"
      ]
    },
    {
      "cell_type": "markdown",
      "metadata": {
        "id": "kzXMjefFfDOQ"
      },
      "source": [
        "Se calcula el valor de la sigmoide aplicando la funcion sigmoid con `z=0`, se debe obtener un resultado de 0.5. RE recomienda experimentar con otros valores de `z`."
      ]
    },
    {
      "cell_type": "code",
      "execution_count": 36,
      "metadata": {
        "colab": {
          "base_uri": "https://localhost:8080/"
        },
        "id": "arfKRAAVfDOQ",
        "outputId": "82b933ec-b2d6-4ff5-9870-7f76402f0f6a"
      },
      "outputs": [
        {
          "name": "stdout",
          "output_type": "stream",
          "text": [
            "g( 0 ) =  0.5\n"
          ]
        }
      ],
      "source": [
        "# Prueba la implementacion de la funcion sigmoid\n",
        "z = 0\n",
        "g = sigmoid(z)\n",
        "\n",
        "print('g(', z, ') = ', g)"
      ]
    },
    {
      "cell_type": "markdown",
      "metadata": {
        "id": "BQ9Jf06yfDOR"
      },
      "source": [
        "<a id=\"section2\"></a>\n",
        "#### 1.2.2 Función de Costo y Gradiente\n",
        "\n",
        "Se implementa la funcion cost y gradient, para la regresión logistica. Antes de continuar es importante agregar el termino de intercepcion a X."
      ]
    },
    {
      "cell_type": "code",
      "execution_count": 37,
      "metadata": {
        "colab": {
          "base_uri": "https://localhost:8080/"
        },
        "id": "COMnlBxmfDOR",
        "outputId": "e2579924-662d-4ce2-8019-89eb38dad771"
      },
      "outputs": [
        {
          "name": "stdout",
          "output_type": "stream",
          "text": [
            "[[1.000e+00 4.000e+00 2.000e+00 ... 0.000e+00 1.994e+03 2.000e+00]\n",
            " [1.000e+00 3.000e+00 1.000e+00 ... 0.000e+00 1.995e+03 2.000e+00]\n",
            " [1.000e+00 9.000e+00 4.000e+00 ... 0.000e+00 1.994e+03 1.000e+00]\n",
            " ...\n",
            " [1.000e+00 4.000e+00 3.000e+00 ... 0.000e+00 1.994e+03 1.000e+00]\n",
            " [1.000e+00 0.000e+00 1.000e+00 ... 0.000e+00 1.994e+03 2.000e+00]\n",
            " [1.000e+00 3.000e+00 4.000e+00 ... 0.000e+00 1.995e+03 2.000e+00]]\n"
          ]
        }
      ],
      "source": [
        "# Configurar la matriz adecuadamente, y agregar una columna de unos que corresponde al termino de intercepción y sea mas generalizado.\n",
        "m, n = X_train.shape\n",
        "# Agraga el termino de intercepción a A\n",
        "X_train = np.concatenate([np.ones((m, 1)), X_train], axis=1)\n",
        "\n",
        "print(X_train)"
      ]
    },
    {
      "cell_type": "markdown",
      "metadata": {
        "id": "fO9hT_XbfDOS"
      },
      "source": [
        "La funcion de costo en una regresión logistica:\n",
        "\n",
        "$$ J(\\theta) = \\frac{1}{m} \\sum_{i=1}^{m} \\left[ -y^{(i)} \\log\\left(h_\\theta\\left( x^{(i)} \\right) \\right) - \\left( 1 - y^{(i)}\\right) \\log \\left( 1 - h_\\theta\\left( x^{(i)} \\right) \\right) \\right]$$\n",
        "\n",
        "y el gradiente del costo es un vector de la misma longitud como $\\theta$ donde el elemento $j^{th}$ (para $j = 0, 1, \\cdots , n$) se define como:\n",
        "\n",
        "$$ \\frac{\\partial J(\\theta)}{\\partial \\theta_j} = \\frac{1}{m} \\sum_{i=1}^m \\left( h_\\theta \\left( x^{(i)} \\right) - y^{(i)} \\right) x_j^{(i)} $$\n",
        "\n",
        "Si bien este gradiente parece idéntico al gradiente de regresión lineal, la fórmula es diferente porque la regresión lineal y logística tienen diferentes definiciones de $h_\\theta(x)$.\n",
        "<a id=\"costFunction\"></a>"
      ]
    },
    {
      "cell_type": "code",
      "execution_count": 38,
      "metadata": {
        "id": "Cu1DP0y0fDOT"
      },
      "outputs": [],
      "source": [
        "def calcularCosto(theta, X_train, y_train):\n",
        "    # Inicializar algunos valores utiles\n",
        "    m = y_train.size  # numero de ejemplos de entrenamiento\n",
        "    J = 0\n",
        "    h = sigmoid(X_train.dot(theta.T))\n",
        "    J = (1 / m) * np.sum(-y_train.dot(np.log(h)) - (1 - y_train).dot(np.log(1 - h)))\n",
        "\n",
        "    return J"
      ]
    },
    {
      "cell_type": "code",
      "execution_count": 39,
      "metadata": {
        "id": "BZhegpMZfDOT"
      },
      "outputs": [],
      "source": [
        "def descensoGradiente(theta, X_train, y_train, alpha, num_iters):\n",
        "    # Inicializa algunos valores\n",
        "    m = y_train.shape[0] # numero de ejemplos de entrenamiento\n",
        "    # realiza una copia de theta, el cual será acutalizada por el descenso por el gradiente\n",
        "    theta = theta.copy()\n",
        "    J_history = []\n",
        "\n",
        "    for i in range(num_iters):\n",
        "        h = sigmoid(X_train.dot(theta.T))\n",
        "        theta = theta - (alpha / m) * (h - y_train).dot(X_train)\n",
        "\n",
        "        J_history.append(calcularCosto(theta, X_train, y_train))\n",
        "    return theta, J_history"
      ]
    },
    {
      "cell_type": "code",
      "execution_count": 40,
      "metadata": {},
      "outputs": [
        {
          "name": "stdout",
          "output_type": "stream",
          "text": [
            "[   4    4    0    5    1    2    4    1    0    1   37    0    0    0\n",
            "    5  103   14  500    2    3    2    1    4    5    1    0    0    1\n",
            "    3    0 1994    0]\n"
          ]
        }
      ],
      "source": [
        "#elegimos una fila de test para probar posteriormente nuestro modelo\n",
        "fila_deseada = 152\n",
        "\n",
        "if fila_deseada < len(X_test):\n",
        "  fila_completa = X_test.iloc[fila_deseada].to_numpy()\n",
        "  print(fila_completa)\n",
        "else:\n",
        "  print(\"La fila no existe\")"
      ]
    },
    {
      "cell_type": "code",
      "execution_count": 41,
      "metadata": {},
      "outputs": [
        {
          "name": "stdout",
          "output_type": "stream",
          "text": [
            "theta calculado por el descenso por el gradiente: [-6.21375950e-07 -3.64994904e-06 -1.90292711e-06 -2.35036647e-06\n",
            " -7.09602223e-06 -6.94706969e-07 -2.50283748e-06 -4.34232156e-06\n",
            " -1.71558221e-06 -3.83155648e-07 -8.23362628e-07 -2.95001634e-05\n",
            " -9.81976855e-07 -1.90893608e-06 -1.04012989e-06  4.83008099e-07\n",
            " -2.52011348e-05 -5.37613042e-06 -2.44203357e-04 -1.39189259e-06\n",
            " -1.82645562e-06 -1.24956064e-06 -6.03131315e-07 -3.30702811e-06\n",
            " -3.57700277e-06 -4.39758965e-08 -1.17682619e-08 -4.59595222e-08\n",
            " -1.19565635e-06 -2.02886332e-06 -5.65396391e-08 -1.23882808e-03\n",
            " -2.34434404e-06]\n",
            "Segun diferentes caracteristicas existe un fraude al seguro (0) NO (1) SI: (usando el descenso por el gradiente):0.069382177321349\n"
          ]
        },
        {
          "data": {
            "image/png": "[encoded data removed]",
            "text/plain": [
              "<Figure size 640x480 with 1 Axes>"
            ]
          },
          "metadata": {},
          "output_type": "display_data"
        }
      ],
      "source": [
        "# Elegir algun valor para alpha tasa de aprendizaje (probar varias alternativas)\n",
        "alpha = 0.0000001\n",
        "num_iters = 600\n",
        "\n",
        "# inicializa theta y ejecuta el descenso por el gradiente\n",
        "theta = np.zeros(33)\n",
        "theta, J_history = descensoGradiente(theta, X_train, y_train, alpha, num_iters)\n",
        "\n",
        "# Grafica la convergencia del costo\n",
        "pyplot.plot(np.arange(len(J_history)), J_history, lw=2)\n",
        "pyplot.xlabel('Numero de iteraciones')\n",
        "pyplot.ylabel('Costo J')\n",
        "\n",
        "# Muestra los resultados del descenso por el gradiente\n",
        "print('theta calculado por el descenso por el gradiente: {:s}'.format(str(theta)))\n",
        "\n",
        "# verificar si encuentra el fraude o no\n",
        "X_array =[  1, 4,    4,    0,    5,    1,    2,    4,    1,    0,    1,   37,    0,    0,    0,\n",
        "    5,  103,   14,  500,    2,    3,    2,    1,    4,    5,    1,    0,    0,    1,\n",
        "    3,    0, 1994,    0]\n",
        "\n",
        "modo = sigmoid(np.dot(X_array, theta))  \n",
        "\n",
        "print(f\"Segun diferentes caracteristicas existe un fraude al seguro (0) NO (1) SI: :{modo}\")"
      ]
    },
    {
      "cell_type": "code",
      "execution_count": 68,
      "metadata": {
        "id": "SVHZbgOZfDOU"
      },
      "outputs": [],
      "source": [
        "def costFunction(theta, X_train, y_train):\n",
        "    # Inicializar algunos valores utiles\n",
        "    m = y_train.size  # numero de ejemplos de entrenamiento\n",
        "\n",
        "    J = 0\n",
        "    grad = np.zeros(theta.shape)\n",
        "\n",
        "    h = sigmoid(X_train.dot(theta.T))\n",
        "\n",
        "    J = (1 / m) * np.sum(-y_train.dot(np.log(h)) - (1 - y_train).dot(np.log(1 - h)))\n",
        "    grad = (1 / m) * (h - y_train).dot(X_train)\n",
        "\n",
        "    return J, grad"
      ]
    },
    {
      "cell_type": "markdown",
      "metadata": {
        "id": "2i_6-QS7fDOU"
      },
      "source": [
        "Se prueba la funcion `costFunction` utilizando dos casos de prueba para $\\theta$."
      ]
    },
    {
      "cell_type": "code",
      "execution_count": 43,
      "metadata": {
        "colab": {
          "base_uri": "https://localhost:8080/"
        },
        "id": "KCq2CXdWfDOU",
        "outputId": "a277f1b5-4dce-44f9-9910-89048f203039"
      },
      "outputs": [
        {
          "name": "stdout",
          "output_type": "stream",
          "text": [
            "theta inicial\n",
            "[0. 0. 0. 0. 0. 0. 0. 0. 0. 0. 0. 0. 0. 0. 0. 0. 0. 0. 0. 0. 0. 0. 0. 0.\n",
            " 0. 0. 0. 0. 0. 0. 0. 0. 0.]\n",
            "Costo en theta inicial (zeros): 0.555\n",
            "[3.52918288e-01 1.95820363e+00 9.85311284e-01 1.03274968e+00\n",
            " 3.58180934e+00 3.17996109e-01 1.48784047e+00 2.33790532e+00\n",
            " 9.54053178e-01 2.95946822e-01 4.59824903e-01 1.41696174e+01\n",
            " 1.05869001e-01 4.61219196e-01 1.52237354e-01 4.39785992e-01\n",
            " 2.74043158e+03 2.99004540e+00 1.43771077e+02 8.77399481e-01\n",
            " 1.05522049e+00 7.02788586e-01 5.09630350e-01 1.69970817e+00\n",
            " 1.73777562e+00 1.00518807e-02 2.20492866e-03 6.32295720e-03\n",
            " 7.05123217e-01 1.02360571e+00 3.45654994e-02 7.04028632e+02\n",
            " 3.89040208e-01]\n",
            "Gradiente en theta inicial (zeros):\n",
            "\t[0.3529, 1.9582, 0.9853, 1.0327, 3.5818, 0.3180, 1.4878, 2.3379, 0.9541, 0.2959, 0.4598, 14.1696, 0.1059, 0.4612, 0.1522, 0.4398, 2740.4316, 2.9900, 143.7711, 0.8774, 1.0552, 0.7028, 0.5096, 1.6997, 1.7378, 0.0101, 0.0022, 0.0063, 0.7051, 1.0236, 0.0346, 704.0286, 0.3890]\n"
          ]
        }
      ],
      "source": [
        "# Inicializacion de parametros de ajuste\n",
        "initial_theta = np.zeros(n+1)\n",
        "print('theta inicial')\n",
        "print(initial_theta)\n",
        "cost, grad = costFunction(initial_theta, X_train, y_train)\n",
        "cost, grad = costFunction(initial_theta, X_train, y_train)\n",
        "print('Costo en theta inicial (zeros): {:.3f}'.format(cost))\n",
        "#print('Costo esperado (aproximado): 0.7\\n')\n",
        "print(grad)\n",
        "print('Gradiente en theta inicial (zeros):')\n",
        "print('\\t[{:.4f}, {:.4f}, {:.4f}, {:.4f}, {:.4f}, {:.4f}, {:.4f}, {:.4f}, {:.4f}, {:.4f}, {:.4f}, {:.4f}, {:.4f}, {:.4f}, {:.4f}, {:.4f}, {:.4f}, {:.4f}, {:.4f}, {:.4f}, {:.4f}, {:.4f}, {:.4f}, {:.4f}, {:.4f}, {:.4f}, {:.4f}, {:.4f}, {:.4f}, {:.4f}, {:.4f}, {:.4f}, {:.4f}]'.format(*grad))\n",
        "#print('Gradiente esperado (aproximado):\\n\\t[-3.43266072e-01, -4.55317222e+02, -1.40092454e-01, -1.80817496e-01, -8.46303568e+04, -1.92042996e-01, -6.68410206e-02, -6.76148339e-02, 3.56921217e+00, -2.80606891e-02, -4.06766774e+01, -1.71377087e-01,-1.33710416e+01, -1.96386673e+00]\\n')\n",
        "\n"
      ]
    },
    {
      "cell_type": "code",
      "execution_count": 70,
      "metadata": {
        "colab": {
          "base_uri": "https://localhost:8080/"
        },
        "id": "ShafqjdBfDOU",
        "outputId": "31dcf3eb-0c4e-4235-fe37-321a3ea262f4"
      },
      "outputs": [
        {
          "name": "stdout",
          "output_type": "stream",
          "text": [
            "[   1    4    4    0    5    1    2    4    1    0    1   37    0    0\n",
            "    0    5  103   14  500    2    3    2    1    4    5    1    0    0\n",
            "    1    3    0 1994    0]\n",
            "Costo en theta prueba: nan\n",
            "Gradiente en theta prueba:\n",
            "\t[0.941, 5.215, 2.625, 2.744, 9.533, 0.845, 3.970, 6.228, 2.543, 0.792, 1.226, 37.689, 0.267, 1.209, 0.391, 1.199, 7281.880, 7.970, 383.536, 2.343, 2.815, 1.874, 1.365, 4.527, 4.623, 0.026, 0.006, 0.016, 1.882, 2.725, 0.092, 1877.469, 1.005]\n"
          ]
        },
        {
          "name": "stderr",
          "output_type": "stream",
          "text": [
            "C:\\Users\\micky\\AppData\\Local\\Temp\\ipykernel_1760\\1087750478.py:10: RuntimeWarning: divide by zero encountered in log\n",
            "  J = (1 / m) * np.sum(-y_train.dot(np.log(h)) - (1 - y_train).dot(np.log(1 - h)))\n"
          ]
        }
      ],
      "source": [
        "# Calcula y muestra el costo y el gradiente con valores de theta diferentes a cero\n",
        "\n",
        "test_theta = np.array([   1, 4,    4,    0,    5,    1,    2,    4,    1,    0,    1,   37,    0,    0,    0,\n",
        "    5,  103,   14,  500,    2,    3,    2,    1,    4,    5,    1,    0,    0,    1,\n",
        "    3,    0, 1994,    0])\n",
        "#test_theta = np.array([-11.74749157, 0.09927308, 0.09316497])\n",
        "print(test_theta)\n",
        "cost, grad = costFunction(test_theta, X_train, y_train)\n",
        "print('Costo en theta prueba: {:.0f}'.format(cost))\n",
        "#print('Costo esperado (aproximado): \\n')\n",
        "\n",
        "print('Gradiente en theta prueba:')\n",
        "print('\\t[{:.3f}, {:.3f}, {:.3f}, {:.3f}, {:.3f}, {:.3f}, {:.3f}, {:.3f}, {:.3f}, {:.3f}, {:.3f}, {:.3f}, {:.3f}, {:.3f}, {:.3f}, {:.3f}, {:.3f}, {:.3f}, {:.3f}, {:.3f}, {:.3f}, {:.3f}, {:.3f}, {:.3f}, {:.3f}, {:.3f}, {:.3f}, {:.3f}, {:.3f}, {:.3f}, {:.3f}, {:.3f}, {:.3f}]'.format(*grad))\n",
        "#print('Gradiente esperado (aproximado):\\n\\t[ 1.00000000e+00  1.31843152e+03  4.08812000e-01  5.44838000e-01  2.50184248e+05  5.56943000e-01  2.02093000e-01  1.95997000e-01 -1.04750970e+01  9.02830000e-02  1.18143857e+02  5.09116000e-01  3.98623290e+01  5.75797400e+00]')"
      ]
    },
    {
      "cell_type": "markdown",
      "metadata": {
        "id": "IL6NtnvDfDOV"
      },
      "source": [
        "#### 1.2.3 Parámetros de aprendizaje usando `scipy.optimize`\n",
        "\n",
        "En el codigo anterior se encontró los parámetros óptimos de un modelo de regresión lineal al implementar el descenso de gradiente. Se implemento una función de costo y se calculó su gradiente, utilizando el algoritmo del descenso por el gradiente.\n",
        "\n",
        "En lugar de realizar los pasos del descenso por el gradiente, se utilizará el [módulo `scipy.optimize`] (https://docs.scipy.org/doc/scipy/reference/optimize.html). SciPy es una biblioteca de computación numérica para `python`. Proporciona un módulo de optimización para la búsqueda y minimización de raíces. A partir de `scipy 1.0`, la función` scipy.optimize.minimize` es el método a utilizar para problemas de optimización (tanto restringidos como no restringidos).\n",
        "\n",
        "For logistic regression, you want to optimize the cost function $J(\\theta)$ with parameters $\\theta$.\n",
        "Concretely, you are going to use `optimize.minimize` to find the best parameters $\\theta$ for the logistic regression cost function, given a fixed dataset (of X and y values). You will pass to `optimize.minimize` the following inputs:\n",
        "\n",
        "Para la regresión logística, se desea optimizar la función de costo $J(\\theta)$ con los parámetros $\\theta$.\n",
        "Concretamente, se va a utilizar `optimize.minimize` para encontrar los mejores parámetros $\\theta$ para la función de costo de regresión logística, dado un dataset fijo (de valores X e y). Se pasara a `optimize.minimize` las siguientes entradas:\n",
        "\n",
        "- `costFunction`: Una función de costo que, cuando se le da el dataset de entrenamiento y un $\\theta$ particular, calcula el costo de regresión logística y el gradiente con respecto a $\\theta$ para el dataset(X, y). Es importante tener en cuenta que solo se pasa el nombre de la función sin el paréntesis. Esto indica que solo proporcionamos una referencia a esta función y no evaluamos el resultado de esta función.\n",
        "- `initial_theta`: Los valores iniciales de los parametros que se tratan de optimizar.\n",
        "- `(X, y)`: Estos son argumentos adicionales a la funcion de costo.\n",
        "- `jac`: Indicación si la función de costo devuelve el jacobiano (gradiente) junto con el valor de costo. (True)\n",
        "- `method`: Método / algoritmo de optimización a utilizar\n",
        "- `options`: Opciones adicionales que pueden ser específicas del método de optimización específico. Solo se indica al algoritmo el número máximo de iteraciones antes de que termine.\n",
        "\n",
        "Si se ha completado la `costFunction` correctamente,`optimize.minimize` convergerá en los parámetros de optimización correctos y devolverá los valores finales del costo y $\\theta$ en un objeto de clase.\n",
        "\n",
        "Al usar `optimize.minimize`, no se tuvo que escribir ningún bucle ni establecer una tasa de aprendizaje como se hizo para el descenso de gradientes. Todo esto se hace mediante `optimize.minimize`: solo se necesita proporcionar una función que calcule el costo y el gradiente.\n",
        "\n",
        "A continuación, se tiene el código para llamar a `optimize.minimize` con los argumentos correctos."
      ]
    },
    {
      "cell_type": "code",
      "execution_count": 45,
      "metadata": {
        "colab": {
          "base_uri": "https://localhost:8080/"
        },
        "id": "xBuAfC8zfDOV",
        "outputId": "619828c7-728a-44d8-b094-31a45513acbb",
        "scrolled": true
      },
      "outputs": [
        {
          "name": "stderr",
          "output_type": "stream",
          "text": [
            "C:\\Users\\micky\\AppData\\Local\\Temp\\ipykernel_1760\\137069836.py:7: OptimizeWarning: Unknown solver options: maxiter\n",
            "  res = optimize.minimize(costFunction,\n"
          ]
        },
        {
          "name": "stdout",
          "output_type": "stream",
          "text": [
            "Costo con un valor de theta encontrado por optimize.minimize: 0.151\n",
            "theta:\n",
            "\t[-0.136, -0.003, -0.017, -0.030, -0.012, -0.213, 0.000, 0.001, -0.001, 0.267, -0.114, 0.001, -2.637, 0.606, -1.936, 0.043, -0.000, -0.005, 0.001, 0.031, 0.537, -0.359, 0.018, -0.094, -0.103, -0.511, -0.018, -0.671, 0.020, -0.318, -0.123, -0.000, -1.107]\n"
          ]
        }
      ],
      "source": [
        "# Establecer las opciones para optimize.minimize\n",
        "options= {'maxiter': 1000}\n",
        "\n",
        "# revisar la documentacion de scipy's optimize.minimize para mayor descripcion de los parametros\n",
        "# La funcion devuekve un objeto `OptimizeResult`\n",
        "# Se utiliza el algoritmo de Newton truncado para la optimización.\n",
        "res = optimize.minimize(costFunction,\n",
        "                        initial_theta,\n",
        "                        (X_train, y_train),\n",
        "                        jac=True,\n",
        "                        method='TNC',\n",
        "                        options=options)\n",
        "\n",
        "# la propiedad fun del objeto devuelto por `OptimizeResult`\n",
        "# contiene el valor del costFunction de un theta optimizado\n",
        "cost = res.fun\n",
        "\n",
        "# Theta optimizada esta en la propiedad x\n",
        "theta = res.x\n",
        "\n",
        "# Imprimir theta en la pantalla\n",
        "print('Costo con un valor de theta encontrado por optimize.minimize: {:.3f}'.format(cost))\n",
        "#print('Costo esperado (aproximado): 0.5\\n');\n",
        "\n",
        "print('theta:')\n",
        "print('\\t[{:.3f}, {:.3f}, {:.3f}, {:.3f}, {:.3f}, {:.3f}, {:.3f}, {:.3f}, {:.3f}, {:.3f}, {:.3f}, {:.3f}, {:.3f}, {:.3f}, {:.3f}, {:.3f}, {:.3f}, {:.3f}, {:.3f}, {:.3f}, {:.3f}, {:.3f}, {:.3f}, {:.3f}, {:.3f}, {:.3f}, {:.3f}, {:.3f}, {:.3f}, {:.3f}, {:.3f}, {:.3f}, {:.3f}]'.format(*theta))\n",
        "#print('Theta esperado (aproximado):\\n\\t[3.398, -0.000, 0.177, -1.248, -0.000, -0.105, -0.501, 1.325, 0.019, -0.221, -0.004, 0.691, -0.010, -0.058]')"
      ]
    },
    {
      "cell_type": "code",
      "execution_count": 46,
      "metadata": {
        "colab": {
          "base_uri": "https://localhost:8080/"
        },
        "id": "gi59sTcYU9py",
        "outputId": "46b5ab00-3aa1-4fca-dae2-86619ed18cbb"
      },
      "outputs": [
        {
          "name": "stdout",
          "output_type": "stream",
          "text": [
            "Segun diferentes caracteristicas existe un fraude al seguro (0) NO (1) SI: :0.860329439771449\n"
          ]
        }
      ],
      "source": [
        "# verificar si ingresa o no a la universidad\n",
        "X_array = [1,1318.431520,  0.408812,0.544838,250184.248197,0.556943,0.202093,0.195997,-10.475097,0.090283,118.143857,0.509116,39.862329,5.757974]\n",
        "theta_om = [3.398, -0.000, 0.177, -1.248, -0.000, -0.105, -0.501, 1.325, 0.019, -0.221, -0.004, 0.691, -0.010, -0.058]\n",
        "modo = sigmoid(np.dot(X_array, theta_om))   # Se debe cambiar esto\n",
        "\n",
        "print(f\"Segun diferentes caracteristicas existe un fraude al seguro (0) NO (1) SI: :{modo}\")"
      ]
    },
    {
      "cell_type": "markdown",
      "metadata": {
        "id": "HG7T_XtNfDOW"
      },
      "source": [
        "Una vez que se completa `optimize.minimize`, se usa el valor final de $\\theta$ para visualizar el límite de decisión en los datos de entrenamiento.\n",
        "\n"
      ]
    },
    {
      "cell_type": "markdown",
      "metadata": {
        "id": "jr8Lfi-ZfDOW"
      },
      "source": [
        "<a id=\"section4\"></a>\n",
        "#### 1.2.4 Evaluación de la regresión logistica\n",
        "\n",
        "Después de aprender los parámetros, se puede usar el modelo para predecir si un estudiante en particular será admitido. Para un estudiante con una puntuación en el Examen 1 de 45 y una puntuación en el Examen 2 de 85, debe esperar ver una probabilidad de admisión de 0,776. Otra forma de evaluar la calidad de los parámetros que hemos encontrado es ver qué tan bien predice el modelo aprendido en nuestro conjunto de entrenamiento."
      ]
    },
    {
      "cell_type": "code",
      "execution_count": 47,
      "metadata": {
        "id": "kjavk2fEfDOX"
      },
      "outputs": [],
      "source": [
        "def predict(theta, X_train):\n",
        "    \"\"\"\n",
        "    Predecir si la etiqueta es 0 o 1 mediante regresión logística aprendida.\n",
        "    Calcula las predicciones para X usando un umbral en 0.5 (es decir, si sigmoide (theta.T * x)> = 0.5, predice 1)\n",
        "\n",
        "    Parametros\n",
        "    ----------\n",
        "    theta : array_like\n",
        "        Parametros para regresion logistica. Un vecto de la forma (n+1, ).\n",
        "\n",
        "    X : array_like\n",
        "        Datos utilizados para el calculo de las predicciones.\n",
        "        La fila es el numero de los puntos para calcular las predicciones,\n",
        "        y las columnas con el numero de caracteristicas.\n",
        "\n",
        "    Devuelve\n",
        "    -------\n",
        "    p : array_like\n",
        "        Predicciones y 0 o 1 para cada fila en X.\n",
        "    \"\"\"\n",
        "    m = X_train.shape[0] # Numero de ejemplo de entrenamiento\n",
        "\n",
        "    p = np.zeros(m)\n",
        "\n",
        "    p = np.round(sigmoid(X_train.dot(theta.T)))\n",
        "    return p"
      ]
    },
    {
      "cell_type": "markdown",
      "metadata": {
        "id": "D2rxLT_lfDOX"
      },
      "source": [
        "Una vez entrenado el modelo se procede a realizar la prediccion y evaluación de los resultados de predecir cual es el valor que vota el modelo para todos los datos utilizados en el entrenamiento."
      ]
    },
    {
      "cell_type": "code",
      "execution_count": 75,
      "metadata": {
        "colab": {
          "base_uri": "https://localhost:8080/"
        },
        "id": "R075_m5sfDOX",
        "outputId": "e8690629-b61d-4bd3-e690-094e804df3dc"
      },
      "outputs": [
        {
          "name": "stdout",
          "output_type": "stream",
          "text": [
            "Segun diferentes caracteristicas existe un fraude al seguro (0) NO (1) SI:  0.122%\n",
            "Precisión de entrenamiento: 94.11 %\n"
          ]
        }
      ],
      "source": [
        "#  Predice la probabilidad de fraude en seguros de automoviles:\n",
        "prob = sigmoid(np.dot([   1 , 4,    4,    0,    5,    1,    2,    4,    1,    0,    1,   37,    0,    0,    0,\n",
        "    5,  103,   14,  500,    2,    3,    2,    1,    4,    5,    1,    0,    0,    1,\n",
        "    3,    0, 1994,    0], theta))\n",
        "print('Segun diferentes caracteristicas existe un fraude al seguro (0) NO (1) SI:  {:.3f}%'.format(prob))\n",
        "#print('Valor esperado: 0.85 +/- 0.002\\n')\n",
        "\n",
        "# Compute accuracy on our training set\n",
        "p = predict(theta, X_train)\n",
        "print('Precisión de entrenamiento: {:.2f} %'.format(np.mean(p == y_train) * 100))\n",
        "#print('Precisión esperada (aproximadamente): 89.00 %')"
      ]
    }
  ],
  "metadata": {
    "colab": {
      "provenance": []
    },
    "kernelspec": {
      "display_name": "Python 3",
      "language": "python",
      "name": "python3"
    },
    "language_info": {
      "codemirror_mode": {
        "name": "ipython",
        "version": 3
      },
      "file_extension": ".py",
      "mimetype": "text/x-python",
      "name": "python",
      "nbconvert_exporter": "python",
      "pygments_lexer": "ipython3",
      "version": "3.11.4"
    }
  },
  "nbformat": 4,
  "nbformat_minor": 0
}
