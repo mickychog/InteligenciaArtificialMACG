{
  "cells": [
    {
      "cell_type": "markdown",
      "metadata": {
        "id": "npo6wZxcZdAR"
      },
      "source": [
        "# Ejercicion de programación - Regresión Logistica\n",
        "\n",
        "En este ejercicio se implementa regresion logistica y se aplica a dos diferentes datasets."
      ]
    },
    {
      "cell_type": "code",
      "execution_count": 1,
      "metadata": {
        "id": "ctQSeMC1ZdAT"
      },
      "outputs": [],
      "source": [
        "# se utiliza para el manejo de rutas y directorios.\n",
        "import os\n",
        "\n",
        "# Calculo cientifico y vectorial para python\n",
        "import numpy as np\n",
        "\n",
        "# Librerias para graficar\n",
        "from matplotlib import pyplot\n",
        "\n",
        "# Modulo de optimización de scipy\n",
        "from scipy import optimize\n",
        "import pandas as pd\n",
        "\n",
        "# le dice a matplotlib que incruste gráficos en el cuaderno\n",
        "%matplotlib inline"
      ]
    },
    {
      "cell_type": "code",
      "source": [
        "from google.colab import drive\n",
        "drive.mount('/content/drive')"
      ],
      "metadata": {
        "colab": {
          "base_uri": "https://localhost:8080/"
        },
        "id": "VZp1lJtt882R",
        "outputId": "f5890e1d-800b-40b3-d258-72533b234303"
      },
      "execution_count": 2,
      "outputs": [
        {
          "output_type": "stream",
          "name": "stdout",
          "text": [
            "Mounted at /content/drive\n"
          ]
        }
      ]
    },
    {
      "cell_type": "markdown",
      "metadata": {
        "id": "-d0i-J9pZdAU"
      },
      "source": [
        "## 1 Regresion Logistica\n",
        "\n",
        "En esta parte del ejercicio, creará un modelo de regresión logística para predecir si un estudiante será admitido en una universidad. Suponga que es el administrador de un departamento universitario y desea determinar las posibilidades de admisión de cada solicitante en función de sus resultados en dos exámenes. Tiene datos históricos de solicitantes anteriores que puede usar como un conjunto de capacitación para la regresión logística. Para cada ejemplo de capacitación, se tiene las calificaciones del solicitante en dos exámenes y la decisión de admisión. Su tarea es crear un modelo de clasificación que calcule la probabilidad de admisión de un solicitante en función de los puntajes de esos dos exámenes.\n",
        "\n",
        "La siguiente celda cargará los datos y las etiquetas correspondientes:"
      ]
    },
    {
      "cell_type": "code",
      "source": [
        "def  featureNormalize(X):\n",
        "    X_norm = X.copy()\n",
        "    mu = np.zeros(X.shape[1])\n",
        "    sigma = np.zeros(X.shape[1])\n",
        "\n",
        "    mu = np.mean(X, axis = 0)\n",
        "    sigma = np.std(X, axis = 0)\n",
        "    X_norm = (X - mu) / sigma\n",
        "    \n",
        "    return X_norm, mu, sigma\n"
      ],
      "metadata": {
        "id": "kTokZXdwC5Cj"
      },
      "execution_count": 4,
      "outputs": []
    },
    {
      "cell_type": "code",
      "source": [
        "datos = pd.read_csv('/content/drive/MyDrive/Colab Notebooks/SIS420/06 Machine learning/Datasets/diabetes_prediction_dataset.csv')\n",
        "datos.head()\n",
        "# print(datos)\n",
        "# print (datos.shape)"
      ],
      "metadata": {
        "colab": {
          "base_uri": "https://localhost:8080/",
          "height": 206
        },
        "id": "DegzfG_T6t6y",
        "outputId": "bd68ea9a-ca5e-4d46-f511-daeeda12ca2d"
      },
      "execution_count": 5,
      "outputs": [
        {
          "output_type": "execute_result",
          "data": {
            "text/plain": [
              "   gender   age  hypertension  heart_disease smoking_history    bmi  \\\n",
              "0  Female  80.0             0              1           never  25.19   \n",
              "1  Female  54.0             0              0         No Info  27.32   \n",
              "2    Male  28.0             0              0           never  27.32   \n",
              "3  Female  36.0             0              0         current  23.45   \n",
              "4    Male  76.0             1              1         current  20.14   \n",
              "\n",
              "   HbA1c_level  blood_glucose_level  diabetes  \n",
              "0          6.6                  140         0  \n",
              "1          6.6                   80         0  \n",
              "2          5.7                  158         0  \n",
              "3          5.0                  155         0  \n",
              "4          4.8                  155         0  "
            ],
            "text/html": [
              "\n",
              "  <div id=\"df-af7044e9-80ce-4649-b45a-5ad4a2cac4b5\">\n",
              "    <div class=\"colab-df-container\">\n",
              "      <div>\n",
              "<style scoped>\n",
              "    .dataframe tbody tr th:only-of-type {\n",
              "        vertical-align: middle;\n",
              "    }\n",
              "\n",
              "    .dataframe tbody tr th {\n",
              "        vertical-align: top;\n",
              "    }\n",
              "\n",
              "    .dataframe thead th {\n",
              "        text-align: right;\n",
              "    }\n",
              "</style>\n",
              "<table border=\"1\" class=\"dataframe\">\n",
              "  <thead>\n",
              "    <tr style=\"text-align: right;\">\n",
              "      <th></th>\n",
              "      <th>gender</th>\n",
              "      <th>age</th>\n",
              "      <th>hypertension</th>\n",
              "      <th>heart_disease</th>\n",
              "      <th>smoking_history</th>\n",
              "      <th>bmi</th>\n",
              "      <th>HbA1c_level</th>\n",
              "      <th>blood_glucose_level</th>\n",
              "      <th>diabetes</th>\n",
              "    </tr>\n",
              "  </thead>\n",
              "  <tbody>\n",
              "    <tr>\n",
              "      <th>0</th>\n",
              "      <td>Female</td>\n",
              "      <td>80.0</td>\n",
              "      <td>0</td>\n",
              "      <td>1</td>\n",
              "      <td>never</td>\n",
              "      <td>25.19</td>\n",
              "      <td>6.6</td>\n",
              "      <td>140</td>\n",
              "      <td>0</td>\n",
              "    </tr>\n",
              "    <tr>\n",
              "      <th>1</th>\n",
              "      <td>Female</td>\n",
              "      <td>54.0</td>\n",
              "      <td>0</td>\n",
              "      <td>0</td>\n",
              "      <td>No Info</td>\n",
              "      <td>27.32</td>\n",
              "      <td>6.6</td>\n",
              "      <td>80</td>\n",
              "      <td>0</td>\n",
              "    </tr>\n",
              "    <tr>\n",
              "      <th>2</th>\n",
              "      <td>Male</td>\n",
              "      <td>28.0</td>\n",
              "      <td>0</td>\n",
              "      <td>0</td>\n",
              "      <td>never</td>\n",
              "      <td>27.32</td>\n",
              "      <td>5.7</td>\n",
              "      <td>158</td>\n",
              "      <td>0</td>\n",
              "    </tr>\n",
              "    <tr>\n",
              "      <th>3</th>\n",
              "      <td>Female</td>\n",
              "      <td>36.0</td>\n",
              "      <td>0</td>\n",
              "      <td>0</td>\n",
              "      <td>current</td>\n",
              "      <td>23.45</td>\n",
              "      <td>5.0</td>\n",
              "      <td>155</td>\n",
              "      <td>0</td>\n",
              "    </tr>\n",
              "    <tr>\n",
              "      <th>4</th>\n",
              "      <td>Male</td>\n",
              "      <td>76.0</td>\n",
              "      <td>1</td>\n",
              "      <td>1</td>\n",
              "      <td>current</td>\n",
              "      <td>20.14</td>\n",
              "      <td>4.8</td>\n",
              "      <td>155</td>\n",
              "      <td>0</td>\n",
              "    </tr>\n",
              "  </tbody>\n",
              "</table>\n",
              "</div>\n",
              "      <button class=\"colab-df-convert\" onclick=\"convertToInteractive('df-af7044e9-80ce-4649-b45a-5ad4a2cac4b5')\"\n",
              "              title=\"Convert this dataframe to an interactive table.\"\n",
              "              style=\"display:none;\">\n",
              "        \n",
              "  <svg xmlns=\"http://www.w3.org/2000/svg\" height=\"24px\"viewBox=\"0 0 24 24\"\n",
              "       width=\"24px\">\n",
              "    <path d=\"M0 0h24v24H0V0z\" fill=\"none\"/>\n",
              "    <path d=\"M18.56 5.44l.94 2.06.94-2.06 2.06-.94-2.06-.94-.94-2.06-.94 2.06-2.06.94zm-11 1L8.5 8.5l.94-2.06 2.06-.94-2.06-.94L8.5 2.5l-.94 2.06-2.06.94zm10 10l.94 2.06.94-2.06 2.06-.94-2.06-.94-.94-2.06-.94 2.06-2.06.94z\"/><path d=\"M17.41 7.96l-1.37-1.37c-.4-.4-.92-.59-1.43-.59-.52 0-1.04.2-1.43.59L10.3 9.45l-7.72 7.72c-.78.78-.78 2.05 0 2.83L4 21.41c.39.39.9.59 1.41.59.51 0 1.02-.2 1.41-.59l7.78-7.78 2.81-2.81c.8-.78.8-2.07 0-2.86zM5.41 20L4 18.59l7.72-7.72 1.47 1.35L5.41 20z\"/>\n",
              "  </svg>\n",
              "      </button>\n",
              "      \n",
              "  <style>\n",
              "    .colab-df-container {\n",
              "      display:flex;\n",
              "      flex-wrap:wrap;\n",
              "      gap: 12px;\n",
              "    }\n",
              "\n",
              "    .colab-df-convert {\n",
              "      background-color: #E8F0FE;\n",
              "      border: none;\n",
              "      border-radius: 50%;\n",
              "      cursor: pointer;\n",
              "      display: none;\n",
              "      fill: #1967D2;\n",
              "      height: 32px;\n",
              "      padding: 0 0 0 0;\n",
              "      width: 32px;\n",
              "    }\n",
              "\n",
              "    .colab-df-convert:hover {\n",
              "      background-color: #E2EBFA;\n",
              "      box-shadow: 0px 1px 2px rgba(60, 64, 67, 0.3), 0px 1px 3px 1px rgba(60, 64, 67, 0.15);\n",
              "      fill: #174EA6;\n",
              "    }\n",
              "\n",
              "    [theme=dark] .colab-df-convert {\n",
              "      background-color: #3B4455;\n",
              "      fill: #D2E3FC;\n",
              "    }\n",
              "\n",
              "    [theme=dark] .colab-df-convert:hover {\n",
              "      background-color: #434B5C;\n",
              "      box-shadow: 0px 1px 3px 1px rgba(0, 0, 0, 0.15);\n",
              "      filter: drop-shadow(0px 1px 2px rgba(0, 0, 0, 0.3));\n",
              "      fill: #FFFFFF;\n",
              "    }\n",
              "  </style>\n",
              "\n",
              "      <script>\n",
              "        const buttonEl =\n",
              "          document.querySelector('#df-af7044e9-80ce-4649-b45a-5ad4a2cac4b5 button.colab-df-convert');\n",
              "        buttonEl.style.display =\n",
              "          google.colab.kernel.accessAllowed ? 'block' : 'none';\n",
              "\n",
              "        async function convertToInteractive(key) {\n",
              "          const element = document.querySelector('#df-af7044e9-80ce-4649-b45a-5ad4a2cac4b5');\n",
              "          const dataTable =\n",
              "            await google.colab.kernel.invokeFunction('convertToInteractive',\n",
              "                                                     [key], {});\n",
              "          if (!dataTable) return;\n",
              "\n",
              "          const docLinkHtml = 'Like what you see? Visit the ' +\n",
              "            '<a target=\"_blank\" href=https://colab.research.google.com/notebooks/data_table.ipynb>data table notebook</a>'\n",
              "            + ' to learn more about interactive tables.';\n",
              "          element.innerHTML = '';\n",
              "          dataTable['output_type'] = 'display_data';\n",
              "          await google.colab.output.renderOutput(dataTable, element);\n",
              "          const docLink = document.createElement('div');\n",
              "          docLink.innerHTML = docLinkHtml;\n",
              "          element.appendChild(docLink);\n",
              "        }\n",
              "      </script>\n",
              "    </div>\n",
              "  </div>\n",
              "  "
            ]
          },
          "metadata": {},
          "execution_count": 5
        }
      ]
    },
    {
      "cell_type": "code",
      "source": [
        "datos.describe()"
      ],
      "metadata": {
        "colab": {
          "base_uri": "https://localhost:8080/",
          "height": 300
        },
        "id": "P8pS0o-H_N3I",
        "outputId": "b5847c0c-4c61-4783-f7a0-da94bf9c30fc"
      },
      "execution_count": 6,
      "outputs": [
        {
          "output_type": "execute_result",
          "data": {
            "text/plain": [
              "                 age  hypertension  heart_disease            bmi  \\\n",
              "count  100000.000000  100000.00000  100000.000000  100000.000000   \n",
              "mean       41.885856       0.07485       0.039420      27.320767   \n",
              "std        22.516840       0.26315       0.194593       6.636783   \n",
              "min         0.080000       0.00000       0.000000      10.010000   \n",
              "25%        24.000000       0.00000       0.000000      23.630000   \n",
              "50%        43.000000       0.00000       0.000000      27.320000   \n",
              "75%        60.000000       0.00000       0.000000      29.580000   \n",
              "max        80.000000       1.00000       1.000000      95.690000   \n",
              "\n",
              "         HbA1c_level  blood_glucose_level       diabetes  \n",
              "count  100000.000000        100000.000000  100000.000000  \n",
              "mean        5.527507           138.058060       0.085000  \n",
              "std         1.070672            40.708136       0.278883  \n",
              "min         3.500000            80.000000       0.000000  \n",
              "25%         4.800000           100.000000       0.000000  \n",
              "50%         5.800000           140.000000       0.000000  \n",
              "75%         6.200000           159.000000       0.000000  \n",
              "max         9.000000           300.000000       1.000000  "
            ],
            "text/html": [
              "\n",
              "  <div id=\"df-eea4b486-a4ce-4e3b-8aa1-9ab748817ff2\">\n",
              "    <div class=\"colab-df-container\">\n",
              "      <div>\n",
              "<style scoped>\n",
              "    .dataframe tbody tr th:only-of-type {\n",
              "        vertical-align: middle;\n",
              "    }\n",
              "\n",
              "    .dataframe tbody tr th {\n",
              "        vertical-align: top;\n",
              "    }\n",
              "\n",
              "    .dataframe thead th {\n",
              "        text-align: right;\n",
              "    }\n",
              "</style>\n",
              "<table border=\"1\" class=\"dataframe\">\n",
              "  <thead>\n",
              "    <tr style=\"text-align: right;\">\n",
              "      <th></th>\n",
              "      <th>age</th>\n",
              "      <th>hypertension</th>\n",
              "      <th>heart_disease</th>\n",
              "      <th>bmi</th>\n",
              "      <th>HbA1c_level</th>\n",
              "      <th>blood_glucose_level</th>\n",
              "      <th>diabetes</th>\n",
              "    </tr>\n",
              "  </thead>\n",
              "  <tbody>\n",
              "    <tr>\n",
              "      <th>count</th>\n",
              "      <td>100000.000000</td>\n",
              "      <td>100000.00000</td>\n",
              "      <td>100000.000000</td>\n",
              "      <td>100000.000000</td>\n",
              "      <td>100000.000000</td>\n",
              "      <td>100000.000000</td>\n",
              "      <td>100000.000000</td>\n",
              "    </tr>\n",
              "    <tr>\n",
              "      <th>mean</th>\n",
              "      <td>41.885856</td>\n",
              "      <td>0.07485</td>\n",
              "      <td>0.039420</td>\n",
              "      <td>27.320767</td>\n",
              "      <td>5.527507</td>\n",
              "      <td>138.058060</td>\n",
              "      <td>0.085000</td>\n",
              "    </tr>\n",
              "    <tr>\n",
              "      <th>std</th>\n",
              "      <td>22.516840</td>\n",
              "      <td>0.26315</td>\n",
              "      <td>0.194593</td>\n",
              "      <td>6.636783</td>\n",
              "      <td>1.070672</td>\n",
              "      <td>40.708136</td>\n",
              "      <td>0.278883</td>\n",
              "    </tr>\n",
              "    <tr>\n",
              "      <th>min</th>\n",
              "      <td>0.080000</td>\n",
              "      <td>0.00000</td>\n",
              "      <td>0.000000</td>\n",
              "      <td>10.010000</td>\n",
              "      <td>3.500000</td>\n",
              "      <td>80.000000</td>\n",
              "      <td>0.000000</td>\n",
              "    </tr>\n",
              "    <tr>\n",
              "      <th>25%</th>\n",
              "      <td>24.000000</td>\n",
              "      <td>0.00000</td>\n",
              "      <td>0.000000</td>\n",
              "      <td>23.630000</td>\n",
              "      <td>4.800000</td>\n",
              "      <td>100.000000</td>\n",
              "      <td>0.000000</td>\n",
              "    </tr>\n",
              "    <tr>\n",
              "      <th>50%</th>\n",
              "      <td>43.000000</td>\n",
              "      <td>0.00000</td>\n",
              "      <td>0.000000</td>\n",
              "      <td>27.320000</td>\n",
              "      <td>5.800000</td>\n",
              "      <td>140.000000</td>\n",
              "      <td>0.000000</td>\n",
              "    </tr>\n",
              "    <tr>\n",
              "      <th>75%</th>\n",
              "      <td>60.000000</td>\n",
              "      <td>0.00000</td>\n",
              "      <td>0.000000</td>\n",
              "      <td>29.580000</td>\n",
              "      <td>6.200000</td>\n",
              "      <td>159.000000</td>\n",
              "      <td>0.000000</td>\n",
              "    </tr>\n",
              "    <tr>\n",
              "      <th>max</th>\n",
              "      <td>80.000000</td>\n",
              "      <td>1.00000</td>\n",
              "      <td>1.000000</td>\n",
              "      <td>95.690000</td>\n",
              "      <td>9.000000</td>\n",
              "      <td>300.000000</td>\n",
              "      <td>1.000000</td>\n",
              "    </tr>\n",
              "  </tbody>\n",
              "</table>\n",
              "</div>\n",
              "      <button class=\"colab-df-convert\" onclick=\"convertToInteractive('df-eea4b486-a4ce-4e3b-8aa1-9ab748817ff2')\"\n",
              "              title=\"Convert this dataframe to an interactive table.\"\n",
              "              style=\"display:none;\">\n",
              "        \n",
              "  <svg xmlns=\"http://www.w3.org/2000/svg\" height=\"24px\"viewBox=\"0 0 24 24\"\n",
              "       width=\"24px\">\n",
              "    <path d=\"M0 0h24v24H0V0z\" fill=\"none\"/>\n",
              "    <path d=\"M18.56 5.44l.94 2.06.94-2.06 2.06-.94-2.06-.94-.94-2.06-.94 2.06-2.06.94zm-11 1L8.5 8.5l.94-2.06 2.06-.94-2.06-.94L8.5 2.5l-.94 2.06-2.06.94zm10 10l.94 2.06.94-2.06 2.06-.94-2.06-.94-.94-2.06-.94 2.06-2.06.94z\"/><path d=\"M17.41 7.96l-1.37-1.37c-.4-.4-.92-.59-1.43-.59-.52 0-1.04.2-1.43.59L10.3 9.45l-7.72 7.72c-.78.78-.78 2.05 0 2.83L4 21.41c.39.39.9.59 1.41.59.51 0 1.02-.2 1.41-.59l7.78-7.78 2.81-2.81c.8-.78.8-2.07 0-2.86zM5.41 20L4 18.59l7.72-7.72 1.47 1.35L5.41 20z\"/>\n",
              "  </svg>\n",
              "      </button>\n",
              "      \n",
              "  <style>\n",
              "    .colab-df-container {\n",
              "      display:flex;\n",
              "      flex-wrap:wrap;\n",
              "      gap: 12px;\n",
              "    }\n",
              "\n",
              "    .colab-df-convert {\n",
              "      background-color: #E8F0FE;\n",
              "      border: none;\n",
              "      border-radius: 50%;\n",
              "      cursor: pointer;\n",
              "      display: none;\n",
              "      fill: #1967D2;\n",
              "      height: 32px;\n",
              "      padding: 0 0 0 0;\n",
              "      width: 32px;\n",
              "    }\n",
              "\n",
              "    .colab-df-convert:hover {\n",
              "      background-color: #E2EBFA;\n",
              "      box-shadow: 0px 1px 2px rgba(60, 64, 67, 0.3), 0px 1px 3px 1px rgba(60, 64, 67, 0.15);\n",
              "      fill: #174EA6;\n",
              "    }\n",
              "\n",
              "    [theme=dark] .colab-df-convert {\n",
              "      background-color: #3B4455;\n",
              "      fill: #D2E3FC;\n",
              "    }\n",
              "\n",
              "    [theme=dark] .colab-df-convert:hover {\n",
              "      background-color: #434B5C;\n",
              "      box-shadow: 0px 1px 3px 1px rgba(0, 0, 0, 0.15);\n",
              "      filter: drop-shadow(0px 1px 2px rgba(0, 0, 0, 0.3));\n",
              "      fill: #FFFFFF;\n",
              "    }\n",
              "  </style>\n",
              "\n",
              "      <script>\n",
              "        const buttonEl =\n",
              "          document.querySelector('#df-eea4b486-a4ce-4e3b-8aa1-9ab748817ff2 button.colab-df-convert');\n",
              "        buttonEl.style.display =\n",
              "          google.colab.kernel.accessAllowed ? 'block' : 'none';\n",
              "\n",
              "        async function convertToInteractive(key) {\n",
              "          const element = document.querySelector('#df-eea4b486-a4ce-4e3b-8aa1-9ab748817ff2');\n",
              "          const dataTable =\n",
              "            await google.colab.kernel.invokeFunction('convertToInteractive',\n",
              "                                                     [key], {});\n",
              "          if (!dataTable) return;\n",
              "\n",
              "          const docLinkHtml = 'Like what you see? Visit the ' +\n",
              "            '<a target=\"_blank\" href=https://colab.research.google.com/notebooks/data_table.ipynb>data table notebook</a>'\n",
              "            + ' to learn more about interactive tables.';\n",
              "          element.innerHTML = '';\n",
              "          dataTable['output_type'] = 'display_data';\n",
              "          await google.colab.output.renderOutput(dataTable, element);\n",
              "          const docLink = document.createElement('div');\n",
              "          docLink.innerHTML = docLinkHtml;\n",
              "          element.appendChild(docLink);\n",
              "        }\n",
              "      </script>\n",
              "    </div>\n",
              "  </div>\n",
              "  "
            ]
          },
          "metadata": {},
          "execution_count": 6
        }
      ]
    },
    {
      "cell_type": "code",
      "source": [
        "columnas_todas = ['gender', 'age', 'hypertension', 'heart_disease', 'smoking_history', 'bmi', 'HbA1c_level', 'blood_glucose_level', 'diabetes']\n",
        "mapeo_gender = {'Male': 1, 'Female': 2, 'Other': 3}\n",
        "mapeo_smoking_history = {'No Info':1, 'never': 2, 'former': 3, 'current': 4, 'not current': 5, 'ever': 6}\n",
        "\n",
        "datos['gender'] = datos['gender'].map(mapeo_gender)\n",
        "datos['smoking_history'] = datos['smoking_history'].map(mapeo_smoking_history)\n"
      ],
      "metadata": {
        "id": "Z2F-McMPDJcc"
      },
      "execution_count": 7,
      "outputs": []
    },
    {
      "cell_type": "code",
      "source": [
        "datos.head()"
      ],
      "metadata": {
        "colab": {
          "base_uri": "https://localhost:8080/",
          "height": 206
        },
        "id": "HDw7PIZ0GOG5",
        "outputId": "a0b1f8a5-6e02-4168-c063-24f897a754d8"
      },
      "execution_count": 8,
      "outputs": [
        {
          "output_type": "execute_result",
          "data": {
            "text/plain": [
              "   gender   age  hypertension  heart_disease  smoking_history    bmi  \\\n",
              "0       2  80.0             0              1                2  25.19   \n",
              "1       2  54.0             0              0                1  27.32   \n",
              "2       1  28.0             0              0                2  27.32   \n",
              "3       2  36.0             0              0                4  23.45   \n",
              "4       1  76.0             1              1                4  20.14   \n",
              "\n",
              "   HbA1c_level  blood_glucose_level  diabetes  \n",
              "0          6.6                  140         0  \n",
              "1          6.6                   80         0  \n",
              "2          5.7                  158         0  \n",
              "3          5.0                  155         0  \n",
              "4          4.8                  155         0  "
            ],
            "text/html": [
              "\n",
              "  <div id=\"df-25230baa-13b4-4874-aca2-56e97ea036bf\">\n",
              "    <div class=\"colab-df-container\">\n",
              "      <div>\n",
              "<style scoped>\n",
              "    .dataframe tbody tr th:only-of-type {\n",
              "        vertical-align: middle;\n",
              "    }\n",
              "\n",
              "    .dataframe tbody tr th {\n",
              "        vertical-align: top;\n",
              "    }\n",
              "\n",
              "    .dataframe thead th {\n",
              "        text-align: right;\n",
              "    }\n",
              "</style>\n",
              "<table border=\"1\" class=\"dataframe\">\n",
              "  <thead>\n",
              "    <tr style=\"text-align: right;\">\n",
              "      <th></th>\n",
              "      <th>gender</th>\n",
              "      <th>age</th>\n",
              "      <th>hypertension</th>\n",
              "      <th>heart_disease</th>\n",
              "      <th>smoking_history</th>\n",
              "      <th>bmi</th>\n",
              "      <th>HbA1c_level</th>\n",
              "      <th>blood_glucose_level</th>\n",
              "      <th>diabetes</th>\n",
              "    </tr>\n",
              "  </thead>\n",
              "  <tbody>\n",
              "    <tr>\n",
              "      <th>0</th>\n",
              "      <td>2</td>\n",
              "      <td>80.0</td>\n",
              "      <td>0</td>\n",
              "      <td>1</td>\n",
              "      <td>2</td>\n",
              "      <td>25.19</td>\n",
              "      <td>6.6</td>\n",
              "      <td>140</td>\n",
              "      <td>0</td>\n",
              "    </tr>\n",
              "    <tr>\n",
              "      <th>1</th>\n",
              "      <td>2</td>\n",
              "      <td>54.0</td>\n",
              "      <td>0</td>\n",
              "      <td>0</td>\n",
              "      <td>1</td>\n",
              "      <td>27.32</td>\n",
              "      <td>6.6</td>\n",
              "      <td>80</td>\n",
              "      <td>0</td>\n",
              "    </tr>\n",
              "    <tr>\n",
              "      <th>2</th>\n",
              "      <td>1</td>\n",
              "      <td>28.0</td>\n",
              "      <td>0</td>\n",
              "      <td>0</td>\n",
              "      <td>2</td>\n",
              "      <td>27.32</td>\n",
              "      <td>5.7</td>\n",
              "      <td>158</td>\n",
              "      <td>0</td>\n",
              "    </tr>\n",
              "    <tr>\n",
              "      <th>3</th>\n",
              "      <td>2</td>\n",
              "      <td>36.0</td>\n",
              "      <td>0</td>\n",
              "      <td>0</td>\n",
              "      <td>4</td>\n",
              "      <td>23.45</td>\n",
              "      <td>5.0</td>\n",
              "      <td>155</td>\n",
              "      <td>0</td>\n",
              "    </tr>\n",
              "    <tr>\n",
              "      <th>4</th>\n",
              "      <td>1</td>\n",
              "      <td>76.0</td>\n",
              "      <td>1</td>\n",
              "      <td>1</td>\n",
              "      <td>4</td>\n",
              "      <td>20.14</td>\n",
              "      <td>4.8</td>\n",
              "      <td>155</td>\n",
              "      <td>0</td>\n",
              "    </tr>\n",
              "  </tbody>\n",
              "</table>\n",
              "</div>\n",
              "      <button class=\"colab-df-convert\" onclick=\"convertToInteractive('df-25230baa-13b4-4874-aca2-56e97ea036bf')\"\n",
              "              title=\"Convert this dataframe to an interactive table.\"\n",
              "              style=\"display:none;\">\n",
              "        \n",
              "  <svg xmlns=\"http://www.w3.org/2000/svg\" height=\"24px\"viewBox=\"0 0 24 24\"\n",
              "       width=\"24px\">\n",
              "    <path d=\"M0 0h24v24H0V0z\" fill=\"none\"/>\n",
              "    <path d=\"M18.56 5.44l.94 2.06.94-2.06 2.06-.94-2.06-.94-.94-2.06-.94 2.06-2.06.94zm-11 1L8.5 8.5l.94-2.06 2.06-.94-2.06-.94L8.5 2.5l-.94 2.06-2.06.94zm10 10l.94 2.06.94-2.06 2.06-.94-2.06-.94-.94-2.06-.94 2.06-2.06.94z\"/><path d=\"M17.41 7.96l-1.37-1.37c-.4-.4-.92-.59-1.43-.59-.52 0-1.04.2-1.43.59L10.3 9.45l-7.72 7.72c-.78.78-.78 2.05 0 2.83L4 21.41c.39.39.9.59 1.41.59.51 0 1.02-.2 1.41-.59l7.78-7.78 2.81-2.81c.8-.78.8-2.07 0-2.86zM5.41 20L4 18.59l7.72-7.72 1.47 1.35L5.41 20z\"/>\n",
              "  </svg>\n",
              "      </button>\n",
              "      \n",
              "  <style>\n",
              "    .colab-df-container {\n",
              "      display:flex;\n",
              "      flex-wrap:wrap;\n",
              "      gap: 12px;\n",
              "    }\n",
              "\n",
              "    .colab-df-convert {\n",
              "      background-color: #E8F0FE;\n",
              "      border: none;\n",
              "      border-radius: 50%;\n",
              "      cursor: pointer;\n",
              "      display: none;\n",
              "      fill: #1967D2;\n",
              "      height: 32px;\n",
              "      padding: 0 0 0 0;\n",
              "      width: 32px;\n",
              "    }\n",
              "\n",
              "    .colab-df-convert:hover {\n",
              "      background-color: #E2EBFA;\n",
              "      box-shadow: 0px 1px 2px rgba(60, 64, 67, 0.3), 0px 1px 3px 1px rgba(60, 64, 67, 0.15);\n",
              "      fill: #174EA6;\n",
              "    }\n",
              "\n",
              "    [theme=dark] .colab-df-convert {\n",
              "      background-color: #3B4455;\n",
              "      fill: #D2E3FC;\n",
              "    }\n",
              "\n",
              "    [theme=dark] .colab-df-convert:hover {\n",
              "      background-color: #434B5C;\n",
              "      box-shadow: 0px 1px 3px 1px rgba(0, 0, 0, 0.15);\n",
              "      filter: drop-shadow(0px 1px 2px rgba(0, 0, 0, 0.3));\n",
              "      fill: #FFFFFF;\n",
              "    }\n",
              "  </style>\n",
              "\n",
              "      <script>\n",
              "        const buttonEl =\n",
              "          document.querySelector('#df-25230baa-13b4-4874-aca2-56e97ea036bf button.colab-df-convert');\n",
              "        buttonEl.style.display =\n",
              "          google.colab.kernel.accessAllowed ? 'block' : 'none';\n",
              "\n",
              "        async function convertToInteractive(key) {\n",
              "          const element = document.querySelector('#df-25230baa-13b4-4874-aca2-56e97ea036bf');\n",
              "          const dataTable =\n",
              "            await google.colab.kernel.invokeFunction('convertToInteractive',\n",
              "                                                     [key], {});\n",
              "          if (!dataTable) return;\n",
              "\n",
              "          const docLinkHtml = 'Like what you see? Visit the ' +\n",
              "            '<a target=\"_blank\" href=https://colab.research.google.com/notebooks/data_table.ipynb>data table notebook</a>'\n",
              "            + ' to learn more about interactive tables.';\n",
              "          element.innerHTML = '';\n",
              "          dataTable['output_type'] = 'display_data';\n",
              "          await google.colab.output.renderOutput(dataTable, element);\n",
              "          const docLink = document.createElement('div');\n",
              "          docLink.innerHTML = docLinkHtml;\n",
              "          element.appendChild(docLink);\n",
              "        }\n",
              "      </script>\n",
              "    </div>\n",
              "  </div>\n",
              "  "
            ]
          },
          "metadata": {},
          "execution_count": 8
        }
      ]
    },
    {
      "cell_type": "code",
      "source": [
        "datos.info()"
      ],
      "metadata": {
        "colab": {
          "base_uri": "https://localhost:8080/"
        },
        "id": "aUEtpebN_L_J",
        "outputId": "9df6fc67-afba-4315-f57c-22e918f3575a"
      },
      "execution_count": 9,
      "outputs": [
        {
          "output_type": "stream",
          "name": "stdout",
          "text": [
            "<class 'pandas.core.frame.DataFrame'>\n",
            "RangeIndex: 100000 entries, 0 to 99999\n",
            "Data columns (total 9 columns):\n",
            " #   Column               Non-Null Count   Dtype  \n",
            "---  ------               --------------   -----  \n",
            " 0   gender               100000 non-null  int64  \n",
            " 1   age                  100000 non-null  float64\n",
            " 2   hypertension         100000 non-null  int64  \n",
            " 3   heart_disease        100000 non-null  int64  \n",
            " 4   smoking_history      100000 non-null  int64  \n",
            " 5   bmi                  100000 non-null  float64\n",
            " 6   HbA1c_level          100000 non-null  float64\n",
            " 7   blood_glucose_level  100000 non-null  int64  \n",
            " 8   diabetes             100000 non-null  int64  \n",
            "dtypes: float64(3), int64(6)\n",
            "memory usage: 6.9 MB\n"
          ]
        }
      ]
    },
    {
      "cell_type": "code",
      "source": [
        "columnas_X = ['gender', 'age', 'hypertension', 'heart_disease', 'smoking_history', 'bmi', 'HbA1c_level', 'blood_glucose_level']\n",
        "columnas_y = ['diabetes']\n",
        "\n",
        "X_datos = datos[columnas_X].values\n",
        "y_datos = datos[columnas_y].values"
      ],
      "metadata": {
        "id": "CYSBPZRUG_Tz"
      },
      "execution_count": 10,
      "outputs": []
    },
    {
      "cell_type": "code",
      "execution_count": 11,
      "metadata": {
        "colab": {
          "base_uri": "https://localhost:8080/"
        },
        "id": "um6JyDISZdAU",
        "outputId": "19462aa2-58b2-4e70-b2f7-798f95c771dd"
      },
      "outputs": [
        {
          "output_type": "stream",
          "name": "stdout",
          "text": [
            "[[  2.    80.     0.   ...  25.19   6.6  140.  ]\n",
            " [  2.    54.     0.   ...  27.32   6.6   80.  ]\n",
            " [  1.    28.     0.   ...  27.32   5.7  158.  ]\n",
            " ...\n",
            " [  1.    66.     0.   ...  27.83   5.7  155.  ]\n",
            " [  2.    24.     0.   ...  35.42   4.   100.  ]\n",
            " [  2.    57.     0.   ...  22.43   6.6   90.  ]]\n",
            "[[0]\n",
            " [0]\n",
            " [0]\n",
            " ...\n",
            " [0]\n",
            " [0]\n",
            " [0]]\n"
          ]
        }
      ],
      "source": [
        "# # Cargar datos\n",
        "# # Las dos primeras columnas contienen la nota de dos examenes y la tercera columna\n",
        "# # contiene la etiqueta que indica si el alumno ingreso o no a la universidad.\n",
        "# data = np.genfromtxt('/content/drive/MyDrive/Colab Notebooks/SIS420/06 Machine learning/Datasets/diabetes_prediction_dataset.csv', delimiter=',')\n",
        "# X, y = data[:, 0:8], data[:, 8]\n",
        "# print(X.head())\n",
        "# print(\"####\"*30)\n",
        "# print(y.head())\n",
        "print(X_datos)\n",
        "print(y_datos)"
      ]
    },
    {
      "cell_type": "code",
      "source": [
        "X_norm, mu, sigma = featureNormalize(X_datos)"
      ],
      "metadata": {
        "id": "LXouaWH4C7wk"
      },
      "execution_count": null,
      "outputs": []
    },
    {
      "cell_type": "code",
      "source": [
        "# X = X_norm\n",
        "X = X_datos\n",
        "y = y_datos\n",
        "print(X[5])"
      ],
      "metadata": {
        "colab": {
          "base_uri": "https://localhost:8080/"
        },
        "id": "iiBtfuMBDWDJ",
        "outputId": "3eebe14a-5b75-4774-b2c6-d26596dd41d9"
      },
      "execution_count": 12,
      "outputs": [
        {
          "output_type": "stream",
          "name": "stdout",
          "text": [
            "[ 2.   20.    0.    0.    2.   27.32  6.6  85.  ]\n"
          ]
        }
      ]
    },
    {
      "cell_type": "markdown",
      "metadata": {
        "id": "irslaRiBZdAV"
      },
      "source": [
        "### 1.1 Visualizar los datos\n",
        "\n",
        "Antes de comenzar a implementar cualquier algoritmo de aprendizaje, siempre es bueno visualizar los datos si es posible. Mostramos los datos en una gráfica bidimensional llamando a la función `plotData`. Se completará el código en `plotData` para que muestre una figura donde los ejes son los dos puntajes de los dos examenes, los ejemplos positivos y negativos se muestran con diferentes marcadores."
      ]
    },
    {
      "cell_type": "code",
      "execution_count": 13,
      "metadata": {
        "id": "3EkDCLkNZdAV"
      },
      "outputs": [],
      "source": [
        "def plotData(X, y):\n",
        "    # Gragica los puntos de datos X y y en una nueva figura. Grafica los puntos de datos con * para los positivos y \n",
        "    # o para los negativos.\n",
        "    \n",
        "    # Crea una nueva figura\n",
        "    fig = pyplot.figure()\n",
        "\n",
        "    # Find Indices of Positive and Negative Examples\n",
        "    pos = y == 1\n",
        "    neg = y == 0\n",
        "\n",
        "    # Plot Examples\n",
        "    pyplot.plot(X[pos, 0], X[pos, 1], 'k*', lw=2, ms=10)\n",
        "    pyplot.plot(X[neg, 0], X[neg, 1], 'ko', mfc='y', ms=8, mec='k', mew=1)\n",
        "    "
      ]
    },
    {
      "cell_type": "markdown",
      "metadata": {
        "id": "CdZ9hm0pZdAV"
      },
      "source": [
        "Se llama a la función implementada para mostrar los datos cargados:"
      ]
    },
    {
      "cell_type": "code",
      "execution_count": null,
      "metadata": {
        "id": "gs2uuWUiZdAW"
      },
      "outputs": [],
      "source": [
        "# plotData(X[:,0:1], y)\n",
        "# adiciona etiquetas para los ejes\n",
        "# pyplot.xlabel('Calificación Examen 1')\n",
        "# pyplot.ylabel('Calificación Examen 2')\n",
        "# pyplot.legend(['Admitido', 'No admitido'])\n",
        "# pass"
      ]
    },
    {
      "cell_type": "markdown",
      "metadata": {
        "id": "57fXzl1SZdAW"
      },
      "source": [
        "<a id=\"section1\"></a>\n",
        "### 1.2 Implementacion\n",
        "\n",
        "#### 1.2.1 Fución Sigmoidea\n",
        "\n",
        "La hipotesis para la regresión logistica se define como:\n",
        "\n",
        "$$ h_\\theta(x) = g(\\theta^T x)$$\n",
        "\n",
        "donde la función $g$ is la función sigmoidea. La función sigmoidea se define como: \n",
        "\n",
        "$$g(z) = \\frac{1}{1+e^{-z}}$$.\n",
        "\n",
        "Los resultados que debe generar la funcion sigmoidea para valores positivos amplios de `x`, deben ser cercanos a 1, mientras que para valores negativos grandes, la sigmoide debe generar valores cercanos 0. La evaluacion de `sigmoid(0)` debe dar un resultado exacto de 0.5. Esta funcion tambien debe poder trabajar con vectores y matrices."
      ]
    },
    {
      "cell_type": "code",
      "execution_count": 14,
      "metadata": {
        "id": "S_GUyxXSZdAW"
      },
      "outputs": [],
      "source": [
        "def sigmoid(z):\n",
        "    # Calcula la sigmoide de una entrada z\n",
        "    # convierte la intrada a un arreglo numpy\n",
        "    z = np.array(z)\n",
        "  \n",
        "    g = np.zeros(z.shape)\n",
        "\n",
        "    g = 1 / (1 + np.exp(-z))\n",
        "\n",
        "    return g"
      ]
    },
    {
      "cell_type": "markdown",
      "metadata": {
        "id": "kH9rucyDZdAW"
      },
      "source": [
        "Se calcula el valor de la sigmoide aplicando la funcion sigmoid con `z=0`, se debe obtener un resultado de 0.5. RE recomienda experimentar con otros valores de `z`."
      ]
    },
    {
      "cell_type": "code",
      "execution_count": 15,
      "metadata": {
        "colab": {
          "base_uri": "https://localhost:8080/"
        },
        "id": "A8grz75iZdAW",
        "outputId": "2c0cdb6c-c89d-4106-c166-adc204a17ec8"
      },
      "outputs": [
        {
          "output_type": "stream",
          "name": "stdout",
          "text": [
            "g( 0 ) =  0.5\n"
          ]
        }
      ],
      "source": [
        "# Prueba la implementacion de la funcion sigmoid\n",
        "z = 0\n",
        "g = sigmoid(z)\n",
        "\n",
        "print('g(', z, ') = ', g)"
      ]
    },
    {
      "cell_type": "markdown",
      "metadata": {
        "id": "jHl-l-fKZdAW"
      },
      "source": [
        "<a id=\"section2\"></a>\n",
        "#### 1.2.2 Función de Costo y Gradiente\n",
        "\n",
        "Se implementa la funcion cost y gradient, para la regresión logistica. Antes de continuar es importante agregar el termino de intercepcion a X. "
      ]
    },
    {
      "cell_type": "code",
      "execution_count": 16,
      "metadata": {
        "id": "EuL4cE0rZdAW"
      },
      "outputs": [],
      "source": [
        "# Configurar la matriz adecuadamente, y agregar una columna de unos que corresponde al termino de intercepción. \n",
        "m, n = X.shape\n",
        "# Agraga el termino de intercepción a A\n",
        "X = np.concatenate([np.ones((m, 1)), X], axis=1)\n",
        "\n"
      ]
    },
    {
      "cell_type": "code",
      "source": [
        "print(X[15])"
      ],
      "metadata": {
        "colab": {
          "base_uri": "https://localhost:8080/"
        },
        "id": "r2o_24PlDwYc",
        "outputId": "ead9aa9c-3182-43ae-d4ab-df9862254417"
      },
      "execution_count": 17,
      "outputs": [
        {
          "output_type": "stream",
          "name": "stdout",
          "text": [
            "[  1.     1.    78.     0.     0.     1.    27.32   6.6  126.  ]\n"
          ]
        }
      ]
    },
    {
      "cell_type": "markdown",
      "metadata": {
        "id": "edCdG2kXZdAW"
      },
      "source": [
        "La funcion de costo en una regresión logistica es:\n",
        "\n",
        "$$ J(\\theta) = \\frac{1}{m} \\sum_{i=1}^{m} \\left[ -y^{(i)} \\log\\left(h_\\theta\\left( x^{(i)} \\right) \\right) - \\left( 1 - y^{(i)}\\right) \\log \\left( 1 - h_\\theta\\left( x^{(i)} \\right) \\right) \\right]$$\n",
        "\n",
        "y el gradiente del costo es un vector de la misma longitud como $\\theta$ donde el elemento $j^{th}$ (para $j = 0, 1, \\cdots , n$) se define como:\n",
        "\n",
        "$$ \\frac{\\partial J(\\theta)}{\\partial \\theta_j} = \\frac{1}{m} \\sum_{i=1}^m \\left( h_\\theta \\left( x^{(i)} \\right) - y^{(i)} \\right) x_j^{(i)} $$\n",
        "\n",
        "Si bien este gradiente parece idéntico al gradiente de regresión lineal, la fórmula es diferente porque la regresión lineal y logística tienen diferentes definiciones de $h_\\theta(x)$.\n",
        "<a id=\"costFunction\"></a>"
      ]
    },
    {
      "cell_type": "code",
      "execution_count": 18,
      "metadata": {
        "id": "6uLxP-sOZdAX"
      },
      "outputs": [],
      "source": [
        "def calcularCosto(theta, X, y):\n",
        "    # Inicializar algunos valores utiles\n",
        "    m = y.size  # numero de ejemplos de entrenamiento\n",
        "\n",
        "    J = 0\n",
        "    h = sigmoid(X.dot(theta.T))\n",
        "    J = (1 / m) * np.sum(-y.dot(np.log(h)) - (1 - y).dot(np.log(1 - h)))\n",
        "    \n",
        "    return J"
      ]
    },
    {
      "cell_type": "code",
      "execution_count": 19,
      "metadata": {
        "id": "3XJTMRlbZdAX"
      },
      "outputs": [],
      "source": [
        "def descensoGradiente(theta, X, y, alpha, num_iters):\n",
        "    # Inicializa algunos valores\n",
        "    m = y.shape[0] # numero de ejemplos de entrenamiento\n",
        "    \n",
        "    # realiza una copia de theta, el cual será acutalizada por el descenso por el gradiente\n",
        "    theta = theta.copy()\n",
        "    J_history = []\n",
        "    \n",
        "    for i in range(num_iters):\n",
        "        h = sigmoid(X.dot(theta.T))\n",
        "        theta = theta - (alpha / m) * (h - y).dot(X)\n",
        "       \n",
        "        J_history.append(calcularCosto(theta, X, y))\n",
        "    return theta, J_history"
      ]
    },
    {
      "cell_type": "code",
      "execution_count": 1,
      "metadata": {
        "scrolled": true,
        "id": "MlfpkcLDZdAX",
        "colab": {
          "base_uri": "https://localhost:8080/",
          "height": 236
        },
        "outputId": "85e946b2-4982-427f-a490-14f233b9eb50"
      },
      "outputs": [
        {
          "output_type": "error",
          "ename": "NameError",
          "evalue": "ignored",
          "traceback": [
            "\u001b[0;31m---------------------------------------------------------------------------\u001b[0m",
            "\u001b[0;31mNameError\u001b[0m                                 Traceback (most recent call last)",
            "\u001b[0;32m<ipython-input-1-62a88e1cec50>\u001b[0m in \u001b[0;36m<cell line: 6>\u001b[0;34m()\u001b[0m\n\u001b[1;32m      4\u001b[0m \u001b[0;34m\u001b[0m\u001b[0m\n\u001b[1;32m      5\u001b[0m \u001b[0;31m# inicializa theta y ejecuta el descenso por el gradiente\u001b[0m\u001b[0;34m\u001b[0m\u001b[0;34m\u001b[0m\u001b[0m\n\u001b[0;32m----> 6\u001b[0;31m \u001b[0mtheta\u001b[0m \u001b[0;34m=\u001b[0m \u001b[0mnp\u001b[0m\u001b[0;34m.\u001b[0m\u001b[0mzeros\u001b[0m\u001b[0;34m(\u001b[0m\u001b[0;36m9\u001b[0m\u001b[0;34m)\u001b[0m\u001b[0;34m\u001b[0m\u001b[0;34m\u001b[0m\u001b[0m\n\u001b[0m\u001b[1;32m      7\u001b[0m \u001b[0mtheta\u001b[0m\u001b[0;34m,\u001b[0m \u001b[0mJ_history\u001b[0m \u001b[0;34m=\u001b[0m \u001b[0mdescensoGradiente\u001b[0m\u001b[0;34m(\u001b[0m\u001b[0mtheta\u001b[0m\u001b[0;34m,\u001b[0m \u001b[0mX\u001b[0m\u001b[0;34m,\u001b[0m \u001b[0my\u001b[0m\u001b[0;34m,\u001b[0m \u001b[0malpha\u001b[0m\u001b[0;34m,\u001b[0m \u001b[0mnum_iters\u001b[0m\u001b[0;34m)\u001b[0m\u001b[0;34m\u001b[0m\u001b[0;34m\u001b[0m\u001b[0m\n\u001b[1;32m      8\u001b[0m \u001b[0;34m\u001b[0m\u001b[0m\n",
            "\u001b[0;31mNameError\u001b[0m: name 'np' is not defined"
          ]
        }
      ],
      "source": [
        "# Elegir algun valor para alpha (probar varias alternativas)\n",
        "alpha = 0.0001\n",
        "num_iters = 100\n",
        "\n",
        "# inicializa theta y ejecuta el descenso por el gradiente\n",
        "theta = np.zeros(9)\n",
        "theta, J_history = descensoGradiente(theta, X, y, alpha, num_iters)\n",
        "\n",
        "# Grafica la convergencia del costo\n",
        "pyplot.plot(np.arange(len(J_history)), J_history, lw=2)\n",
        "pyplot.xlabel('Numero de iteraciones')\n",
        "pyplot.ylabel('Costo J')\n",
        "\n",
        "# Muestra los resultados del descenso por el gradiente\n",
        "print('theta calculado por el descenso por el gradiente: {:s}'.format(str(theta)))\n",
        "\n",
        "# verificar si ingresa o no a la universidad\n",
        "X_array = [1, 0, 44.0, 0, 0, 0, 19.31, 6.5, 200]\n",
        "aprueba = sigmoid(np.dot(X_array, theta))   # Se debe cambiar esto\n",
        "\n",
        "print(f\"Un estudiante con nota del examen 1: {X_array[1]} y nota del examen 2: {X_array[2]} (usando el descenso por el gradiente):{aprueba}\")"
      ]
    },
    {
      "cell_type": "code",
      "execution_count": null,
      "metadata": {
        "id": "aS0l6psTZdAX"
      },
      "outputs": [],
      "source": [
        "def costFunction(theta, X, y):\n",
        "    # Inicializar algunos valores utiles\n",
        "    m = y.size  # numero de ejemplos de entrenamiento\n",
        "\n",
        "    J = 0\n",
        "    grad = np.zeros(theta.shape)\n",
        "    print(\"###\"*30)\n",
        "    print(grad.shape)\n",
        "    h = sigmoid(X.dot(theta.T))\n",
        "    print(h.shape)\n",
        "    print(y.shape)\n",
        "    print((1 - y).dot(np.log(1 - h)))\n",
        "    J = (1 / m) * np.sum(-y.dot(np.log(h)) - (1 - y).dot(np.log(1 - h)))\n",
        "    grad = (1 / m) * (h - y).dot(X)\n",
        "    \n",
        "    return J, grad"
      ]
    },
    {
      "cell_type": "markdown",
      "metadata": {
        "id": "qcerWoyfZdAX"
      },
      "source": [
        "Se prueba la funcion `costFunction` utilizando dos casos de prueba para $\\theta$."
      ]
    },
    {
      "cell_type": "code",
      "execution_count": null,
      "metadata": {
        "id": "lBqgMzzvZdAX",
        "colab": {
          "base_uri": "https://localhost:8080/",
          "height": 479
        },
        "outputId": "962c96e5-cdcc-46b7-e3b6-b53c147758a0"
      },
      "outputs": [
        {
          "output_type": "stream",
          "name": "stdout",
          "text": [
            "[[0. 0. 0. 0. 0. 0. 0. 0. 0.]]\n",
            "(1, 9)\n",
            "(100000, 9) (100000, 1)\n",
            "##########################################################################################\n",
            "(1, 9)\n",
            "(100000, 1)\n",
            "(100000, 1)\n"
          ]
        },
        {
          "output_type": "error",
          "ename": "ValueError",
          "evalue": "ignored",
          "traceback": [
            "\u001b[0;31m---------------------------------------------------------------------------\u001b[0m",
            "\u001b[0;31mValueError\u001b[0m                                Traceback (most recent call last)",
            "\u001b[0;32m<ipython-input-41-1a8eccc53c77>\u001b[0m in \u001b[0;36m<cell line: 8>\u001b[0;34m()\u001b[0m\n\u001b[1;32m      6\u001b[0m \u001b[0mprint\u001b[0m\u001b[0;34m(\u001b[0m\u001b[0minitial_theta\u001b[0m\u001b[0;34m.\u001b[0m\u001b[0mshape\u001b[0m\u001b[0;34m)\u001b[0m\u001b[0;34m\u001b[0m\u001b[0;34m\u001b[0m\u001b[0m\n\u001b[1;32m      7\u001b[0m \u001b[0mprint\u001b[0m\u001b[0;34m(\u001b[0m\u001b[0mX\u001b[0m\u001b[0;34m.\u001b[0m\u001b[0mshape\u001b[0m\u001b[0;34m,\u001b[0m \u001b[0my\u001b[0m\u001b[0;34m.\u001b[0m\u001b[0mshape\u001b[0m\u001b[0;34m)\u001b[0m\u001b[0;34m\u001b[0m\u001b[0;34m\u001b[0m\u001b[0m\n\u001b[0;32m----> 8\u001b[0;31m \u001b[0mcost\u001b[0m\u001b[0;34m,\u001b[0m \u001b[0mgrad\u001b[0m \u001b[0;34m=\u001b[0m \u001b[0mcostFunction\u001b[0m\u001b[0;34m(\u001b[0m\u001b[0minitial_theta\u001b[0m\u001b[0;34m,\u001b[0m \u001b[0mX\u001b[0m\u001b[0;34m,\u001b[0m \u001b[0my\u001b[0m\u001b[0;34m)\u001b[0m\u001b[0;34m\u001b[0m\u001b[0;34m\u001b[0m\u001b[0m\n\u001b[0m\u001b[1;32m      9\u001b[0m \u001b[0;34m\u001b[0m\u001b[0m\n\u001b[1;32m     10\u001b[0m \u001b[0mprint\u001b[0m\u001b[0;34m(\u001b[0m\u001b[0;34m'Costo en theta inicial (zeros): {:.3f}'\u001b[0m\u001b[0;34m.\u001b[0m\u001b[0mformat\u001b[0m\u001b[0;34m(\u001b[0m\u001b[0mcost\u001b[0m\u001b[0;34m)\u001b[0m\u001b[0;34m)\u001b[0m\u001b[0;34m\u001b[0m\u001b[0;34m\u001b[0m\u001b[0m\n",
            "\u001b[0;32m<ipython-input-40-d3c156721c54>\u001b[0m in \u001b[0;36mcostFunction\u001b[0;34m(theta, X, y)\u001b[0m\n\u001b[1;32m     10\u001b[0m     \u001b[0mprint\u001b[0m\u001b[0;34m(\u001b[0m\u001b[0mh\u001b[0m\u001b[0;34m.\u001b[0m\u001b[0mshape\u001b[0m\u001b[0;34m)\u001b[0m\u001b[0;34m\u001b[0m\u001b[0;34m\u001b[0m\u001b[0m\n\u001b[1;32m     11\u001b[0m     \u001b[0mprint\u001b[0m\u001b[0;34m(\u001b[0m\u001b[0my\u001b[0m\u001b[0;34m.\u001b[0m\u001b[0mshape\u001b[0m\u001b[0;34m)\u001b[0m\u001b[0;34m\u001b[0m\u001b[0;34m\u001b[0m\u001b[0m\n\u001b[0;32m---> 12\u001b[0;31m     \u001b[0mprint\u001b[0m\u001b[0;34m(\u001b[0m\u001b[0;34m(\u001b[0m\u001b[0;36m1\u001b[0m \u001b[0;34m-\u001b[0m \u001b[0my\u001b[0m\u001b[0;34m)\u001b[0m\u001b[0;34m.\u001b[0m\u001b[0mdot\u001b[0m\u001b[0;34m(\u001b[0m\u001b[0mnp\u001b[0m\u001b[0;34m.\u001b[0m\u001b[0mlog\u001b[0m\u001b[0;34m(\u001b[0m\u001b[0;36m1\u001b[0m \u001b[0;34m-\u001b[0m \u001b[0mh\u001b[0m\u001b[0;34m)\u001b[0m\u001b[0;34m)\u001b[0m\u001b[0;34m)\u001b[0m\u001b[0;34m\u001b[0m\u001b[0;34m\u001b[0m\u001b[0m\n\u001b[0m\u001b[1;32m     13\u001b[0m     \u001b[0mJ\u001b[0m \u001b[0;34m=\u001b[0m \u001b[0;34m(\u001b[0m\u001b[0;36m1\u001b[0m \u001b[0;34m/\u001b[0m \u001b[0mm\u001b[0m\u001b[0;34m)\u001b[0m \u001b[0;34m*\u001b[0m \u001b[0mnp\u001b[0m\u001b[0;34m.\u001b[0m\u001b[0msum\u001b[0m\u001b[0;34m(\u001b[0m\u001b[0;34m-\u001b[0m\u001b[0my\u001b[0m\u001b[0;34m.\u001b[0m\u001b[0mdot\u001b[0m\u001b[0;34m(\u001b[0m\u001b[0mnp\u001b[0m\u001b[0;34m.\u001b[0m\u001b[0mlog\u001b[0m\u001b[0;34m(\u001b[0m\u001b[0mh\u001b[0m\u001b[0;34m)\u001b[0m\u001b[0;34m)\u001b[0m \u001b[0;34m-\u001b[0m \u001b[0;34m(\u001b[0m\u001b[0;36m1\u001b[0m \u001b[0;34m-\u001b[0m \u001b[0my\u001b[0m\u001b[0;34m)\u001b[0m\u001b[0;34m.\u001b[0m\u001b[0mdot\u001b[0m\u001b[0;34m(\u001b[0m\u001b[0mnp\u001b[0m\u001b[0;34m.\u001b[0m\u001b[0mlog\u001b[0m\u001b[0;34m(\u001b[0m\u001b[0;36m1\u001b[0m \u001b[0;34m-\u001b[0m \u001b[0mh\u001b[0m\u001b[0;34m)\u001b[0m\u001b[0;34m)\u001b[0m\u001b[0;34m)\u001b[0m\u001b[0;34m\u001b[0m\u001b[0;34m\u001b[0m\u001b[0m\n\u001b[1;32m     14\u001b[0m     \u001b[0mgrad\u001b[0m \u001b[0;34m=\u001b[0m \u001b[0;34m(\u001b[0m\u001b[0;36m1\u001b[0m \u001b[0;34m/\u001b[0m \u001b[0mm\u001b[0m\u001b[0;34m)\u001b[0m \u001b[0;34m*\u001b[0m \u001b[0;34m(\u001b[0m\u001b[0mh\u001b[0m \u001b[0;34m-\u001b[0m \u001b[0my\u001b[0m\u001b[0;34m)\u001b[0m\u001b[0;34m.\u001b[0m\u001b[0mdot\u001b[0m\u001b[0;34m(\u001b[0m\u001b[0mX\u001b[0m\u001b[0;34m)\u001b[0m\u001b[0;34m\u001b[0m\u001b[0;34m\u001b[0m\u001b[0m\n",
            "\u001b[0;31mValueError\u001b[0m: shapes (100000,1) and (100000,1) not aligned: 1 (dim 1) != 100000 (dim 0)"
          ]
        }
      ],
      "source": [
        "# Inicializacion de parametros de ajuste\n",
        "# initial_theta = np.zeros(n+1)\n",
        "initial_theta = np.zeros(9)\n",
        "initial_theta = np.expand_dims(initial_theta, axis=0)\n",
        "print(initial_theta)\n",
        "print(initial_theta.shape)\n",
        "print(X.shape, y.shape)\n",
        "cost, grad = costFunction(initial_theta, X, y)\n",
        "\n",
        "print('Costo en theta inicial (zeros): {:.3f}'.format(cost))\n",
        "print('Costo esperado (aproximado): 0.693\\n')\n",
        "print(grad)\n",
        "print('Gradiente en theta inicial (zeros):')\n",
        "print('\\t[{:.4f}, {:.4f}, {:.4f}]'.format(*grad))\n",
        "print('Gradiente esperado (aproximado):\\n\\t[-0.1000, -12.0092, -11.2628]\\n')\n",
        "\n"
      ]
    },
    {
      "cell_type": "code",
      "execution_count": null,
      "metadata": {
        "id": "J1a9Cqw5ZdAX"
      },
      "outputs": [],
      "source": [
        "# Calcula y muestra el costo y el gradiente con valores de theta diferentes a cero\n",
        "\n",
        "test_theta = np.array([-24, 0.2, 0.2, -24, 0.2, 0.2, -24, 0.2, 0.2])\n",
        "#test_theta = np.array([-11.74749157, 0.09927308, 0.09316497])\n",
        "print(test_theta)\n",
        "cost, grad = costFunction(test_theta, X, y)\n",
        "\n",
        "print('Costo en theta prueba: {:.3f}'.format(cost))\n",
        "print('Costo esperado (aproximado): 0.218\\n')\n",
        "\n",
        "print('Gradiente en theta prueba:')\n",
        "print('\\t[{:.3f}, {:.3f}, {:.3f}]'.format(*grad))\n",
        "print('Gradiente esperado (aproximado):\\n\\t[0.043, 2.566, 2.647]')"
      ]
    },
    {
      "cell_type": "markdown",
      "metadata": {
        "id": "PgXbzKaiZdAX"
      },
      "source": [
        "#### 1.2.3 Parámetros de aprendizaje usando `scipy.optimize`\n",
        "\n",
        "En el codigo anterior se encontró los parámetros óptimos de un modelo de regresión lineal al implementar el descenso de gradiente. Se implemento una función de costo y se calculó su gradiente, utilizando el algoritmo del descenso por el gradiente.\n",
        "\n",
        "En lugar de realizar los pasos del descenso por el gradiente, se utilizará el [módulo `scipy.optimize`] (https://docs.scipy.org/doc/scipy/reference/optimize.html). SciPy es una biblioteca de computación numérica para `python`. Proporciona un módulo de optimización para la búsqueda y minimización de raíces. A partir de `scipy 1.0`, la función` scipy.optimize.minimize` es el método a utilizar para problemas de optimización (tanto restringidos como no restringidos).\n",
        "\n",
        "For logistic regression, you want to optimize the cost function $J(\\theta)$ with parameters $\\theta$.\n",
        "Concretely, you are going to use `optimize.minimize` to find the best parameters $\\theta$ for the logistic regression cost function, given a fixed dataset (of X and y values). You will pass to `optimize.minimize` the following inputs:\n",
        "\n",
        "Para la regresión logística, se desea optimizar la función de costo $J(\\theta)$ con los parámetros $\\theta$.\n",
        "Concretamente, se va a utilizar `optimize.minimize` para encontrar los mejores parámetros $\\theta$ para la función de costo de regresión logística, dado un dataset fijo (de valores X e y). Se pasara a `optimize.minimize` las siguientes entradas:\n",
        "\n",
        "- `costFunction`: Una función de costo que, cuando se le da el dataset de entrenamiento y un $\\theta$ particular, calcula el costo de regresión logística y el gradiente con respecto a $\\theta$ para el dataset(X, y). Es importante tener en cuenta que solo se pasa el nombre de la función sin el paréntesis. Esto indica que solo proporcionamos una referencia a esta función y no evaluamos el resultado de esta función.\n",
        "- `initial_theta`: Los valores iniciales de los parametros que se tratan de optimizar.\n",
        "- `(X, y)`: Estos son argumentos adicionales a la funcion de costo.\n",
        "- `jac`: Indicación si la función de costo devuelve el jacobiano (gradiente) junto con el valor de costo. (True)\n",
        "- `method`: Método / algoritmo de optimización a utilizar\n",
        "- `options`: Opciones adicionales que pueden ser específicas del método de optimización específico. Solo se indica al algoritmo el número máximo de iteraciones antes de que termine.\n",
        "\n",
        "Si se ha completado la `costFunction` correctamente,`optimize.minimize` convergerá en los parámetros de optimización correctos y devolverá los valores finales del costo y $\\theta$ en un objeto de clase.\n",
        "\n",
        "Al usar `optimize.minimize`, no se tuvo que escribir ningún bucle ni establecer una tasa de aprendizaje como se hizo para el descenso de gradientes. Todo esto se hace mediante `optimize.minimize`: solo se necesita proporcionar una función que calcule el costo y el gradiente.\n",
        "\n",
        "A continuación, se tiene el código para llamar a `optimize.minimize` con los argumentos correctos."
      ]
    },
    {
      "cell_type": "code",
      "execution_count": null,
      "metadata": {
        "scrolled": true,
        "id": "Eljb6fxlZdAY"
      },
      "outputs": [],
      "source": [
        "# Establecer las opciones para optimize.minimize\n",
        "options= {'maxiter': 1000}\n",
        "\n",
        "# revisar la documentacion de scipy's optimize.minimize para mayor descripcion de los parametros\n",
        "# La funcion devuekve un objeto `OptimizeResult`\n",
        "# Se utiliza el algoritmo de Newton truncado para la optimización.\n",
        "res = optimize.minimize(costFunction,\n",
        "                        initial_theta,\n",
        "                        (X, y),\n",
        "                        jac=True,\n",
        "                        method='TNC',\n",
        "                        options=options)\n",
        "\n",
        "# la propiedad fun del objeto devuelto por `OptimizeResult`\n",
        "# contiene el valor del costFunction de un theta optimizado\n",
        "cost = res.fun\n",
        "\n",
        "# Theta optimizada esta en la propiedad x\n",
        "theta = res.x\n",
        "\n",
        "# Imprimir theta en la pantalla\n",
        "print('Costo con un valor de theta encontrado por optimize.minimize: {:.3f}'.format(cost))\n",
        "print('Costo esperado (aproximado): 0.203\\n');\n",
        "\n",
        "print('theta:')\n",
        "print('\\t[{:.3f}, {:.3f}, {:.3f}]'.format(*theta))\n",
        "print('Theta esperado (aproximado):\\n\\t[-25.161, 0.206, 0.201]')"
      ]
    },
    {
      "cell_type": "markdown",
      "metadata": {
        "id": "kxNkc8Y0ZdAY"
      },
      "source": [
        "Una vez que se completa `optimize.minimize`, se usa el valor final de $\\theta$ para visualizar el límite de decisión en los datos de entrenamiento.\n",
        "\n",
        "Para hacerlo, se implementa la función `plotDecisionBoundary` para trazar el límite de decisión sobre los datos de entrenamiento."
      ]
    },
    {
      "cell_type": "code",
      "execution_count": null,
      "metadata": {
        "id": "XdE30ZWQZdAY"
      },
      "outputs": [],
      "source": [
        "def plotDecisionBoundary(plotData, theta, X, y):\n",
        "    \"\"\"\n",
        "    Grafica los puntos X y Y en una nueva figura con un limite de desicion definido por theta.\n",
        "    the data points X and y into a new figure with the decision boundary defined by theta.\n",
        "    Grafica los puntos con * para los ejemplos positivos y con o para los ejemplos negativos.\n",
        "    \n",
        "    Parametros:\n",
        "    ----------\n",
        "    plotData : func\n",
        "        A function reference for plotting the X, y data.\n",
        "\n",
        "    theta : array_like\n",
        "        Parametros para la regresion logistica. Un vecto de la forma (n+1, ).\n",
        "\n",
        "    X : array_like\n",
        "        Data set de entrada. Se supone que X es una de las siguientes:\n",
        "            1) Matriz Mx3, donde la primera columna es una columna de unos para intercepción.\n",
        "            2) Matriz MxN, N> 3, donde la primera columna son todos unos.\n",
        "\n",
        "    y : array_like\n",
        "        Vector de datos de etiquetas de la forma (m, ).\n",
        "    \"\"\"\n",
        "    # hacer que theta sera un arreglo numpy\n",
        "    theta = np.array(theta)\n",
        "\n",
        "    # Graficar los datos (recordar que la primera columna en X es la intercepción)\n",
        "    plotData(X[:, 1:3], y)\n",
        "\n",
        "    if X.shape[1] <= 3:\n",
        "        # Solo se requieren 2 puntos para definir una linea, para lo cual se eligen dos puntos finales\n",
        "        plot_x = np.array([np.min(X[:, 1]) - 2, np.max(X[:, 1]) + 2])\n",
        "\n",
        "        # Calcular la línea límite de decisión\n",
        "        plot_y = (-1. / theta[2]) * (theta[1] * plot_x + theta[0])\n",
        "\n",
        "        print(plot_x)\n",
        "        print(plot_y)\n",
        "        # Graficar y ajustar los ejes para una mejor visualización\n",
        "        pyplot.plot(plot_x, plot_y)\n",
        "\n",
        "        # Leyenda, especifica para el ejercicio\n",
        "        pyplot.legend(['Admitido', 'No admitido', 'Limite de decisión'])\n",
        "        pyplot.xlim([30, 100])\n",
        "        pyplot.ylim([30, 100])\n",
        "    else:\n",
        "        # Rango de la grilla\n",
        "        u = np.linspace(-1, 1.5, 50)\n",
        "        v = np.linspace(-1, 1.5, 50)\n",
        "\n",
        "        z = np.zeros((u.size, v.size))\n",
        "        # Evalua z = theta*x sobre la grilla\n",
        "        for i, ui in enumerate(u):\n",
        "            for j, vj in enumerate(v):\n",
        "                z[i, j] = np.dot(mapFeature(ui, vj), theta)\n",
        "\n",
        "        z = z.T  # importante transponer z antes de llamar al contorno\n",
        "        # print(z)\n",
        "\n",
        "        # Plot z = 0\n",
        "        pyplot.contour(u, v, z, levels=[0], linewidths=2, colors='g')\n",
        "        pyplot.contourf(u, v, z, levels=[np.min(z), 0, np.max(z)], cmap='Greens', alpha=0.4)\n"
      ]
    },
    {
      "cell_type": "code",
      "execution_count": null,
      "metadata": {
        "id": "6CRAVWtwZdAY"
      },
      "outputs": [],
      "source": [
        "# Graficar limites\n",
        "plotDecisionBoundary(plotData, theta, X, y)"
      ]
    },
    {
      "cell_type": "markdown",
      "metadata": {
        "id": "7Oj-PqdzZdAY"
      },
      "source": [
        "<a id=\"section4\"></a>\n",
        "#### 1.2.4 Evaluación de la regresión logistica\n",
        "\n",
        "Después de aprender los parámetros, se puede usar el modelo para predecir si un estudiante en particular será admitido. Para un estudiante con una puntuación en el Examen 1 de 45 y una puntuación en el Examen 2 de 85, debe esperar ver una probabilidad de admisión de 0,776. Otra forma de evaluar la calidad de los parámetros que hemos encontrado es ver qué tan bien predice el modelo aprendido en nuestro conjunto de entrenamiento. "
      ]
    },
    {
      "cell_type": "code",
      "execution_count": null,
      "metadata": {
        "id": "pjGXXP93ZdAY"
      },
      "outputs": [],
      "source": [
        "def predict(theta, X):\n",
        "    \"\"\"\n",
        "    Predecir si la etiqueta es 0 o 1 mediante regresión logística aprendida.\n",
        "    Calcula las predicciones para X usando un umbral en 0.5 (es decir, si sigmoide (theta.T * x)> = 0.5, predice 1)\n",
        "\n",
        "    Parametros\n",
        "    ----------\n",
        "    theta : array_like\n",
        "        Parametros para regresion logistica. Un vecto de la forma (n+1, ).\n",
        "    \n",
        "    X : array_like\n",
        "        Datos utilizados para el calculo de las predicciones. \n",
        "        La fila es el numero de los puntos para calcular las predicciones, \n",
        "        y las columnas con el numero de caracteristicas.\n",
        "\n",
        "    Devuelve\n",
        "    -------\n",
        "    p : array_like\n",
        "        Predicciones y 0 o 1 para cada fila en X. \n",
        "    \"\"\"\n",
        "    m = X.shape[0] # Numero de ejemplo de entrenamiento\n",
        "\n",
        "    p = np.zeros(m)\n",
        "\n",
        "    p = np.round(sigmoid(X.dot(theta.T)))\n",
        "    return p"
      ]
    },
    {
      "cell_type": "markdown",
      "metadata": {
        "id": "fjSh9NdRZdAY"
      },
      "source": [
        "Una vez entrenado el modelo se procede a realizar la prediccion y evaluación de los resultados de predecir cual es el valor que vota el modelo para todos los datos utilizados en el entrenamiento."
      ]
    },
    {
      "cell_type": "code",
      "execution_count": null,
      "metadata": {
        "id": "bMHwN5OFZdAY"
      },
      "outputs": [],
      "source": [
        "#  Predice la probabilidad de ingreso para un estudiante con nota de 45 en el examen 1 y nota de 85 en el examen 2\n",
        "prob = sigmoid(np.dot([1, 45, 85], theta))\n",
        "print('Para un estudiante con notas de 45 y 85, se predice una probabilidad de admisión de: {:.3f}%'.format(prob))\n",
        "print('Valor esperado: 0.775 +/- 0.002\\n')\n",
        "\n",
        "# Compute accuracy on our training set\n",
        "p = predict(theta, X)\n",
        "print('Precisión de entrenamiento: {:.2f} %'.format(np.mean(p == y) * 100))\n",
        "print('Precisión esperada (aproximadamente): 89.00 %')"
      ]
    }
  ],
  "metadata": {
    "kernelspec": {
      "display_name": "Python 3",
      "language": "python",
      "name": "python3"
    },
    "language_info": {
      "codemirror_mode": {
        "name": "ipython",
        "version": 3
      },
      "file_extension": ".py",
      "mimetype": "text/x-python",
      "name": "python",
      "nbconvert_exporter": "python",
      "pygments_lexer": "ipython3",
      "version": "3.8.8"
    },
    "colab": {
      "provenance": [],
      "gpuType": "T4"
    },
    "gpuClass": "standard"
  },
  "nbformat": 4,
  "nbformat_minor": 0
}