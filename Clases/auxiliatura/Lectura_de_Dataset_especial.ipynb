{
  "nbformat": 4,
  "nbformat_minor": 0,
  "metadata": {
    "colab": {
      "provenance": []
    },
    "kernelspec": {
      "name": "python3",
      "display_name": "Python 3"
    },
    "language_info": {
      "name": "python"
    }
  },
  "cells": [
    {
      "cell_type": "code",
      "execution_count": 1,
      "metadata": {
        "id": "xNbvPv1U_fTP"
      },
      "outputs": [],
      "source": [
        "import pandas as pd"
      ]
    },
    {
      "cell_type": "code",
      "source": [
        "# Importar libreria para dividir entrenamiento y prueba\n",
        "from sklearn.model_selection import train_test_split"
      ],
      "metadata": {
        "id": "7I7bayJ9ERXG"
      },
      "execution_count": 6,
      "outputs": []
    },
    {
      "cell_type": "code",
      "source": [
        "# Especificar la ruta del archivo\n",
        "file_path = \"/content/pima-indians-diabetes.csv\""
      ],
      "metadata": {
        "id": "WfTH_QsPAISg"
      },
      "execution_count": 2,
      "outputs": []
    },
    {
      "cell_type": "code",
      "source": [
        "# Asignar encabezado\n",
        "nombre_columnas = ['Number of times pregnant', 'Plasma glucose concentration a 2 hours in an oral glucose tolerance test', 'Diastolic blood pressure (mm Hg)', 'Triceps skin fold thickness (mm)', '2-Hour serum insulin (mu U/ml)', 'Body mass index (weight in kg/(height in m)^2)', 'Diabetes pedigree function', 'Age (years)', 'Class variable (0 or 1)']\n",
        "\n",
        "# Leer dataset\n",
        "data = pd.read_csv(file_path, header=None, delimiter=',', skiprows=9, names=nombre_columnas)"
      ],
      "metadata": {
        "id": "TmNnZwHzAtMG"
      },
      "execution_count": 3,
      "outputs": []
    },
    {
      "cell_type": "code",
      "source": [
        "print(data)"
      ],
      "metadata": {
        "colab": {
          "base_uri": "https://localhost:8080/"
        },
        "id": "eDOrpvtZB0xl",
        "outputId": "a49fda16-67a0-4db7-8f52-3a60da1db28b"
      },
      "execution_count": 4,
      "outputs": [
        {
          "output_type": "stream",
          "name": "stdout",
          "text": [
            "     Number of times pregnant  \\\n",
            "0                           6   \n",
            "1                           1   \n",
            "2                           8   \n",
            "3                           1   \n",
            "4                           0   \n",
            "..                        ...   \n",
            "763                        10   \n",
            "764                         2   \n",
            "765                         5   \n",
            "766                         1   \n",
            "767                         1   \n",
            "\n",
            "     Plasma glucose concentration a 2 hours in an oral glucose tolerance test  \\\n",
            "0                                                  148                          \n",
            "1                                                   85                          \n",
            "2                                                  183                          \n",
            "3                                                   89                          \n",
            "4                                                  137                          \n",
            "..                                                 ...                          \n",
            "763                                                101                          \n",
            "764                                                122                          \n",
            "765                                                121                          \n",
            "766                                                126                          \n",
            "767                                                 93                          \n",
            "\n",
            "     Diastolic blood pressure (mm Hg)  Triceps skin fold thickness (mm)  \\\n",
            "0                                  72                                35   \n",
            "1                                  66                                29   \n",
            "2                                  64                                 0   \n",
            "3                                  66                                23   \n",
            "4                                  40                                35   \n",
            "..                                ...                               ...   \n",
            "763                                76                                48   \n",
            "764                                70                                27   \n",
            "765                                72                                23   \n",
            "766                                60                                 0   \n",
            "767                                70                                31   \n",
            "\n",
            "     2-Hour serum insulin (mu U/ml)  \\\n",
            "0                                 0   \n",
            "1                                 0   \n",
            "2                                 0   \n",
            "3                                94   \n",
            "4                               168   \n",
            "..                              ...   \n",
            "763                             180   \n",
            "764                               0   \n",
            "765                             112   \n",
            "766                               0   \n",
            "767                               0   \n",
            "\n",
            "     Body mass index (weight in kg/(height in m)^2)  \\\n",
            "0                                              33.6   \n",
            "1                                              26.6   \n",
            "2                                              23.3   \n",
            "3                                              28.1   \n",
            "4                                              43.1   \n",
            "..                                              ...   \n",
            "763                                            32.9   \n",
            "764                                            36.8   \n",
            "765                                            26.2   \n",
            "766                                            30.1   \n",
            "767                                            30.4   \n",
            "\n",
            "     Diabetes pedigree function  Age (years)  Class variable (0 or 1)  \n",
            "0                         0.627           50                        1  \n",
            "1                         0.351           31                        0  \n",
            "2                         0.672           32                        1  \n",
            "3                         0.167           21                        0  \n",
            "4                         2.288           33                        1  \n",
            "..                          ...          ...                      ...  \n",
            "763                       0.171           63                        0  \n",
            "764                       0.340           27                        0  \n",
            "765                       0.245           30                        0  \n",
            "766                       0.349           47                        1  \n",
            "767                       0.315           23                        0  \n",
            "\n",
            "[768 rows x 9 columns]\n"
          ]
        }
      ]
    },
    {
      "cell_type": "code",
      "source": [
        "data.info()"
      ],
      "metadata": {
        "colab": {
          "base_uri": "https://localhost:8080/"
        },
        "id": "NpyQpGynCRjS",
        "outputId": "6ee5875b-179d-42d8-9104-10b51abade7a"
      },
      "execution_count": 5,
      "outputs": [
        {
          "output_type": "stream",
          "name": "stdout",
          "text": [
            "<class 'pandas.core.frame.DataFrame'>\n",
            "RangeIndex: 768 entries, 0 to 767\n",
            "Data columns (total 9 columns):\n",
            " #   Column                                                                    Non-Null Count  Dtype  \n",
            "---  ------                                                                    --------------  -----  \n",
            " 0   Number of times pregnant                                                  768 non-null    int64  \n",
            " 1   Plasma glucose concentration a 2 hours in an oral glucose tolerance test  768 non-null    int64  \n",
            " 2   Diastolic blood pressure (mm Hg)                                          768 non-null    int64  \n",
            " 3   Triceps skin fold thickness (mm)                                          768 non-null    int64  \n",
            " 4   2-Hour serum insulin (mu U/ml)                                            768 non-null    int64  \n",
            " 5   Body mass index (weight in kg/(height in m)^2)                            768 non-null    float64\n",
            " 6   Diabetes pedigree function                                                768 non-null    float64\n",
            " 7   Age (years)                                                               768 non-null    int64  \n",
            " 8   Class variable (0 or 1)                                                   768 non-null    int64  \n",
            "dtypes: float64(2), int64(7)\n",
            "memory usage: 54.1 KB\n"
          ]
        }
      ]
    },
    {
      "cell_type": "code",
      "source": [
        "# Division de dataset en entrenamiento y prueba\n",
        "train_data, test_data = train_test_split(data, test_size=0.2, random_state=42)"
      ],
      "metadata": {
        "id": "CdeGVy_yEiaz"
      },
      "execution_count": 7,
      "outputs": []
    },
    {
      "cell_type": "code",
      "source": [
        "print(train_data)"
      ],
      "metadata": {
        "colab": {
          "base_uri": "https://localhost:8080/"
        },
        "id": "XmRBMGO3FdJ3",
        "outputId": "f8eae303-3de2-471f-d949-6558954f5387"
      },
      "execution_count": 8,
      "outputs": [
        {
          "output_type": "stream",
          "name": "stdout",
          "text": [
            "     Number of times pregnant  \\\n",
            "60                          2   \n",
            "618                         9   \n",
            "346                         1   \n",
            "294                         0   \n",
            "231                         6   \n",
            "..                        ...   \n",
            "71                          5   \n",
            "106                         1   \n",
            "270                        10   \n",
            "435                         0   \n",
            "102                         0   \n",
            "\n",
            "     Plasma glucose concentration a 2 hours in an oral glucose tolerance test  \\\n",
            "60                                                  84                          \n",
            "618                                                112                          \n",
            "346                                                139                          \n",
            "294                                                161                          \n",
            "231                                                134                          \n",
            "..                                                 ...                          \n",
            "71                                                 139                          \n",
            "106                                                 96                          \n",
            "270                                                101                          \n",
            "435                                                141                          \n",
            "102                                                125                          \n",
            "\n",
            "     Diastolic blood pressure (mm Hg)  Triceps skin fold thickness (mm)  \\\n",
            "60                                  0                                 0   \n",
            "618                                82                                24   \n",
            "346                                46                                19   \n",
            "294                                50                                 0   \n",
            "231                                80                                37   \n",
            "..                                ...                               ...   \n",
            "71                                 64                                35   \n",
            "106                               122                                 0   \n",
            "270                                86                                37   \n",
            "435                                 0                                 0   \n",
            "102                                96                                 0   \n",
            "\n",
            "     2-Hour serum insulin (mu U/ml)  \\\n",
            "60                                0   \n",
            "618                               0   \n",
            "346                              83   \n",
            "294                               0   \n",
            "231                             370   \n",
            "..                              ...   \n",
            "71                              140   \n",
            "106                               0   \n",
            "270                               0   \n",
            "435                               0   \n",
            "102                               0   \n",
            "\n",
            "     Body mass index (weight in kg/(height in m)^2)  \\\n",
            "60                                              0.0   \n",
            "618                                            28.2   \n",
            "346                                            28.7   \n",
            "294                                            21.9   \n",
            "231                                            46.2   \n",
            "..                                              ...   \n",
            "71                                             28.6   \n",
            "106                                            22.4   \n",
            "270                                            45.6   \n",
            "435                                            42.4   \n",
            "102                                            22.5   \n",
            "\n",
            "     Diabetes pedigree function  Age (years)  Class variable (0 or 1)  \n",
            "60                        0.304           21                        0  \n",
            "618                       1.282           50                        1  \n",
            "346                       0.654           22                        0  \n",
            "294                       0.254           65                        0  \n",
            "231                       0.238           46                        1  \n",
            "..                          ...          ...                      ...  \n",
            "71                        0.411           26                        0  \n",
            "106                       0.207           27                        0  \n",
            "270                       1.136           38                        1  \n",
            "435                       0.205           29                        1  \n",
            "102                       0.262           21                        0  \n",
            "\n",
            "[614 rows x 9 columns]\n"
          ]
        }
      ]
    },
    {
      "cell_type": "code",
      "source": [
        "print(test_data)"
      ],
      "metadata": {
        "colab": {
          "base_uri": "https://localhost:8080/"
        },
        "id": "gWziX1nLFvRc",
        "outputId": "227c3cdf-1cf3-421e-e029-a074c5b5d44d"
      },
      "execution_count": 9,
      "outputs": [
        {
          "output_type": "stream",
          "name": "stdout",
          "text": [
            "     Number of times pregnant  \\\n",
            "668                         6   \n",
            "324                         2   \n",
            "624                         2   \n",
            "690                         8   \n",
            "473                         7   \n",
            "..                        ...   \n",
            "355                         9   \n",
            "534                         1   \n",
            "344                         8   \n",
            "296                         2   \n",
            "462                         8   \n",
            "\n",
            "     Plasma glucose concentration a 2 hours in an oral glucose tolerance test  \\\n",
            "668                                                 98                          \n",
            "324                                                112                          \n",
            "624                                                108                          \n",
            "690                                                107                          \n",
            "473                                                136                          \n",
            "..                                                 ...                          \n",
            "355                                                165                          \n",
            "534                                                 77                          \n",
            "344                                                 95                          \n",
            "296                                                146                          \n",
            "462                                                 74                          \n",
            "\n",
            "     Diastolic blood pressure (mm Hg)  Triceps skin fold thickness (mm)  \\\n",
            "668                                58                                33   \n",
            "324                                75                                32   \n",
            "624                                64                                 0   \n",
            "690                                80                                 0   \n",
            "473                                90                                 0   \n",
            "..                                ...                               ...   \n",
            "355                                88                                 0   \n",
            "534                                56                                30   \n",
            "344                                72                                 0   \n",
            "296                                70                                38   \n",
            "462                                70                                40   \n",
            "\n",
            "     2-Hour serum insulin (mu U/ml)  \\\n",
            "668                             190   \n",
            "324                               0   \n",
            "624                               0   \n",
            "690                               0   \n",
            "473                               0   \n",
            "..                              ...   \n",
            "355                               0   \n",
            "534                              56   \n",
            "344                               0   \n",
            "296                             360   \n",
            "462                              49   \n",
            "\n",
            "     Body mass index (weight in kg/(height in m)^2)  \\\n",
            "668                                            34.0   \n",
            "324                                            35.7   \n",
            "624                                            30.8   \n",
            "690                                            24.6   \n",
            "473                                            29.9   \n",
            "..                                              ...   \n",
            "355                                            30.4   \n",
            "534                                            33.3   \n",
            "344                                            36.8   \n",
            "296                                            28.0   \n",
            "462                                            35.3   \n",
            "\n",
            "     Diabetes pedigree function  Age (years)  Class variable (0 or 1)  \n",
            "668                       0.430           43                        0  \n",
            "324                       0.148           21                        0  \n",
            "624                       0.158           21                        0  \n",
            "690                       0.856           34                        0  \n",
            "473                       0.210           50                        0  \n",
            "..                          ...          ...                      ...  \n",
            "355                       0.302           49                        1  \n",
            "534                       1.251           24                        0  \n",
            "344                       0.485           57                        0  \n",
            "296                       0.337           29                        1  \n",
            "462                       0.705           39                        0  \n",
            "\n",
            "[154 rows x 9 columns]\n"
          ]
        }
      ]
    },
    {
      "cell_type": "code",
      "source": [
        "train_data.info()"
      ],
      "metadata": {
        "colab": {
          "base_uri": "https://localhost:8080/"
        },
        "id": "xqiT78fIF3BM",
        "outputId": "dd53b608-a941-483a-aaed-c6fe2b0d0229"
      },
      "execution_count": 11,
      "outputs": [
        {
          "output_type": "stream",
          "name": "stdout",
          "text": [
            "<class 'pandas.core.frame.DataFrame'>\n",
            "Int64Index: 614 entries, 60 to 102\n",
            "Data columns (total 9 columns):\n",
            " #   Column                                                                    Non-Null Count  Dtype  \n",
            "---  ------                                                                    --------------  -----  \n",
            " 0   Number of times pregnant                                                  614 non-null    int64  \n",
            " 1   Plasma glucose concentration a 2 hours in an oral glucose tolerance test  614 non-null    int64  \n",
            " 2   Diastolic blood pressure (mm Hg)                                          614 non-null    int64  \n",
            " 3   Triceps skin fold thickness (mm)                                          614 non-null    int64  \n",
            " 4   2-Hour serum insulin (mu U/ml)                                            614 non-null    int64  \n",
            " 5   Body mass index (weight in kg/(height in m)^2)                            614 non-null    float64\n",
            " 6   Diabetes pedigree function                                                614 non-null    float64\n",
            " 7   Age (years)                                                               614 non-null    int64  \n",
            " 8   Class variable (0 or 1)                                                   614 non-null    int64  \n",
            "dtypes: float64(2), int64(7)\n",
            "memory usage: 48.0 KB\n"
          ]
        }
      ]
    },
    {
      "cell_type": "code",
      "source": [
        "test_data.info()"
      ],
      "metadata": {
        "colab": {
          "base_uri": "https://localhost:8080/"
        },
        "id": "TmsKLR3yFzEt",
        "outputId": "3a558fb0-390f-4ce4-c035-dea01597259a"
      },
      "execution_count": 10,
      "outputs": [
        {
          "output_type": "stream",
          "name": "stdout",
          "text": [
            "<class 'pandas.core.frame.DataFrame'>\n",
            "Int64Index: 154 entries, 668 to 462\n",
            "Data columns (total 9 columns):\n",
            " #   Column                                                                    Non-Null Count  Dtype  \n",
            "---  ------                                                                    --------------  -----  \n",
            " 0   Number of times pregnant                                                  154 non-null    int64  \n",
            " 1   Plasma glucose concentration a 2 hours in an oral glucose tolerance test  154 non-null    int64  \n",
            " 2   Diastolic blood pressure (mm Hg)                                          154 non-null    int64  \n",
            " 3   Triceps skin fold thickness (mm)                                          154 non-null    int64  \n",
            " 4   2-Hour serum insulin (mu U/ml)                                            154 non-null    int64  \n",
            " 5   Body mass index (weight in kg/(height in m)^2)                            154 non-null    float64\n",
            " 6   Diabetes pedigree function                                                154 non-null    float64\n",
            " 7   Age (years)                                                               154 non-null    int64  \n",
            " 8   Class variable (0 or 1)                                                   154 non-null    int64  \n",
            "dtypes: float64(2), int64(7)\n",
            "memory usage: 12.0 KB\n"
          ]
        }
      ]
    },
    {
      "cell_type": "code",
      "source": [
        "train_data.to_csv(\"train.csv\", index=False)"
      ],
      "metadata": {
        "id": "DrWqn1TvGQhe"
      },
      "execution_count": 13,
      "outputs": []
    },
    {
      "cell_type": "code",
      "source": [
        "test_data.to_csv(\"test.csv\", index=False)"
      ],
      "metadata": {
        "id": "z7PapTK3GzZx"
      },
      "execution_count": 14,
      "outputs": []
    },
    {
      "cell_type": "code",
      "source": [
        "#Carga de dataset\n",
        "data = pd.read_csv('/content/train.csv')"
      ],
      "metadata": {
        "id": "LGP6dcE2G-Rx"
      },
      "execution_count": 15,
      "outputs": []
    },
    {
      "cell_type": "code",
      "source": [
        "X = data.iloc[:, :8]\n",
        "y = data.iloc[:, 8]\n",
        "m = y.size"
      ],
      "metadata": {
        "id": "hS93DZKLCnN0"
      },
      "execution_count": 16,
      "outputs": []
    },
    {
      "cell_type": "code",
      "source": [
        "print(X)\n",
        "print('*'*25)\n",
        "print(y)"
      ],
      "metadata": {
        "colab": {
          "base_uri": "https://localhost:8080/"
        },
        "id": "nV2kQk8fCxoq",
        "outputId": "590b9fb6-6202-42f1-c169-c3dee21de8e7"
      },
      "execution_count": 17,
      "outputs": [
        {
          "output_type": "stream",
          "name": "stdout",
          "text": [
            "     Number of times pregnant  \\\n",
            "0                           2   \n",
            "1                           9   \n",
            "2                           1   \n",
            "3                           0   \n",
            "4                           6   \n",
            "..                        ...   \n",
            "609                         5   \n",
            "610                         1   \n",
            "611                        10   \n",
            "612                         0   \n",
            "613                         0   \n",
            "\n",
            "     Plasma glucose concentration a 2 hours in an oral glucose tolerance test  \\\n",
            "0                                                   84                          \n",
            "1                                                  112                          \n",
            "2                                                  139                          \n",
            "3                                                  161                          \n",
            "4                                                  134                          \n",
            "..                                                 ...                          \n",
            "609                                                139                          \n",
            "610                                                 96                          \n",
            "611                                                101                          \n",
            "612                                                141                          \n",
            "613                                                125                          \n",
            "\n",
            "     Diastolic blood pressure (mm Hg)  Triceps skin fold thickness (mm)  \\\n",
            "0                                   0                                 0   \n",
            "1                                  82                                24   \n",
            "2                                  46                                19   \n",
            "3                                  50                                 0   \n",
            "4                                  80                                37   \n",
            "..                                ...                               ...   \n",
            "609                                64                                35   \n",
            "610                               122                                 0   \n",
            "611                                86                                37   \n",
            "612                                 0                                 0   \n",
            "613                                96                                 0   \n",
            "\n",
            "     2-Hour serum insulin (mu U/ml)  \\\n",
            "0                                 0   \n",
            "1                                 0   \n",
            "2                                83   \n",
            "3                                 0   \n",
            "4                               370   \n",
            "..                              ...   \n",
            "609                             140   \n",
            "610                               0   \n",
            "611                               0   \n",
            "612                               0   \n",
            "613                               0   \n",
            "\n",
            "     Body mass index (weight in kg/(height in m)^2)  \\\n",
            "0                                               0.0   \n",
            "1                                              28.2   \n",
            "2                                              28.7   \n",
            "3                                              21.9   \n",
            "4                                              46.2   \n",
            "..                                              ...   \n",
            "609                                            28.6   \n",
            "610                                            22.4   \n",
            "611                                            45.6   \n",
            "612                                            42.4   \n",
            "613                                            22.5   \n",
            "\n",
            "     Diabetes pedigree function  Age (years)  \n",
            "0                         0.304           21  \n",
            "1                         1.282           50  \n",
            "2                         0.654           22  \n",
            "3                         0.254           65  \n",
            "4                         0.238           46  \n",
            "..                          ...          ...  \n",
            "609                       0.411           26  \n",
            "610                       0.207           27  \n",
            "611                       1.136           38  \n",
            "612                       0.205           29  \n",
            "613                       0.262           21  \n",
            "\n",
            "[614 rows x 8 columns]\n",
            "*************************\n",
            "0      0\n",
            "1      1\n",
            "2      0\n",
            "3      0\n",
            "4      1\n",
            "      ..\n",
            "609    0\n",
            "610    0\n",
            "611    1\n",
            "612    1\n",
            "613    0\n",
            "Name: Class variable (0 or 1), Length: 614, dtype: int64\n"
          ]
        }
      ]
    },
    {
      "cell_type": "code",
      "source": [
        "# se utiliza para el manejo de rutas y directorios.\n",
        "import os\n",
        "\n",
        "# Calculo cientifico y vectorial para python\n",
        "import numpy as np\n",
        "\n",
        "# Librerias para graficar\n",
        "from matplotlib import pyplot\n",
        "\n",
        "# Modulo de optimización de scipy\n",
        "from scipy import optimize\n",
        "\n",
        "# le dice a matplotlib que incruste gráficos en el cuaderno\n",
        "%matplotlib inline"
      ],
      "metadata": {
        "id": "0jAzHcZtDAQW"
      },
      "execution_count": 18,
      "outputs": []
    },
    {
      "cell_type": "code",
      "source": [
        "def sigmoid(z):\n",
        "    # Calcula la sigmoide de una entrada z\n",
        "    # convierte la intrada a un arreglo numpy\n",
        "    z = np.array(z)\n",
        "\n",
        "    g = np.zeros(z.shape)\n",
        "\n",
        "    g = 1 / (1 + np.exp(-z))\n",
        "\n",
        "    return g"
      ],
      "metadata": {
        "id": "tAX5owZMC6t2"
      },
      "execution_count": 19,
      "outputs": []
    },
    {
      "cell_type": "code",
      "source": [
        "# Configurar la matriz adecuadamente, y agregar una columna de unos que corresponde al termino de intercepción.\n",
        "m, n = X.shape\n",
        "# Agraga el termino de intercepción a A\n",
        "X = np.concatenate([np.ones((m, 1)), X], axis=1)"
      ],
      "metadata": {
        "id": "E-x00cZGDF_2"
      },
      "execution_count": 20,
      "outputs": []
    },
    {
      "cell_type": "code",
      "source": [
        "print(X)"
      ],
      "metadata": {
        "colab": {
          "base_uri": "https://localhost:8080/"
        },
        "id": "2OmA926YDMGu",
        "outputId": "f69e4b28-f5b9-4e4f-83cb-6bb87bf92f62"
      },
      "execution_count": 21,
      "outputs": [
        {
          "output_type": "stream",
          "name": "stdout",
          "text": [
            "[[  1.      2.     84.    ...   0.      0.304  21.   ]\n",
            " [  1.      9.    112.    ...  28.2     1.282  50.   ]\n",
            " [  1.      1.    139.    ...  28.7     0.654  22.   ]\n",
            " ...\n",
            " [  1.     10.    101.    ...  45.6     1.136  38.   ]\n",
            " [  1.      0.    141.    ...  42.4     0.205  29.   ]\n",
            " [  1.      0.    125.    ...  22.5     0.262  21.   ]]\n"
          ]
        }
      ]
    },
    {
      "cell_type": "code",
      "source": [
        "def calcularCosto(theta, X, y):\n",
        "    # Inicializar algunos valores utiles\n",
        "    m = y.size  # numero de ejemplos de entrenamiento\n",
        "\n",
        "    J = 0\n",
        "    h = sigmoid(X.dot(theta.T))\n",
        "    J = (1 / m) * np.sum(-y.dot(np.log(h)) - (1 - y).dot(np.log(1 - h)))\n",
        "\n",
        "    return J"
      ],
      "metadata": {
        "id": "UFZIbKWtDUCc"
      },
      "execution_count": 22,
      "outputs": []
    },
    {
      "cell_type": "code",
      "source": [
        "def descensoGradiente(theta, X, y, alpha, num_iters):\n",
        "    # Inicializa algunos valores\n",
        "    m = y.shape[0] # numero de ejemplos de entrenamiento\n",
        "\n",
        "    # realiza una copia de theta, el cual será acutalizada por el descenso por el gradiente\n",
        "    theta = theta.copy()\n",
        "    J_history = []\n",
        "\n",
        "    for i in range(num_iters):\n",
        "        h = sigmoid(X.dot(theta.T))\n",
        "        theta = theta - (alpha / m) * (h - y).dot(X)\n",
        "\n",
        "        J_history.append(calcularCosto(theta, X, y))\n",
        "    return theta, J_history"
      ],
      "metadata": {
        "id": "9qkHIAPUDX_9"
      },
      "execution_count": 24,
      "outputs": []
    },
    {
      "cell_type": "code",
      "source": [
        "#Carga de dataset\n",
        "data = pd.read_csv('/content/test.csv')\n",
        "print(data)"
      ],
      "metadata": {
        "colab": {
          "base_uri": "https://localhost:8080/"
        },
        "id": "B_TaMFerHXJP",
        "outputId": "c61983b5-cfd5-4edd-ccc3-bd36df10e208"
      },
      "execution_count": 25,
      "outputs": [
        {
          "output_type": "stream",
          "name": "stdout",
          "text": [
            "     Number of times pregnant  \\\n",
            "0                           6   \n",
            "1                           2   \n",
            "2                           2   \n",
            "3                           8   \n",
            "4                           7   \n",
            "..                        ...   \n",
            "149                         9   \n",
            "150                         1   \n",
            "151                         8   \n",
            "152                         2   \n",
            "153                         8   \n",
            "\n",
            "     Plasma glucose concentration a 2 hours in an oral glucose tolerance test  \\\n",
            "0                                                   98                          \n",
            "1                                                  112                          \n",
            "2                                                  108                          \n",
            "3                                                  107                          \n",
            "4                                                  136                          \n",
            "..                                                 ...                          \n",
            "149                                                165                          \n",
            "150                                                 77                          \n",
            "151                                                 95                          \n",
            "152                                                146                          \n",
            "153                                                 74                          \n",
            "\n",
            "     Diastolic blood pressure (mm Hg)  Triceps skin fold thickness (mm)  \\\n",
            "0                                  58                                33   \n",
            "1                                  75                                32   \n",
            "2                                  64                                 0   \n",
            "3                                  80                                 0   \n",
            "4                                  90                                 0   \n",
            "..                                ...                               ...   \n",
            "149                                88                                 0   \n",
            "150                                56                                30   \n",
            "151                                72                                 0   \n",
            "152                                70                                38   \n",
            "153                                70                                40   \n",
            "\n",
            "     2-Hour serum insulin (mu U/ml)  \\\n",
            "0                               190   \n",
            "1                                 0   \n",
            "2                                 0   \n",
            "3                                 0   \n",
            "4                                 0   \n",
            "..                              ...   \n",
            "149                               0   \n",
            "150                              56   \n",
            "151                               0   \n",
            "152                             360   \n",
            "153                              49   \n",
            "\n",
            "     Body mass index (weight in kg/(height in m)^2)  \\\n",
            "0                                              34.0   \n",
            "1                                              35.7   \n",
            "2                                              30.8   \n",
            "3                                              24.6   \n",
            "4                                              29.9   \n",
            "..                                              ...   \n",
            "149                                            30.4   \n",
            "150                                            33.3   \n",
            "151                                            36.8   \n",
            "152                                            28.0   \n",
            "153                                            35.3   \n",
            "\n",
            "     Diabetes pedigree function  Age (years)  Class variable (0 or 1)  \n",
            "0                         0.430           43                        0  \n",
            "1                         0.148           21                        0  \n",
            "2                         0.158           21                        0  \n",
            "3                         0.856           34                        0  \n",
            "4                         0.210           50                        0  \n",
            "..                          ...          ...                      ...  \n",
            "149                       0.302           49                        1  \n",
            "150                       1.251           24                        0  \n",
            "151                       0.485           57                        0  \n",
            "152                       0.337           29                        1  \n",
            "153                       0.705           39                        0  \n",
            "\n",
            "[154 rows x 9 columns]\n"
          ]
        }
      ]
    },
    {
      "cell_type": "code",
      "source": [
        "fila_deseada = 152\n",
        "\n",
        "if fila_deseada < len(data):\n",
        "  fila_completa = data.iloc[fila_deseada].to_numpy()\n",
        "  print(fila_completa)\n",
        "else:\n",
        "  print(\"La fila no existe\")"
      ],
      "metadata": {
        "colab": {
          "base_uri": "https://localhost:8080/"
        },
        "id": "oDnRO6EKHr8T",
        "outputId": "ae9b2dc5-4fa6-4544-8c45-7473c186be5a"
      },
      "execution_count": 33,
      "outputs": [
        {
          "output_type": "stream",
          "name": "stdout",
          "text": [
            "[2.00e+00 1.46e+02 7.00e+01 3.80e+01 3.60e+02 2.80e+01 3.37e-01 2.90e+01\n",
            " 1.00e+00]\n"
          ]
        }
      ]
    },
    {
      "cell_type": "code",
      "source": [
        "# Elegir algun valor para alpha (probar varias alternativas)\n",
        "alpha = 0.0001\n",
        "num_iters = 10000\n",
        "\n",
        "# inicializa theta y ejecuta el descenso por el gradiente\n",
        "theta = np.zeros(9)\n",
        "theta, J_history = descensoGradiente(theta, X, y, alpha, num_iters)\n",
        "\n",
        "# Grafica la convergencia del costo\n",
        "pyplot.plot(np.arange(len(J_history)), J_history, lw=2)\n",
        "pyplot.xlabel('Numero de iteraciones')\n",
        "pyplot.ylabel('Costo J')\n",
        "\n",
        "# Muestra los resultados del descenso por el gradiente\n",
        "print('theta calculado por el descenso por el gradiente: {:s}'.format(str(theta)))\n",
        "\n",
        "# verificar si ingresa o no a la universidad\n",
        "X_array = [1, 2.00e+00, 1.46e+02, 7.00e+01, 3.80e+01, 3.60e+02, 2.80e+01, 3.37e-01, 2.90e+01]\n",
        "\n",
        "aprueba = sigmoid(np.dot(X_array, theta))   # Se debe cambiar esto\n",
        "\n",
        "print(f\"Un estudiante con nota del examen 1: {X_array[1]} y nota del examen 2: {X_array[2]} (usando el descenso por el gradiente):{aprueba}\")"
      ],
      "metadata": {
        "colab": {
          "base_uri": "https://localhost:8080/",
          "height": 504
        },
        "id": "yN1qu9aiDae4",
        "outputId": "1120ef2e-3f4d-4eda-b737-e82cb1b1a9a8"
      },
      "execution_count": 34,
      "outputs": [
        {
          "output_type": "stream",
          "name": "stdout",
          "text": [
            "theta calculado por el descenso por el gradiente: [-0.0385062   0.07486563  0.01162784 -0.03218527 -0.00109526  0.00048414\n",
            "  0.00074187  0.00448907  0.00143877]\n",
            "Un estudiante con nota del examen 1: 2.0 y nota del examen 2: 146.0 (usando el descenso por el gradiente):0.438463189474905\n"
          ]
        },
        {
          "output_type": "display_data",
          "data": {
            "text/plain": [
              "<Figure size 640x480 with 1 Axes>"
            ],
            "image/png": "[encoded data removed]"
          },
          "metadata": {}
        }
      ]
    }
  ]
}