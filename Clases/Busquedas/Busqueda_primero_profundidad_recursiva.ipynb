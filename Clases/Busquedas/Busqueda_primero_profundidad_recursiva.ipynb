{
  "nbformat": 4,
  "nbformat_minor": 0,
  "metadata": {
    "colab": {
      "provenance": []
    },
    "kernelspec": {
      "name": "python3",
      "display_name": "Python 3"
    },
    "language_info": {
      "name": "python"
    }
  },
  "cells": [
    {
      "cell_type": "code",
      "execution_count": 1,
      "metadata": {
        "colab": {
          "base_uri": "https://localhost:8080/"
        },
        "id": "_mnqG6Aw3m9H",
        "outputId": "f60c7dc8-aee4-435c-a7fe-8fe26003df78"
      },
      "outputs": [
        {
          "output_type": "stream",
          "name": "stdout",
          "text": [
            "Mounted at /content/gdrive/\n"
          ]
        }
      ],
      "source": [
        "from google.colab import drive\n",
        "drive.mount('/content/gdrive/')"
      ]
    },
    {
      "cell_type": "code",
      "execution_count": 3,
      "metadata": {
        "id": "YXCjJi2G7iJe"
      },
      "outputs": [],
      "source": [
        "import sys\n",
        "sys.path.append('/content/gdrive/MyDrive/Colab Notebooks/SIS420/Busquedas')\n",
        "                 \n",
        "from Nodos import Nodo"
      ]
    },
    {
      "cell_type": "code",
      "source": [
        "def busqueda_BPPR(nodo_inicial, solucion, visitado):\n",
        "    visitado.append(nodo_inicial.get_estado())\n",
        "    if nodo_inicial.get_estado() == solucion:\n",
        "        return nodo_inicial\n",
        "    else:\n",
        "        # Expandir nodos sucesores (hijos)\n",
        "        datos_nodo = nodo_inicial.get_estado()\n",
        "        hijo = [datos_nodo[1], datos_nodo[0], datos_nodo[2], datos_nodo[3]]\n",
        "        hijo_izquierda = Nodo(hijo)\n",
        "        hijo = [datos_nodo[0], datos_nodo[2], datos_nodo[1], datos_nodo[3]]\n",
        "        hijo_centro = Nodo(hijo)\n",
        "        hijo = [datos_nodo[0], datos_nodo[1], datos_nodo[3], datos_nodo[2]]\n",
        "        hijo_derecha = Nodo(hijo)\n",
        "        nodo_inicial.set_hijo([hijo_izquierda, hijo_centro, hijo_derecha])\n",
        "\n",
        "        for nodo_hijo in nodo_inicial.get_hijo():\n",
        "            if not nodo_hijo.get_estado() in visitado:\n",
        "                # Llamada Recursiva\n",
        "                Solution = busqueda_BPPR(nodo_hijo, solucion, visitado)\n",
        "                if Solution is not None:\n",
        "                    return Solution\n",
        "        return None\n",
        "\n",
        "if __name__ == \"__main__\":\n",
        "    estado_inicial = [4, 2, 3, 1]\n",
        "    solucion = [1, 2, 3, 4]\n",
        "    nodo_solucion = None\n",
        "    visitado = []\n",
        "    nodo_inicial = Nodo(estado_inicial)\n",
        "    nodo_actual = busqueda_BPPR(nodo_inicial, solucion, visitado)\n",
        "\n",
        "    # Mostrar Resultado\n",
        "    resultado = []\n",
        "    while nodo_actual.get_padre() is not None:\n",
        "        resultado.append(nodo_actual.get_estado())\n",
        "        nodo_actual = nodo_actual.get_padre()\n",
        "    resultado.append(estado_inicial)\n",
        "    resultado.reverse()\n",
        "    print(resultado)"
      ],
      "metadata": {
        "colab": {
          "base_uri": "https://localhost:8080/"
        },
        "id": "YqRxLOZG74x7",
        "outputId": "987df03a-d6a0-48b9-df4a-0f13a3bddede"
      },
      "execution_count": 4,
      "outputs": [
        {
          "output_type": "stream",
          "name": "stdout",
          "text": [
            "[[4, 2, 3, 1], [2, 4, 3, 1], [2, 3, 4, 1], [3, 2, 4, 1], [3, 4, 2, 1], [4, 3, 2, 1], [4, 3, 1, 2], [3, 4, 1, 2], [3, 1, 4, 2], [1, 3, 4, 2], [1, 4, 3, 2], [4, 1, 3, 2], [4, 1, 2, 3], [1, 4, 2, 3], [1, 2, 4, 3], [2, 1, 4, 3], [2, 1, 3, 4], [1, 2, 3, 4]]\n"
          ]
        }
      ]
    }
  ]
}