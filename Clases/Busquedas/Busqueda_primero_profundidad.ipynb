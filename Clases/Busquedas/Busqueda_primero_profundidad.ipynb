{
  "nbformat": 4,
  "nbformat_minor": 0,
  "metadata": {
    "colab": {
      "provenance": []
    },
    "kernelspec": {
      "name": "python3",
      "display_name": "Python 3"
    },
    "language_info": {
      "name": "python"
    }
  },
  "cells": [
    {
      "cell_type": "code",
      "execution_count": 1,
      "metadata": {
        "colab": {
          "base_uri": "https://localhost:8080/"
        },
        "id": "_mnqG6Aw3m9H",
        "outputId": "d67004a8-9046-4eb0-a0f6-06567676490c"
      },
      "outputs": [
        {
          "output_type": "stream",
          "name": "stdout",
          "text": [
            "Mounted at /content/gdrive/\n"
          ]
        }
      ],
      "source": [
        "from google.colab import drive\n",
        "drive.mount('/content/gdrive/')"
      ]
    },
    {
      "cell_type": "code",
      "source": [
        "import sys\n",
        "sys.path.append('/content/gdrive/MyDrive/Colab Notebooks/SIS420/Busquedas')\n",
        "                 \n",
        "from Nodos import Nodo"
      ],
      "metadata": {
        "id": "_nD326eD3zFk"
      },
      "execution_count": 2,
      "outputs": []
    },
    {
      "cell_type": "code",
      "source": [
        "def busqueda_BPP(estado_inicial, solucion):\n",
        "    resuelto = False\n",
        "    nodos_visitados = []\n",
        "    nodos_frontera = []\n",
        "    nodo_raiz = Nodo(estado_inicial)\n",
        "    nodos_frontera.append(nodo_raiz)\n",
        "    while (not resuelto) and len(nodos_frontera) != 0:\n",
        "        nodo_actual = nodos_frontera.pop()\n",
        "        # Extraer nodo y añadirlo a visitados\n",
        "        nodos_visitados.append(nodo_actual)\n",
        "        if nodo_actual.get_estado() == solucion:\n",
        "            # Solucion encontrada\n",
        "            resuelto = True\n",
        "            return nodo_actual\n",
        "        else:\n",
        "            # Expandir nodos hijos\n",
        "            datos_nodo = nodo_actual.get_estado()\n",
        "            # Operador Izquierdo\n",
        "            hijo = [datos_nodo[1], datos_nodo[0], datos_nodo[2], datos_nodo[3]]\n",
        "            hijo_izquierda = Nodo(hijo)\n",
        "            if not hijo_izquierda.en_lista(nodos_visitados) and not hijo_izquierda.en_lista(nodos_frontera):\n",
        "                nodos_frontera.append(hijo_izquierda)\n",
        "            # Operador Central\n",
        "            hijo = [datos_nodo[0], datos_nodo[2], datos_nodo[1], datos_nodo[3]]\n",
        "            hijo_centro = Nodo(hijo)\n",
        "            if not hijo_centro.en_lista(nodos_visitados) and not hijo_centro.en_lista(nodos_frontera):\n",
        "                nodos_frontera.append(hijo_centro)\n",
        "            # Operador Derecho\n",
        "            hijo = [datos_nodo[0], datos_nodo[1], datos_nodo[3], datos_nodo[2]]\n",
        "            hijo_derecha = Nodo(hijo)\n",
        "            if not hijo_derecha.en_lista(nodos_visitados) and not hijo_derecha.en_lista(nodos_frontera):\n",
        "                nodos_frontera.append(hijo_derecha)\n",
        "            nodo_actual.set_hijo([hijo_izquierda, hijo_centro, hijo_derecha])\n",
        "\n",
        "if __name__ == \"__main__\":\n",
        "    estado_inicial = [4, 3, 2, 1]\n",
        "    solucion = [1, 2, 3, 4]\n",
        "    nodo_solucion = busqueda_BPP(estado_inicial, solucion)\n",
        "    # Mostrar resultado\n",
        "    resultado = []\n",
        "    nodo_actual = nodo_solucion\n",
        "    while nodo_actual.get_padre() is not None:\n",
        "        resultado.append(nodo_actual.get_estado())\n",
        "        nodo_actual = nodo_actual.get_padre()\n",
        "    \n",
        "    resultado.append(estado_inicial)\n",
        "    resultado.reverse()\n",
        "    print(resultado)"
      ],
      "metadata": {
        "colab": {
          "base_uri": "https://localhost:8080/"
        },
        "id": "0uBx-LXD39gW",
        "outputId": "64bf6b45-7b9e-4aa9-bb60-c6bf9a6b0f0b"
      },
      "execution_count": 3,
      "outputs": [
        {
          "output_type": "stream",
          "name": "stdout",
          "text": [
            "[[4, 3, 2, 1], [4, 3, 1, 2], [4, 1, 3, 2], [4, 1, 2, 3], [4, 2, 1, 3], [2, 4, 1, 3], [2, 4, 3, 1], [2, 3, 4, 1], [2, 3, 1, 4], [2, 1, 3, 4], [1, 2, 3, 4]]\n"
          ]
        }
      ]
    }
  ]
}