{
  "cells": [
    {
      "cell_type": "markdown",
      "metadata": {
        "id": "TaZkCCbj7jhK"
      },
      "source": [
        "[![Open In Colab](https://colab.research.google.com/assets/colab-badge.svg)](https://colab.research.google.com/github/sensioai/blog/blob/master/008_numpy_aop/numpy_aop.ipynb)"
      ]
    },
    {
      "cell_type": "markdown",
      "metadata": {
        "id": "UludRYWi7jhR"
      },
      "source": [
        "# Programación Orientada a *Arrays*"
      ]
    },
    {
      "cell_type": "markdown",
      "metadata": {
        "id": "4q9Wg7zI7jhT"
      },
      "source": [
        "En el [post](https://sensioai.com/blog/007_numpy) anterior introdujimos `NumPy` y varias de sus características principales. La principal ventaja que ofrece `NumPy` es la velocidad superior respecto a `Python` en aplicaciones que requieren estructuras de datos numéricas que podemos expresar en forma de vectores, matrices o tensores. Parte de esta mejora viene del hecho que usando `NumPy` podemos llevar a cabo muchos tipos de procesado de datos mediante expresiones concisas aplicadas sobre `arrays` que de otra forma requerirían *loops*. La práctica de sustituir *loops* por expresiones basadas en `arrays` se conoce como `vectorización`, que junto al `broadcasting` forman la base de la programación orientada a array (*Array-Oriented Programming*). En este post vamos a explicar estos conceptos para poder sacar el máximo provecho de `NumPy` y así obtener varios ordenes de magnitud en el *speedup* de nuestro código en `Python`."
      ]
    },
    {
      "cell_type": "markdown",
      "metadata": {
        "id": "48_EerlS7jhU"
      },
      "source": [
        "## Vectorización"
      ]
    },
    {
      "cell_type": "markdown",
      "metadata": {
        "id": "ZiQGlkpb7jhW"
      },
      "source": [
        "Imaginad que queremos evaluar la función $z = \\sqrt{x^2 + y^2 }$ sobre una malla regular de valores. Una manera simple de llevar a cabo esta operación es la siguiente:"
      ]
    },
    {
      "cell_type": "code",
      "execution_count": null,
      "metadata": {
        "ExecuteTime": {
          "end_time": "2020-06-08T12:20:22.999979Z",
          "start_time": "2020-06-08T12:20:22.076971Z"
        },
        "id": "dVOiqbW57jhX",
        "outputId": "a650e935-f93a-4a64-f8d5-59584fd89c6b"
      },
      "outputs": [
        {
          "name": "stdout",
          "output_type": "stream",
          "text": [
            "Wall time: 909 ms\n"
          ]
        }
      ],
      "source": [
        "import numpy as np\n",
        "import math\n",
        "\n",
        "def lento(n=1000):\n",
        "    x = np.linspace(-1,1,n)\n",
        "    y = np.linspace(-1,1,n)\n",
        "    z = np.empty((n,n))\n",
        "\n",
        "    for i, _y in enumerate(y):\n",
        "        for j, _x in enumerate(x):\n",
        "            z[i, j] = math.sqrt(_x**2 + _y**2)\n",
        "\n",
        "    return x, y, z\n",
        "\n",
        "%time x, y, z = lento()"
      ]
    },
    {
      "cell_type": "markdown",
      "metadata": {
        "id": "4xGyRIeD7jhd"
      },
      "source": [
        "Podemos visualizar esta función usando `Matplotlib` (una librería sobre la que hablaremos en detalle en un futuro post)."
      ]
    },
    {
      "cell_type": "code",
      "execution_count": null,
      "metadata": {
        "ExecuteTime": {
          "end_time": "2020-06-08T12:20:23.268999Z",
          "start_time": "2020-06-08T12:20:23.001981Z"
        },
        "id": "BRPyOoFb7jhe",
        "outputId": "11ffcbf1-3f57-44fc-8162-76e465e3b7a7"
      },
      "outputs": [
        {
          "data": {
            "image/png": "[encoded data removed]",
            "text/plain": [
              "<Figure size 432x288 with 2 Axes>"
            ]
          },
          "metadata": {
            "needs_background": "light"
          },
          "output_type": "display_data"
        }
      ],
      "source": [
        "import matplotlib.pyplot as plt\n",
        "\n",
        "def plot(x, y, z):\n",
        "    plt.contourf(x, y, z)\n",
        "    plt.colorbar()\n",
        "    plt.xlabel(\"x\", fontsize=\"16\")\n",
        "    plt.ylabel(\"y\", fontsize=\"16\")\n",
        "    plt.title(\"$z = \\sqrt{x^2 + y^2 }$\", fontsize=\"16\")\n",
        "    plt.show()\n",
        "\n",
        "plot(x, y, z)"
      ]
    },
    {
      "cell_type": "markdown",
      "metadata": {
        "id": "wtQcrNhZ7jhg"
      },
      "source": [
        "Como puedes ver en la implementación de la `función` la evaluación de la expresión requiere de dos bucles `for` para iterar sobre todos los valores de `x` e `y` calculando el resultado. Esta es una implementación ineficiente que puede acelerarse si aplicamos la `vectorización`, sustituir bucles por expresiones basadas en `arrays`."
      ]
    },
    {
      "cell_type": "code",
      "execution_count": null,
      "metadata": {
        "ExecuteTime": {
          "end_time": "2020-06-08T12:20:24.556546Z",
          "start_time": "2020-06-08T12:20:24.523697Z"
        },
        "id": "2Ha2PTIv7jhh",
        "outputId": "10b63c61-4480-4e31-bffc-0a0b368b423f"
      },
      "outputs": [
        {
          "name": "stdout",
          "output_type": "stream",
          "text": [
            "Wall time: 19 ms\n"
          ]
        }
      ],
      "source": [
        "def rapido(n=1000):\n",
        "    p = np.linspace(-1,1,n)\n",
        "    x, y = np.meshgrid(p, p)\n",
        "    z = np.sqrt(x**2 + y**2)\n",
        "    return x, y, z\n",
        "\n",
        "%time x, y, z = rapido()"
      ]
    },
    {
      "cell_type": "code",
      "execution_count": null,
      "metadata": {
        "ExecuteTime": {
          "end_time": "2020-06-08T12:20:28.303020Z",
          "start_time": "2020-06-08T12:20:28.029001Z"
        },
        "id": "vuUHT49E7jhj",
        "outputId": "ced421e1-162c-4b87-e88c-e390ddb2a4df"
      },
      "outputs": [
        {
          "data": {
            "image/png": "[encoded data removed]",
            "text/plain": [
              "<Figure size 432x288 with 2 Axes>"
            ]
          },
          "metadata": {
            "needs_background": "light"
          },
          "output_type": "display_data"
        }
      ],
      "source": [
        "plot(x, y, z)"
      ]
    },
    {
      "cell_type": "markdown",
      "metadata": {
        "id": "wm9l8Zke7jhk"
      },
      "source": [
        "El resultado que obtenemos es el mismo, pero 50 veces más rápido. Esto es gracias al uso de la `vectorización`. `NumPy` pone a nuestra disposición multitud de funciones que podemos aprovechar para acelerar nuestros cálculos."
      ]
    },
    {
      "cell_type": "markdown",
      "metadata": {
        "heading_collapsed": true,
        "id": "Bm5TlDYY7jhm"
      },
      "source": [
        "### Funciones Universales"
      ]
    },
    {
      "cell_type": "markdown",
      "metadata": {
        "hidden": true,
        "id": "DvAd_Yj17jhn"
      },
      "source": [
        "Estas funciones llevan a cabo operaciones elemento a elemento en un `array`. En el ejemplo anterior ya hemos visto una de ellas, `np.sqrt`, para calcular la raíz cuadrada de todos los elementos en un `array` sin necesidad de implementar ningún bucle. Aquí tienes unos cuantos ejemplos."
      ]
    },
    {
      "cell_type": "code",
      "execution_count": null,
      "metadata": {
        "ExecuteTime": {
          "end_time": "2020-06-08T12:27:26.997911Z",
          "start_time": "2020-06-08T12:27:26.978911Z"
        },
        "hidden": true,
        "id": "6lobxhyM7jhn",
        "outputId": "fbb00579-e6f5-425d-9989-d5509bbbda74"
      },
      "outputs": [
        {
          "data": {
            "text/plain": [
              "array([[ 2.5,  3.1,  7. ],\n",
              "       [10. , 11. , 12. ]])"
            ]
          },
          "execution_count": 54,
          "metadata": {},
          "output_type": "execute_result"
        }
      ],
      "source": [
        "a = np.array([[2.5, 3.1, 7], [10, 11, 12]])\n",
        "a"
      ]
    },
    {
      "cell_type": "code",
      "execution_count": null,
      "metadata": {
        "ExecuteTime": {
          "end_time": "2020-06-08T12:27:27.370424Z",
          "start_time": "2020-06-08T12:27:27.352431Z"
        },
        "hidden": true,
        "id": "wV-m4tVq7jho",
        "outputId": "216ff422-2f51-46e8-aff9-b2e1fc4b36ba"
      },
      "outputs": [
        {
          "name": "stdout",
          "output_type": "stream",
          "text": [
            "\n",
            " absolute\n",
            "[[ 2.5  3.1  7. ]\n",
            " [10.  11.  12. ]]\n",
            "\n",
            " sqrt\n",
            "[[1.58113883 1.76068169 2.64575131]\n",
            " [3.16227766 3.31662479 3.46410162]]\n",
            "\n",
            " exp\n",
            "[[1.21824940e+01 2.21979513e+01 1.09663316e+03]\n",
            " [2.20264658e+04 5.98741417e+04 1.62754791e+05]]\n",
            "\n",
            " log\n",
            "[[0.91629073 1.13140211 1.94591015]\n",
            " [2.30258509 2.39789527 2.48490665]]\n",
            "\n",
            " sign\n",
            "[[1. 1. 1.]\n",
            " [1. 1. 1.]]\n",
            "\n",
            " ceil\n",
            "[[ 3.  4.  7.]\n",
            " [10. 11. 12.]]\n",
            "\n",
            " modf\n",
            "(array([[0.5, 0.1, 0. ],\n",
            "       [0. , 0. , 0. ]]), array([[ 2.,  3.,  7.],\n",
            "       [10., 11., 12.]]))\n",
            "\n",
            " isnan\n",
            "[[False False False]\n",
            " [False False False]]\n",
            "\n",
            " cos\n",
            "[[-0.80114362 -0.99913515  0.75390225]\n",
            " [-0.83907153  0.0044257   0.84385396]]\n"
          ]
        }
      ],
      "source": [
        "for func in (np.abs, np.sqrt, np.exp, np.log, np.sign, np.ceil, np.modf, np.isnan, np.cos):\n",
        "    print(\"\\n\", func.__name__)\n",
        "    print(func(a))"
      ]
    },
    {
      "cell_type": "markdown",
      "metadata": {
        "ExecuteTime": {
          "end_time": "2020-06-08T12:28:02.295103Z",
          "start_time": "2020-06-08T12:28:02.278546Z"
        },
        "id": "3wEL7gm57jhp"
      },
      "source": [
        "### Funciones Estadísticas"
      ]
    },
    {
      "cell_type": "markdown",
      "metadata": {
        "id": "JJ90ph-y7jhp"
      },
      "source": [
        "Estas funciones nos van a permitir calcular valores estadísticos sobre nuestros `arrays`. Algunos ejemplos son"
      ]
    },
    {
      "cell_type": "code",
      "execution_count": null,
      "metadata": {
        "ExecuteTime": {
          "end_time": "2020-06-08T12:29:12.577598Z",
          "start_time": "2020-06-08T12:29:12.566191Z"
        },
        "id": "JbzNxSdx7jhp",
        "outputId": "810727b4-ebce-401d-c4f0-0699c1173884"
      },
      "outputs": [
        {
          "name": "stdout",
          "output_type": "stream",
          "text": [
            "min = 2.5\n",
            "max = 12.0\n",
            "sum = 45.6\n",
            "prod = 71610.0\n",
            "std = 3.7260345319566395\n",
            "var = 13.883333333333333\n"
          ]
        }
      ],
      "source": [
        "for func in (a.min, a.max, a.sum, a.prod, a.std, a.var):\n",
        "    print(func.__name__, \"=\", func())"
      ]
    },
    {
      "cell_type": "markdown",
      "metadata": {
        "id": "s-q4MHJg7jhq"
      },
      "source": [
        "También podemos especificar la dimensión sobre la que queremos calcular estos valores de la siguiente manera"
      ]
    },
    {
      "cell_type": "code",
      "execution_count": null,
      "metadata": {
        "ExecuteTime": {
          "end_time": "2020-06-08T12:30:35.079860Z",
          "start_time": "2020-06-08T12:30:35.059819Z"
        },
        "id": "U_3U8CzZ7jhr",
        "outputId": "2de79a99-f5c2-4283-a6d1-37df6d46c859"
      },
      "outputs": [
        {
          "data": {
            "text/plain": [
              "array([6.25, 7.05, 9.5 ])"
            ]
          },
          "execution_count": 59,
          "metadata": {},
          "output_type": "execute_result"
        }
      ],
      "source": [
        "# calcular valor medio de cada columna\n",
        "\n",
        "a.mean(axis=0)"
      ]
    },
    {
      "cell_type": "code",
      "execution_count": null,
      "metadata": {
        "ExecuteTime": {
          "end_time": "2020-06-08T12:30:59.341008Z",
          "start_time": "2020-06-08T12:30:59.329937Z"
        },
        "id": "9KQDJuZ77jhr",
        "outputId": "0135c802-f12c-40ce-ae28-47c8f886b46d"
      },
      "outputs": [
        {
          "data": {
            "text/plain": [
              "array([12.6, 33. ])"
            ]
          },
          "execution_count": 60,
          "metadata": {},
          "output_type": "execute_result"
        }
      ],
      "source": [
        "# suma todos los valores de cada fila\n",
        "\n",
        "a.sum(axis=1)"
      ]
    },
    {
      "cell_type": "markdown",
      "metadata": {
        "id": "ax5vQ3h17jhs"
      },
      "source": [
        "## Broadcasting"
      ]
    },
    {
      "cell_type": "markdown",
      "metadata": {
        "id": "QZmMpA-37jht"
      },
      "source": [
        "El `broadcasting` es la segunda propiedad (después de la `vectorización`) que le proporciona a `NumPy` su versatilidad y potencia a la hora de llevar a cabo operaciones con `arrays`. Como norma general, cuando `Numpy` espera `arrays` de la misma forma pero encuentra que esto no se cumple aplica las reglas del `broadcasting`. Vamos a verlas en detalle.  "
      ]
    },
    {
      "cell_type": "markdown",
      "metadata": {
        "heading_collapsed": true,
        "id": "dJH99xb87jht"
      },
      "source": [
        "### Primera regla"
      ]
    },
    {
      "cell_type": "markdown",
      "metadata": {
        "hidden": true,
        "id": "0e14RWui7jhu"
      },
      "source": [
        "Si dos `arrays` no tienen el mismo rango, entonces se añadirá una dimensión de `1` al principio del `array` con menor rango hasta que éstos coincidan."
      ]
    },
    {
      "cell_type": "markdown",
      "metadata": {
        "hidden": true,
        "id": "C9n0tEHM7jhu"
      },
      "source": [
        "> 💡 El rango de un `array` es lo mismo que su numero de dimensiones."
      ]
    },
    {
      "cell_type": "markdown",
      "metadata": {
        "hidden": true,
        "id": "lawy0yyZ7jhv"
      },
      "source": [
        "Vamos a crear un `array` de 3 dimensiones."
      ]
    },
    {
      "cell_type": "code",
      "execution_count": null,
      "metadata": {
        "ExecuteTime": {
          "end_time": "2020-06-08T12:39:23.849923Z",
          "start_time": "2020-06-08T12:39:23.831926Z"
        },
        "hidden": true,
        "id": "-KnBZzn27jhv",
        "outputId": "b297c6fc-3723-4999-8a8b-755f19edc099"
      },
      "outputs": [
        {
          "data": {
            "text/plain": [
              "array([[[0, 1, 2, 3, 4]]])"
            ]
          },
          "execution_count": 63,
          "metadata": {},
          "output_type": "execute_result"
        }
      ],
      "source": [
        "a = np.arange(5).reshape(1, 1, 5)\n",
        "a"
      ]
    },
    {
      "cell_type": "code",
      "execution_count": null,
      "metadata": {
        "ExecuteTime": {
          "end_time": "2020-06-08T12:39:23.974050Z",
          "start_time": "2020-06-08T12:39:23.961051Z"
        },
        "hidden": true,
        "id": "8dW-6Gfq7jhw",
        "outputId": "70ea9fd5-4061-4d28-dab8-47b4497c210d"
      },
      "outputs": [
        {
          "data": {
            "text/plain": [
              "(1, 1, 5)"
            ]
          },
          "execution_count": 64,
          "metadata": {},
          "output_type": "execute_result"
        }
      ],
      "source": [
        "a.shape"
      ]
    },
    {
      "cell_type": "markdown",
      "metadata": {
        "hidden": true,
        "id": "KsBHOH0_7jhw"
      },
      "source": [
        "Ahora, vamos a sumarle otro `array` de una sola dimension."
      ]
    },
    {
      "cell_type": "code",
      "execution_count": null,
      "metadata": {
        "ExecuteTime": {
          "end_time": "2020-06-08T12:39:46.865949Z",
          "start_time": "2020-06-08T12:39:46.854950Z"
        },
        "hidden": true,
        "id": "cbwvKXEF7jhw",
        "outputId": "9a77aafa-2643-4d09-d8d4-9236f42a531c"
      },
      "outputs": [
        {
          "data": {
            "text/plain": [
              "array([0, 1, 2, 3, 4])"
            ]
          },
          "execution_count": 65,
          "metadata": {},
          "output_type": "execute_result"
        }
      ],
      "source": [
        "b = np.arange(5)\n",
        "b"
      ]
    },
    {
      "cell_type": "code",
      "execution_count": null,
      "metadata": {
        "ExecuteTime": {
          "end_time": "2020-06-08T12:39:58.450377Z",
          "start_time": "2020-06-08T12:39:58.430380Z"
        },
        "hidden": true,
        "id": "aAPyTObv7jhx",
        "outputId": "4fd97b66-131e-4b2f-d166-b0d708ddc072"
      },
      "outputs": [
        {
          "data": {
            "text/plain": [
              "(5,)"
            ]
          },
          "execution_count": 67,
          "metadata": {},
          "output_type": "execute_result"
        }
      ],
      "source": [
        "b.shape"
      ]
    },
    {
      "cell_type": "code",
      "execution_count": null,
      "metadata": {
        "ExecuteTime": {
          "end_time": "2020-06-08T12:40:00.181754Z",
          "start_time": "2020-06-08T12:40:00.175752Z"
        },
        "hidden": true,
        "id": "P3NqBCVb7jhx",
        "outputId": "29943ef2-4cf5-4f5d-c416-628922c73f3a"
      },
      "outputs": [
        {
          "data": {
            "text/plain": [
              "array([[[0, 2, 4, 6, 8]]])"
            ]
          },
          "execution_count": 68,
          "metadata": {},
          "output_type": "execute_result"
        }
      ],
      "source": [
        "a + b"
      ]
    },
    {
      "cell_type": "markdown",
      "metadata": {
        "hidden": true,
        "id": "Lwab8S0_7jhx"
      },
      "source": [
        "Como puedes ver, `NumPy` no se ha quejado ni nos ha dado ningún error pese a que formalmente esta operación no es válida. Lo que ha ocurrido es que la primera regla del `broadcasting` ha sido aplicada, añadiendo dimensiones extra a nuestro array `b` para convertirlo en una array con dimensiones `(1, 1, 5)` y así poder llevar a cabo la operación. Esta es la misma regla que nos permite sumar un valor escalar a un vector o una matriz."
      ]
    },
    {
      "cell_type": "code",
      "execution_count": null,
      "metadata": {
        "ExecuteTime": {
          "end_time": "2020-06-08T12:42:51.451054Z",
          "start_time": "2020-06-08T12:42:51.432055Z"
        },
        "hidden": true,
        "id": "uqAzUZin7jhx",
        "outputId": "a1510e8d-9c12-4477-eb8e-1b2abc8074f0"
      },
      "outputs": [
        {
          "data": {
            "text/plain": [
              "array([[[1, 2, 3, 4, 5]]])"
            ]
          },
          "execution_count": 70,
          "metadata": {},
          "output_type": "execute_result"
        }
      ],
      "source": [
        "1 + a"
      ]
    },
    {
      "cell_type": "markdown",
      "metadata": {
        "heading_collapsed": true,
        "id": "8B2ZHR9Y7jhy"
      },
      "source": [
        "### Seguna regla"
      ]
    },
    {
      "cell_type": "markdown",
      "metadata": {
        "hidden": true,
        "id": "hnXPcs7f7jhy"
      },
      "source": [
        "Si un `array` tiene un `1` en alguna dimensión en particular actuará como si tuviese la longitud del `array` con mayor longitud en aquella dimensión. Esto implica que el valor en esta dimensión se repetirá hasta coincidir con la longitud. Por ejemplo"
      ]
    },
    {
      "cell_type": "code",
      "execution_count": null,
      "metadata": {
        "ExecuteTime": {
          "end_time": "2020-06-08T12:45:55.445036Z",
          "start_time": "2020-06-08T12:45:55.433038Z"
        },
        "hidden": true,
        "id": "Md74wcqw7jhz",
        "outputId": "4a9a9b18-996b-450a-f169-7fbe27062ac4"
      },
      "outputs": [
        {
          "data": {
            "text/plain": [
              "array([[0, 1, 2],\n",
              "       [3, 4, 5]])"
            ]
          },
          "execution_count": 71,
          "metadata": {},
          "output_type": "execute_result"
        }
      ],
      "source": [
        "a = np.arange(6).reshape(2, 3)\n",
        "a"
      ]
    },
    {
      "cell_type": "code",
      "execution_count": null,
      "metadata": {
        "ExecuteTime": {
          "end_time": "2020-06-08T12:46:15.853387Z",
          "start_time": "2020-06-08T12:46:15.835388Z"
        },
        "hidden": true,
        "id": "NgekhBBY7jiH",
        "outputId": "27fcd027-0dd1-4c69-c1a3-57fe13920fe2"
      },
      "outputs": [
        {
          "data": {
            "text/plain": [
              "(2, 3)"
            ]
          },
          "execution_count": 73,
          "metadata": {},
          "output_type": "execute_result"
        }
      ],
      "source": [
        "a.shape"
      ]
    },
    {
      "cell_type": "code",
      "execution_count": null,
      "metadata": {
        "ExecuteTime": {
          "end_time": "2020-06-08T12:46:10.629149Z",
          "start_time": "2020-06-08T12:46:10.617151Z"
        },
        "hidden": true,
        "id": "ki6R5qjv7jiI",
        "outputId": "35f3cadb-fcb4-4b05-b285-d82eebe1168a"
      },
      "outputs": [
        {
          "data": {
            "text/plain": [
              "array([[100],\n",
              "       [200]])"
            ]
          },
          "execution_count": 72,
          "metadata": {},
          "output_type": "execute_result"
        }
      ],
      "source": [
        "b = np.array([[100], [200]])\n",
        "b"
      ]
    },
    {
      "cell_type": "code",
      "execution_count": null,
      "metadata": {
        "ExecuteTime": {
          "end_time": "2020-06-08T12:46:18.775867Z",
          "start_time": "2020-06-08T12:46:18.759868Z"
        },
        "hidden": true,
        "id": "cAlXQIeV7jiJ",
        "outputId": "8a743531-cb14-4621-efab-9832ff8badfd"
      },
      "outputs": [
        {
          "data": {
            "text/plain": [
              "(2, 1)"
            ]
          },
          "execution_count": 74,
          "metadata": {},
          "output_type": "execute_result"
        }
      ],
      "source": [
        "b.shape"
      ]
    },
    {
      "cell_type": "markdown",
      "metadata": {
        "hidden": true,
        "id": "5QeRv2tR7jiK"
      },
      "source": [
        "Si intentamos sumar estas dos matrices, `NumPy` repetirá los valores de `b` hasta crear tres columnas iguales y así poder llevar a cabo la operación."
      ]
    },
    {
      "cell_type": "code",
      "execution_count": null,
      "metadata": {
        "ExecuteTime": {
          "end_time": "2020-06-08T12:47:21.584973Z",
          "start_time": "2020-06-08T12:47:21.575455Z"
        },
        "hidden": true,
        "id": "mmWN19-r7jiK",
        "outputId": "5becfd5f-a795-4afd-9810-d8cb4c2461d6"
      },
      "outputs": [
        {
          "data": {
            "text/plain": [
              "array([[100, 101, 102],\n",
              "       [203, 204, 205]])"
            ]
          },
          "execution_count": 75,
          "metadata": {},
          "output_type": "execute_result"
        }
      ],
      "source": [
        "a + b"
      ]
    },
    {
      "cell_type": "markdown",
      "metadata": {
        "hidden": true,
        "id": "EmKUBm047jiL"
      },
      "source": [
        "Las reglas pueden combinares, por ejemplo"
      ]
    },
    {
      "cell_type": "code",
      "execution_count": null,
      "metadata": {
        "ExecuteTime": {
          "end_time": "2020-06-08T12:48:14.694735Z",
          "start_time": "2020-06-08T12:48:14.685193Z"
        },
        "hidden": true,
        "id": "eoJvKuHW7jiL",
        "outputId": "e79e0c20-7d71-4e52-e521-a136eb6cdc8a"
      },
      "outputs": [
        {
          "data": {
            "text/plain": [
              "(3,)"
            ]
          },
          "execution_count": 78,
          "metadata": {},
          "output_type": "execute_result"
        }
      ],
      "source": [
        "c = np.array([100, 200, 300])\n",
        "c.shape"
      ]
    },
    {
      "cell_type": "code",
      "execution_count": null,
      "metadata": {
        "ExecuteTime": {
          "end_time": "2020-06-08T12:48:20.254630Z",
          "start_time": "2020-06-08T12:48:20.237633Z"
        },
        "hidden": true,
        "id": "DwJPh1wa7jiM",
        "outputId": "44ad9ffb-e42c-4bd3-af14-f8e6edaefd13"
      },
      "outputs": [
        {
          "data": {
            "text/plain": [
              "array([[100, 201, 302],\n",
              "       [103, 204, 305]])"
            ]
          },
          "execution_count": 80,
          "metadata": {},
          "output_type": "execute_result"
        }
      ],
      "source": [
        "a + c"
      ]
    },
    {
      "cell_type": "markdown",
      "metadata": {
        "hidden": true,
        "id": "KXXgU39C7jiM"
      },
      "source": [
        "`NumPy` ha añadido una dimensión extra al principio de `c` para obtener una forma de `(1, 3)` y luego ha repetido todos los valores en una nueva fila para obtener una forma de `(2, 3)` y así poder llevar a cabo la suma."
      ]
    },
    {
      "cell_type": "markdown",
      "metadata": {
        "id": "b5GuuRrv7jiN"
      },
      "source": [
        "### Tercera regla"
      ]
    },
    {
      "cell_type": "markdown",
      "metadata": {
        "id": "V7XZ2aiM7jiN"
      },
      "source": [
        "Después de aplicar las reglas 1 y 2, las dimensiones de los `arrays` deben coincidir. Si no es así, la operación no se puede llevar a cabo."
      ]
    },
    {
      "cell_type": "code",
      "execution_count": null,
      "metadata": {
        "ExecuteTime": {
          "end_time": "2020-06-08T12:51:47.238370Z",
          "start_time": "2020-06-08T12:51:47.221349Z"
        },
        "id": "lZ5zcG-67jiN",
        "outputId": "c2030967-b5fe-478c-da04-cbf9e36c1bae"
      },
      "outputs": [
        {
          "ename": "ValueError",
          "evalue": "operands could not be broadcast together with shapes (2,3) (2,) ",
          "output_type": "error",
          "traceback": [
            "\u001b[1;31m---------------------------------------------------------------------------\u001b[0m",
            "\u001b[1;31mValueError\u001b[0m                                Traceback (most recent call last)",
            "\u001b[1;32m<ipython-input-82-5e6b24fb2d02>\u001b[0m in \u001b[0;36m<module>\u001b[1;34m\u001b[0m\n\u001b[1;32m----> 1\u001b[1;33m \u001b[0ma\u001b[0m \u001b[1;33m+\u001b[0m \u001b[1;33m[\u001b[0m\u001b[1;36m1\u001b[0m\u001b[1;33m,\u001b[0m \u001b[1;36m2\u001b[0m\u001b[1;33m]\u001b[0m\u001b[1;33m\u001b[0m\u001b[1;33m\u001b[0m\u001b[0m\n\u001b[0m",
            "\u001b[1;31mValueError\u001b[0m: operands could not be broadcast together with shapes (2,3) (2,) "
          ]
        }
      ],
      "source": [
        "a + [1, 2]"
      ]
    },
    {
      "cell_type": "markdown",
      "metadata": {
        "id": "Znx9uDyT7jiO"
      },
      "source": [
        "Aquí tienes un ejemplo visual de estas reglas aplicadas sobre varios `arrays`."
      ]
    },
    {
      "cell_type": "markdown",
      "metadata": {
        "id": "EhWkkdMG7jiO"
      },
      "source": [
        "![broadcasting](https://jakevdp.github.io/PythonDataScienceHandbook/figures/02.05-broadcasting.png)"
      ]
    },
    {
      "cell_type": "markdown",
      "metadata": {
        "id": "N7MUu9jr7jiP"
      },
      "source": [
        "Estas reglas se aplican en prácticamente todas las operaciones de `NumPy` que requieran dos `arrays`, no solo operaciones aritméticas. Ser capaces de utilizar el `broadcasting` a nuestro favor nos ayudará en la implementación de algoritmos rápidos y eficientes."
      ]
    },
    {
      "cell_type": "markdown",
      "metadata": {
        "id": "AoE1qU7a7jiP"
      },
      "source": [
        "## Resumen"
      ]
    },
    {
      "cell_type": "markdown",
      "metadata": {
        "id": "3wdOCfYe7jiQ"
      },
      "source": [
        "En este post hemos hablado sobre programación orientada a `arrays`, un concepto que puede dar como resultado código más rápido y conciso. Este paradigma de programación está basado en la idea de sustituir lentos bucles por operaciones basadas en `arrays` para el procesado de datos. Esta idea se conoce como `vectorización`. En `Python`, utilizamos `NumPy` y sus funciones para conseguir acelerar nuestro código. Una propiedad clave a la hora de conseguir estos resultados es el `broadcasting` que nos permitirá vectorizar nuestro código incluso en aquellas ocasiones en las que, estrictamente hablando, no podríamos (por ejemplo para sumar dos matrices con diferentes dimensiones). Entender estas propiedades y saber aprovecharlas es clave para conseguir implementar algoritmos rápidos y eficientes, algo que utilizaremos de manera extensiva en el análisis de datos y la implementación de algoritmos de Inteligencia Artificial."
      ]
    }
  ],
  "metadata": {
    "kernelspec": {
      "display_name": "Python 3",
      "language": "python",
      "name": "python3"
    },
    "language_info": {
      "codemirror_mode": {
        "name": "ipython",
        "version": 3
      },
      "file_extension": ".py",
      "mimetype": "text/x-python",
      "name": "python",
      "nbconvert_exporter": "python",
      "pygments_lexer": "ipython3",
      "version": "3.7.6"
    },
    "toc": {
      "base_numbering": 1,
      "nav_menu": {},
      "number_sections": true,
      "sideBar": true,
      "skip_h1_title": false,
      "title_cell": "Table of Contents",
      "title_sidebar": "Contents",
      "toc_cell": false,
      "toc_position": {},
      "toc_section_display": true,
      "toc_window_display": false
    },
    "colab": {
      "provenance": []
    }
  },
  "nbformat": 4,
  "nbformat_minor": 0
}