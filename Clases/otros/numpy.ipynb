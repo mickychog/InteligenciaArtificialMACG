{
  "cells": [
    {
      "cell_type": "markdown",
      "metadata": {
        "id": "UuC2JrgY7bql"
      },
      "source": [
        "[![Open In Colab](https://colab.research.google.com/assets/colab-badge.svg)](https://colab.research.google.com/github/sensioai/blog/blob/master/007_numpy/numpy.ipynb)"
      ]
    },
    {
      "cell_type": "markdown",
      "metadata": {
        "id": "w5w0YPcR7bqs"
      },
      "source": [
        "# NumPy"
      ]
    },
    {
      "cell_type": "markdown",
      "metadata": {
        "id": "nC_ey7uT7bqu"
      },
      "source": [
        "`NumPy` (*Numerical Python*) es uno de los `módulos` más importantes y, probablemente, el más utilizado en el campo del cálculo numérico en el ecosistema de `Python`. En posts anteriores hemos visto como utilizar diferentes estructuras de datos en `Python` y otros `módulos` que nos ofrecen funciones matemáticas, cómo el módulo `math`. `NumPy` extiende esta funcionalidad en el campo del cálculo numérico de la siguiente manera:\n",
        "\n",
        "- Ofrece el objeto `ndarray`, similar a una lista de `Python` pero optimizada para el cálculo numérico. Nos referiremos a este objeto como `array` de `NumPy`, o simplemente `array`.\n",
        "- Implementa funciones matemáticas que pueden trabajar directamente sobre `arrays` sin tener que implementar bucles.\n",
        "- Proporciona funciones para leer/escribir datos a archivos de manera optimizada.\n",
        "- Permite aplicaciones de álgebra lineal, generación de números aleatorios y transformadas de Fourier.\n",
        "\n",
        "El núcleo de `Numpy` está implementado en C, ofreciendo *bindings* en `Python` para interactuar con él. Esto se traduce en que `NumPy` es más rápido que el equivalente en puro `Python`. Muchas otras librerías para el análisis de datos están construidas sobre `NumPy`, utilizando los `ndarrays` como la estructura de datos básica debido a su eficiencia. Para ilustrar esta propiedad vamos a calcular el tiempo necesario para llevar a cabo la misma operación en puro `Python` en comparación con `arrays` de `NumPy`."
      ]
    },
    {
      "cell_type": "code",
      "execution_count": null,
      "metadata": {
        "ExecuteTime": {
          "end_time": "2020-06-08T10:12:47.191796Z",
          "start_time": "2020-06-08T10:12:45.890131Z"
        },
        "id": "smWFru2S7bqw",
        "outputId": "81dffb9a-c786-417f-a56f-b80886d60b7b"
      },
      "outputs": [
        {
          "name": "stdout",
          "output_type": "stream",
          "text": [
            "Wall time: 655 ms\n"
          ]
        }
      ],
      "source": [
        "l = [i for i in range(10000000)]\n",
        "\n",
        "%time l2 = [2*i for i in l]"
      ]
    },
    {
      "cell_type": "code",
      "execution_count": null,
      "metadata": {
        "ExecuteTime": {
          "end_time": "2020-06-08T10:12:49.800556Z",
          "start_time": "2020-06-08T10:12:49.300612Z"
        },
        "id": "K2W1jHVU7bq2",
        "outputId": "5565ed03-4300-4066-efae-485bf0c8b21f"
      },
      "outputs": [
        {
          "name": "stdout",
          "output_type": "stream",
          "text": [
            "Wall time: 13.1 ms\n"
          ]
        }
      ],
      "source": [
        "import numpy as np\n",
        "\n",
        "a = np.array(l)\n",
        "\n",
        "%time a2 = 2*a"
      ]
    },
    {
      "cell_type": "markdown",
      "metadata": {
        "id": "2Ho0xNS27bq3"
      },
      "source": [
        "Podemos ver que `Numpy` es 50 veces más rápido que `Python` llevando a cabo la misma operación. No te preocupes por el resto de detalles, en las siguientes secciones aprenderás lo necesario para crear `arrays`, hacer operaciones, etc. Lo más importante es destacar que en `Python` necesitamos iterar por cada valor en la lista aplicando la operación en concreto (lo cual es lento) mientras que en `NumPy` podemos simplemente aplicar la operación al `array` entero confiando en la implementación para llevar a cabo la operación de la manera más eficiente posible."
      ]
    },
    {
      "cell_type": "markdown",
      "metadata": {
        "id": "sKYB9U1m7bq4"
      },
      "source": [
        "> ⚠️ `NumPy` es un `módulo` externo a `Python`. Para poder usarlo primero hay que instalarlo. Puedes hacerlo abriendo un terminal y escribiendo `conda install numpy` si instalaste `Python` usando `conda`. Alternativamente, puedes hacerlo con `pip install numpy`. Si necesitas ayuda en este paso te recomiendo leer el [post](https://sensioai.com/blog/001_python) en el que instalamos `Python` y vimos como instalar librerías."
      ]
    },
    {
      "cell_type": "markdown",
      "metadata": {
        "heading_collapsed": true,
        "id": "U8pMU73c7bq6"
      },
      "source": [
        "## El objeto `ndarray`"
      ]
    },
    {
      "cell_type": "markdown",
      "metadata": {
        "hidden": true,
        "id": "7bzpRXMo7bq8"
      },
      "source": [
        "Como hemos comentado en la sección anterior, `NumPy` está basado en el objeto `ndarray`. Puedes ver este objeto como una lista de `Python` con súperpoderes. El objeto `ndarray` es multidimensional, lo que implica que nos permite representar tanto valores escalares como vectores, matrices y matrices multidimensionales (lo que llamamos `tensores`).\n",
        "\n",
        "Para poder trabajar con `NumPy`, primero tenemos que importarlo. Es común importarlo con el nombre `np`."
      ]
    },
    {
      "cell_type": "code",
      "execution_count": null,
      "metadata": {
        "ExecuteTime": {
          "end_time": "2020-06-08T10:25:18.123136Z",
          "start_time": "2020-06-08T10:25:18.111137Z"
        },
        "hidden": true,
        "id": "D70XlJjM7bq9"
      },
      "outputs": [],
      "source": [
        "import numpy as np"
      ]
    },
    {
      "cell_type": "markdown",
      "metadata": {
        "hidden": true,
        "id": "WGu9lNeO7bq-"
      },
      "source": [
        "Tenemos varias maneras de crear un `array`. Una de ellas es utilizar funciones implementadas en `NumPy` para la creación de `arrays`, indicando el número de elementos en cada dimensión."
      ]
    },
    {
      "cell_type": "code",
      "execution_count": null,
      "metadata": {
        "ExecuteTime": {
          "end_time": "2020-06-08T10:27:25.094898Z",
          "start_time": "2020-06-08T10:27:25.079360Z"
        },
        "hidden": true,
        "id": "R2XI4Daa7bq_",
        "outputId": "1c071c52-0ff7-4965-ff71-55bea79d4848"
      },
      "outputs": [
        {
          "data": {
            "text/plain": [
              "array([0., 0., 0., 0., 0.])"
            ]
          },
          "execution_count": 11,
          "metadata": {},
          "output_type": "execute_result"
        }
      ],
      "source": [
        "# crear un vector de ceros\n",
        "\n",
        "np.zeros(5)"
      ]
    },
    {
      "cell_type": "code",
      "execution_count": null,
      "metadata": {
        "ExecuteTime": {
          "end_time": "2020-06-08T10:27:55.920246Z",
          "start_time": "2020-06-08T10:27:55.915429Z"
        },
        "hidden": true,
        "id": "ooyOb9QL7brA",
        "outputId": "b82d475a-13d5-4a80-a020-ea625781a78a"
      },
      "outputs": [
        {
          "data": {
            "text/plain": [
              "array([[0., 0., 0., 0.],\n",
              "       [0., 0., 0., 0.],\n",
              "       [0., 0., 0., 0.]])"
            ]
          },
          "execution_count": 12,
          "metadata": {},
          "output_type": "execute_result"
        }
      ],
      "source": [
        "# crear una matriz de ceros\n",
        "\n",
        "np.zeros((3, 4))"
      ]
    },
    {
      "cell_type": "markdown",
      "metadata": {
        "hidden": true,
        "id": "CjlAVeqG7brB"
      },
      "source": [
        "De la misma manera podemos crear `arrays` de 1s, con un valor determinado o sin inicializar con las funciones `np.one()`, `np.full()` o `np.empty()` respectivamente. Estas son algunas de las propiedades de un `array`."
      ]
    },
    {
      "cell_type": "code",
      "execution_count": null,
      "metadata": {
        "ExecuteTime": {
          "end_time": "2020-06-08T10:36:13.648407Z",
          "start_time": "2020-06-08T10:36:13.643351Z"
        },
        "hidden": true,
        "id": "xBngnPcl7brB",
        "outputId": "550bf84f-5aad-4465-a45c-662b86ad2fe5"
      },
      "outputs": [
        {
          "data": {
            "text/plain": [
              "array([[[1., 1.],\n",
              "        [1., 1.],\n",
              "        [1., 1.],\n",
              "        [1., 1.]],\n",
              "\n",
              "       [[1., 1.],\n",
              "        [1., 1.],\n",
              "        [1., 1.],\n",
              "        [1., 1.]],\n",
              "\n",
              "       [[1., 1.],\n",
              "        [1., 1.],\n",
              "        [1., 1.],\n",
              "        [1., 1.]]])"
            ]
          },
          "execution_count": 34,
          "metadata": {},
          "output_type": "execute_result"
        }
      ],
      "source": [
        "# tensor de unos\n",
        "\n",
        "a = np.ones((3, 4, 2))\n",
        "\n",
        "a"
      ]
    },
    {
      "cell_type": "code",
      "execution_count": null,
      "metadata": {
        "ExecuteTime": {
          "end_time": "2020-06-08T10:36:16.096730Z",
          "start_time": "2020-06-08T10:36:16.091731Z"
        },
        "hidden": true,
        "id": "uX-JIG_b7brC",
        "outputId": "4f7115e0-c6dd-4fe6-d381-9fc0ccd5297a"
      },
      "outputs": [
        {
          "data": {
            "text/plain": [
              "(3, 4, 2)"
            ]
          },
          "execution_count": 35,
          "metadata": {},
          "output_type": "execute_result"
        }
      ],
      "source": [
        "# numero elementos en cada dimension\n",
        "\n",
        "a.shape"
      ]
    },
    {
      "cell_type": "code",
      "execution_count": null,
      "metadata": {
        "ExecuteTime": {
          "end_time": "2020-06-08T10:36:16.222194Z",
          "start_time": "2020-06-08T10:36:16.219194Z"
        },
        "hidden": true,
        "id": "DeAWx68P7brC",
        "outputId": "4c9531a1-12ff-4c81-c04d-b7403683f9ee"
      },
      "outputs": [
        {
          "data": {
            "text/plain": [
              "3"
            ]
          },
          "execution_count": 36,
          "metadata": {},
          "output_type": "execute_result"
        }
      ],
      "source": [
        "# longitud del array\n",
        "\n",
        "a.ndim"
      ]
    },
    {
      "cell_type": "code",
      "execution_count": null,
      "metadata": {
        "ExecuteTime": {
          "end_time": "2020-06-08T10:36:16.346804Z",
          "start_time": "2020-06-08T10:36:16.342802Z"
        },
        "hidden": true,
        "id": "BRUARYvN7brD",
        "outputId": "e1cf5147-e09c-42e8-8250-5ad55fd28535"
      },
      "outputs": [
        {
          "data": {
            "text/plain": [
              "24"
            ]
          },
          "execution_count": 37,
          "metadata": {},
          "output_type": "execute_result"
        }
      ],
      "source": [
        "# elementos totales en el array\n",
        "\n",
        "a.size"
      ]
    },
    {
      "cell_type": "markdown",
      "metadata": {
        "hidden": true,
        "id": "03rAZNZf7brE"
      },
      "source": [
        "Otra manera muy común de inicializar `arrays` de `Numpy` es mediante listas de `Python`. Para ello usamos la función `np.array()`."
      ]
    },
    {
      "cell_type": "code",
      "execution_count": null,
      "metadata": {
        "ExecuteTime": {
          "end_time": "2020-06-08T10:37:14.766093Z",
          "start_time": "2020-06-08T10:37:14.758585Z"
        },
        "hidden": true,
        "id": "jKnd2BLR7brE",
        "outputId": "1a966da5-5a18-49f6-bb05-749a83f1fce0"
      },
      "outputs": [
        {
          "data": {
            "text/plain": [
              "array([[1, 2, 3],\n",
              "       [4, 5, 6]])"
            ]
          },
          "execution_count": 38,
          "metadata": {},
          "output_type": "execute_result"
        }
      ],
      "source": [
        "np.array([[1, 2, 3],[4, 5, 6]])"
      ]
    },
    {
      "cell_type": "markdown",
      "metadata": {
        "hidden": true,
        "id": "_2Kf_e6D7brF"
      },
      "source": [
        "Por último, también podemos crear `arrays` mediante funciones secuenciales o con valores aleatorios de la siguiente manera."
      ]
    },
    {
      "cell_type": "code",
      "execution_count": null,
      "metadata": {
        "ExecuteTime": {
          "end_time": "2020-06-08T10:40:27.594680Z",
          "start_time": "2020-06-08T10:40:27.578868Z"
        },
        "hidden": true,
        "id": "4dijrOwR7brF",
        "outputId": "da1db564-3b5e-4757-a9c1-07022758dce5"
      },
      "outputs": [
        {
          "data": {
            "text/plain": [
              "array([1, 2, 3, 4])"
            ]
          },
          "execution_count": 40,
          "metadata": {},
          "output_type": "execute_result"
        }
      ],
      "source": [
        "# vector de `int` en rango\n",
        "\n",
        "np.arange(1, 5)"
      ]
    },
    {
      "cell_type": "code",
      "execution_count": null,
      "metadata": {
        "ExecuteTime": {
          "end_time": "2020-06-08T10:41:50.084272Z",
          "start_time": "2020-06-08T10:41:50.072416Z"
        },
        "hidden": true,
        "id": "AmrXmXFQ7brG",
        "outputId": "ba76cf79-c088-42fe-c525-65c04d9c830f"
      },
      "outputs": [
        {
          "data": {
            "text/plain": [
              "array([0.        , 0.11111111, 0.22222222, 0.33333333, 0.44444444,\n",
              "       0.55555556, 0.66666667, 0.77777778, 0.88888889, 1.        ])"
            ]
          },
          "execution_count": 50,
          "metadata": {},
          "output_type": "execute_result"
        }
      ],
      "source": [
        "# vector de `float` en rango\n",
        "\n",
        "np.linspace(0, 1, 10)"
      ]
    },
    {
      "cell_type": "code",
      "execution_count": null,
      "metadata": {
        "ExecuteTime": {
          "end_time": "2020-06-08T10:42:23.378901Z",
          "start_time": "2020-06-08T10:42:23.370882Z"
        },
        "hidden": true,
        "id": "4VhkfoT57brG",
        "outputId": "85d05968-1a47-4ff4-a385-77a5f6906a1f"
      },
      "outputs": [
        {
          "data": {
            "text/plain": [
              "array([[0.91866741, 0.285973  , 0.18087869, 0.32169549],\n",
              "       [0.54680139, 0.91715266, 0.37301333, 0.22500604],\n",
              "       [0.34965872, 0.48719109, 0.74743635, 0.03647023]])"
            ]
          },
          "execution_count": 51,
          "metadata": {},
          "output_type": "execute_result"
        }
      ],
      "source": [
        "# matriz de números aleatorios\n",
        "\n",
        "np.random.rand(3,4)"
      ]
    },
    {
      "cell_type": "markdown",
      "metadata": {
        "heading_collapsed": true,
        "hidden": true,
        "id": "AUSwsECN7brG"
      },
      "source": [
        "### Tipos de datos"
      ]
    },
    {
      "cell_type": "markdown",
      "metadata": {
        "hidden": true,
        "id": "qIdFfkxL7brH"
      },
      "source": [
        "Un motivo por el que los `arrays` de `NumPy` son tan eficientes es que todos los elementos en el `array` deben tener el mismo tipo."
      ]
    },
    {
      "cell_type": "code",
      "execution_count": null,
      "metadata": {
        "ExecuteTime": {
          "end_time": "2020-06-08T10:46:03.238251Z",
          "start_time": "2020-06-08T10:46:03.220251Z"
        },
        "hidden": true,
        "id": "K4YoT7VJ7brH",
        "outputId": "cc0dc009-b9d9-472e-c330-03ba6d628851"
      },
      "outputs": [
        {
          "data": {
            "text/plain": [
              "array([1, 2, 3, 4])"
            ]
          },
          "execution_count": 52,
          "metadata": {},
          "output_type": "execute_result"
        }
      ],
      "source": [
        "a = np.arange(1, 5)\n",
        "a"
      ]
    },
    {
      "cell_type": "code",
      "execution_count": null,
      "metadata": {
        "ExecuteTime": {
          "end_time": "2020-06-08T10:46:14.177215Z",
          "start_time": "2020-06-08T10:46:14.159207Z"
        },
        "hidden": true,
        "id": "zXaX4-H37brH",
        "outputId": "7fb7b4ad-0d93-4b4f-f2d1-49551ba151e3"
      },
      "outputs": [
        {
          "data": {
            "text/plain": [
              "dtype('int32')"
            ]
          },
          "execution_count": 54,
          "metadata": {},
          "output_type": "execute_result"
        }
      ],
      "source": [
        "# acceder al tipo de datos\n",
        "\n",
        "a.dtype"
      ]
    },
    {
      "cell_type": "markdown",
      "metadata": {
        "hidden": true,
        "id": "KH0iU8Mi7brI"
      },
      "source": [
        "Podemos indicarle a `NumPy` el tipo de dato con el que queremos trabajar al crear nuestro `array`."
      ]
    },
    {
      "cell_type": "code",
      "execution_count": null,
      "metadata": {
        "ExecuteTime": {
          "end_time": "2020-06-08T10:47:05.629406Z",
          "start_time": "2020-06-08T10:47:05.615412Z"
        },
        "hidden": true,
        "id": "CrWeODbe7brI",
        "outputId": "cb4ad566-c75e-44dc-f8fa-e0ab943cb2c7"
      },
      "outputs": [
        {
          "data": {
            "text/plain": [
              "array([1, 2, 3, 4], dtype=uint8)"
            ]
          },
          "execution_count": 57,
          "metadata": {},
          "output_type": "execute_result"
        }
      ],
      "source": [
        "a = np.arange(1, 5, dtype=np.uint8)\n",
        "a"
      ]
    },
    {
      "cell_type": "markdown",
      "metadata": {
        "hidden": true,
        "id": "iMnfWcIS7brI"
      },
      "source": [
        "Los tipos disponibles son `int8`, `int16`, `int32`, `int64`, `uint8`|`16`|`32`|`64`, `float16`|`32`|`64` y `complex64`|`128`. Puedes encontrar una lista completa en la [documentación](http://docs.scipy.org/doc/numpy-1.10.1/user/basics.types.html).\n"
      ]
    },
    {
      "cell_type": "markdown",
      "metadata": {
        "heading_collapsed": true,
        "hidden": true,
        "id": "OqOCrhgM7brJ"
      },
      "source": [
        "### Cambiando la forma"
      ]
    },
    {
      "cell_type": "markdown",
      "metadata": {
        "hidden": true,
        "id": "xfKMGMMk7brJ"
      },
      "source": [
        "Es muy común cambiar la forma de un `array` para acomodarlo a ciertas operaciones."
      ]
    },
    {
      "cell_type": "code",
      "execution_count": null,
      "metadata": {
        "ExecuteTime": {
          "end_time": "2020-06-08T10:50:02.114394Z",
          "start_time": "2020-06-08T10:50:02.103593Z"
        },
        "hidden": true,
        "id": "tsHou5YH7brK",
        "outputId": "bc64480d-c6c4-41d6-876b-608577a4fa39"
      },
      "outputs": [
        {
          "data": {
            "text/plain": [
              "array([0, 1, 2, 3, 4, 5, 6, 7, 8, 9])"
            ]
          },
          "execution_count": 61,
          "metadata": {},
          "output_type": "execute_result"
        }
      ],
      "source": [
        "# vector\n",
        "\n",
        "a = np.arange(10)\n",
        "a"
      ]
    },
    {
      "cell_type": "code",
      "execution_count": null,
      "metadata": {
        "ExecuteTime": {
          "end_time": "2020-06-08T10:50:11.551539Z",
          "start_time": "2020-06-08T10:50:11.542531Z"
        },
        "hidden": true,
        "id": "jF01r5Vj7brK",
        "outputId": "1ac34580-f2b9-46ff-dd6a-c4911e00832b"
      },
      "outputs": [
        {
          "data": {
            "text/plain": [
              "array([[0, 1, 2, 3, 4],\n",
              "       [5, 6, 7, 8, 9]])"
            ]
          },
          "execution_count": 62,
          "metadata": {},
          "output_type": "execute_result"
        }
      ],
      "source": [
        "# convertir vector en matriz\n",
        "\n",
        "a2 = a.reshape(2,5)\n",
        "a2"
      ]
    },
    {
      "cell_type": "markdown",
      "metadata": {
        "hidden": true,
        "id": "znMhrcaJ7brL"
      },
      "source": [
        "Obviamente, para poder cambiar la forma del `array` el número de elementos tiene que encajar en el número de nuevas dimensiones."
      ]
    },
    {
      "cell_type": "code",
      "execution_count": null,
      "metadata": {
        "ExecuteTime": {
          "end_time": "2020-06-08T10:51:00.683320Z",
          "start_time": "2020-06-08T10:51:00.664320Z"
        },
        "hidden": true,
        "id": "urIBpBUV7brL",
        "outputId": "a29b3b3d-9993-408a-d9ff-23cb069c4178"
      },
      "outputs": [
        {
          "ename": "ValueError",
          "evalue": "cannot reshape array of size 10 into shape (2,4)",
          "output_type": "error",
          "traceback": [
            "\u001b[1;31m---------------------------------------------------------------------------\u001b[0m",
            "\u001b[1;31mValueError\u001b[0m                                Traceback (most recent call last)",
            "\u001b[1;32m<ipython-input-63-5fcd0a049a15>\u001b[0m in \u001b[0;36m<module>\u001b[1;34m\u001b[0m\n\u001b[1;32m----> 1\u001b[1;33m \u001b[0ma\u001b[0m\u001b[1;33m.\u001b[0m\u001b[0mreshape\u001b[0m\u001b[1;33m(\u001b[0m\u001b[1;36m2\u001b[0m\u001b[1;33m,\u001b[0m\u001b[1;36m4\u001b[0m\u001b[1;33m)\u001b[0m\u001b[1;33m\u001b[0m\u001b[1;33m\u001b[0m\u001b[0m\n\u001b[0m",
            "\u001b[1;31mValueError\u001b[0m: cannot reshape array of size 10 into shape (2,4)"
          ]
        }
      ],
      "source": [
        "a.reshape(2,4)"
      ]
    },
    {
      "cell_type": "code",
      "execution_count": null,
      "metadata": {
        "ExecuteTime": {
          "end_time": "2020-06-08T10:51:27.559648Z",
          "start_time": "2020-06-08T10:51:27.549648Z"
        },
        "hidden": true,
        "id": "dPD0Z-sf7brL",
        "outputId": "50bca53d-6f89-4e1a-ef80-e067275febdc"
      },
      "outputs": [
        {
          "data": {
            "text/plain": [
              "array([0, 1, 2, 3, 4, 5, 6, 7, 8, 9])"
            ]
          },
          "execution_count": 65,
          "metadata": {},
          "output_type": "execute_result"
        }
      ],
      "source": [
        "# convertir en vector\n",
        "\n",
        "a2.ravel()"
      ]
    },
    {
      "cell_type": "markdown",
      "metadata": {
        "id": "9B5H6UyW7brM"
      },
      "source": [
        "## Operaciones aritméticas"
      ]
    },
    {
      "cell_type": "markdown",
      "metadata": {
        "id": "1QZ35jfV7brV"
      },
      "source": [
        "Una de las aplicaciones en las que los `arrays` de `NumPy` brillan es en la facilidad de usar operaciones artiméticas de manera optimizada y sin tener que implementar bucles como hacemos en `Python`. Esta propiedad se conoce como `vectorización`, algo de lo que hablaremos en más detalle en un futuro post. Podemos usar los operadores que ya conocemos de `Python` directamente con nuestros `arrays`."
      ]
    },
    {
      "cell_type": "code",
      "execution_count": null,
      "metadata": {
        "ExecuteTime": {
          "end_time": "2020-06-08T10:56:47.417495Z",
          "start_time": "2020-06-08T10:56:47.407672Z"
        },
        "id": "aON7V6Xj7brV",
        "outputId": "2fa9e7d4-c38e-4d27-d2c1-327533ef6696"
      },
      "outputs": [
        {
          "data": {
            "text/plain": [
              "array([19, 27, 35, 43])"
            ]
          },
          "execution_count": 73,
          "metadata": {},
          "output_type": "execute_result"
        }
      ],
      "source": [
        "a = np.array([14, 23, 32, 41])\n",
        "b = np.array([5,  4,  3,  2])\n",
        "\n",
        "a + b"
      ]
    },
    {
      "cell_type": "code",
      "execution_count": null,
      "metadata": {
        "ExecuteTime": {
          "end_time": "2020-06-08T10:56:47.808265Z",
          "start_time": "2020-06-08T10:56:47.795263Z"
        },
        "id": "SvJ4v31Z7brW",
        "outputId": "89aa1532-5d30-49dd-c648-b546b31a2676"
      },
      "outputs": [
        {
          "data": {
            "text/plain": [
              "array([ 9, 19, 29, 39])"
            ]
          },
          "execution_count": 74,
          "metadata": {},
          "output_type": "execute_result"
        }
      ],
      "source": [
        "a - b"
      ]
    },
    {
      "cell_type": "code",
      "execution_count": null,
      "metadata": {
        "ExecuteTime": {
          "end_time": "2020-06-08T10:56:47.933546Z",
          "start_time": "2020-06-08T10:56:47.918546Z"
        },
        "id": "7x-5fbdK7brX",
        "outputId": "e44d3fdb-46cc-4b91-b3bc-290365305479"
      },
      "outputs": [
        {
          "data": {
            "text/plain": [
              "array([70, 92, 96, 82])"
            ]
          },
          "execution_count": 75,
          "metadata": {},
          "output_type": "execute_result"
        }
      ],
      "source": [
        "a*b"
      ]
    },
    {
      "cell_type": "code",
      "execution_count": null,
      "metadata": {
        "ExecuteTime": {
          "end_time": "2020-06-08T10:56:48.075425Z",
          "start_time": "2020-06-08T10:56:48.059421Z"
        },
        "id": "TImc-TAh7brX",
        "outputId": "bc1ee55c-3d9e-4fd9-893a-44947db14542"
      },
      "outputs": [
        {
          "data": {
            "text/plain": [
              "array([ 2.8       ,  5.75      , 10.66666667, 20.5       ])"
            ]
          },
          "execution_count": 76,
          "metadata": {},
          "output_type": "execute_result"
        }
      ],
      "source": [
        "a / b"
      ]
    },
    {
      "cell_type": "markdown",
      "metadata": {
        "id": "7V-79zpY7brY"
      },
      "source": [
        "> ⚠️ Estas operaciones son *elementwise*, se aplican elemento a elemento. Para llevar a cabo otras operaciones como por ejemplo el producto escalar de dos vectores usaremos las funciones apropiadas que veremos en un futuro post."
      ]
    },
    {
      "cell_type": "markdown",
      "metadata": {
        "id": "wAz8Cqih7brY"
      },
      "source": [
        "Podremos aplicar estas operaciones siempre que las dimensiones de los `arrays` coincidan. De no ser así, es posible que `NumPy` siga dándonos resultados. Esto es debido a una propiedad conocida como *broadcasting*, algo que veremos en más detalle en un próximo post."
      ]
    },
    {
      "cell_type": "markdown",
      "metadata": {
        "id": "4ErqRMWV7brY"
      },
      "source": [
        "## Indexado y Troceado"
      ]
    },
    {
      "cell_type": "markdown",
      "metadata": {
        "id": "0JJEaopa7brZ"
      },
      "source": [
        "`NumPy` adopta la misma lógica de indexado y troceado que `Python`, algo que ya conocemos y que puedes refrescar en este [post](https://sensioai.com/blog/003_python_estructuras)."
      ]
    },
    {
      "cell_type": "code",
      "execution_count": null,
      "metadata": {
        "ExecuteTime": {
          "end_time": "2020-06-08T11:02:38.095202Z",
          "start_time": "2020-06-08T11:02:38.085469Z"
        },
        "id": "cEBlbdJ87brZ",
        "outputId": "8f89602e-9a0e-43a7-f5bb-d05a11f83ffb"
      },
      "outputs": [
        {
          "data": {
            "text/plain": [
              "array([ 1,  5,  3, 19, 13,  7,  3])"
            ]
          },
          "execution_count": 77,
          "metadata": {},
          "output_type": "execute_result"
        }
      ],
      "source": [
        "a = np.array([1, 5, 3, 19, 13, 7, 3])\n",
        "a"
      ]
    },
    {
      "cell_type": "code",
      "execution_count": null,
      "metadata": {
        "ExecuteTime": {
          "end_time": "2020-06-08T11:02:52.462563Z",
          "start_time": "2020-06-08T11:02:52.446541Z"
        },
        "id": "Lm_wxGTi7brZ",
        "outputId": "bffeb6fe-7c57-491c-d826-a4cc3da008ab"
      },
      "outputs": [
        {
          "data": {
            "text/plain": [
              "19"
            ]
          },
          "execution_count": 78,
          "metadata": {},
          "output_type": "execute_result"
        }
      ],
      "source": [
        "# acceder a un valor por su índice\n",
        "\n",
        "a[3]"
      ]
    },
    {
      "cell_type": "markdown",
      "metadata": {
        "id": "zbeBR0jJ7bra"
      },
      "source": [
        "> ⚠️ Igual que en `Python` el primer valor de un `array` tiene el índice 0."
      ]
    },
    {
      "cell_type": "code",
      "execution_count": null,
      "metadata": {
        "ExecuteTime": {
          "end_time": "2020-06-08T11:03:37.703152Z",
          "start_time": "2020-06-08T11:03:37.689614Z"
        },
        "id": "TVuQLErx7bra",
        "outputId": "1ff650d8-38cf-4d16-f306-b5865f2014db"
      },
      "outputs": [
        {
          "data": {
            "text/plain": [
              "array([ 3, 19, 13])"
            ]
          },
          "execution_count": 79,
          "metadata": {},
          "output_type": "execute_result"
        }
      ],
      "source": [
        "# troceado\n",
        "\n",
        "a[2:5]"
      ]
    },
    {
      "cell_type": "code",
      "execution_count": null,
      "metadata": {
        "ExecuteTime": {
          "end_time": "2020-06-08T11:04:08.853368Z",
          "start_time": "2020-06-08T11:04:08.842346Z"
        },
        "id": "NtfqlJAg7bra",
        "outputId": "2ac596ce-1367-470c-b476-6af238e7a04e"
      },
      "outputs": [
        {
          "data": {
            "text/plain": [
              "array([ 3, 19, 13,  7])"
            ]
          },
          "execution_count": 80,
          "metadata": {},
          "output_type": "execute_result"
        }
      ],
      "source": [
        "# usamos índices negativos para indexar desde el final\n",
        "\n",
        "a[2:-1]"
      ]
    },
    {
      "cell_type": "markdown",
      "metadata": {
        "id": "9el3DsEM7brb"
      },
      "source": [
        "Podemos indexar `arrys` multidimensionales con diferentes índices para cada dimensión, separados por comas."
      ]
    },
    {
      "cell_type": "code",
      "execution_count": null,
      "metadata": {
        "ExecuteTime": {
          "end_time": "2020-06-08T11:05:53.806117Z",
          "start_time": "2020-06-08T11:05:53.790039Z"
        },
        "id": "8VBE-Ond7brb",
        "outputId": "b8feeab5-3fcd-4637-f27c-9025a38e0632"
      },
      "outputs": [
        {
          "data": {
            "text/plain": [
              "array([[ 0,  1,  2,  3,  4,  5,  6,  7,  8,  9, 10, 11],\n",
              "       [12, 13, 14, 15, 16, 17, 18, 19, 20, 21, 22, 23],\n",
              "       [24, 25, 26, 27, 28, 29, 30, 31, 32, 33, 34, 35],\n",
              "       [36, 37, 38, 39, 40, 41, 42, 43, 44, 45, 46, 47]])"
            ]
          },
          "execution_count": 81,
          "metadata": {},
          "output_type": "execute_result"
        }
      ],
      "source": [
        "b = np.arange(48).reshape(4, 12)\n",
        "b"
      ]
    },
    {
      "cell_type": "code",
      "execution_count": null,
      "metadata": {
        "ExecuteTime": {
          "end_time": "2020-06-08T11:06:57.887556Z",
          "start_time": "2020-06-08T11:06:57.873557Z"
        },
        "id": "6tLkWVXe7brb",
        "outputId": "a157b22f-fb24-432c-c03f-e3ea1af2a8d9"
      },
      "outputs": [
        {
          "data": {
            "text/plain": [
              "14"
            ]
          },
          "execution_count": 86,
          "metadata": {},
          "output_type": "execute_result"
        }
      ],
      "source": [
        "# valor en segunda fila, tercera columna\n",
        "\n",
        "b[1, 2]"
      ]
    },
    {
      "cell_type": "code",
      "execution_count": null,
      "metadata": {
        "ExecuteTime": {
          "end_time": "2020-06-08T11:06:58.013555Z",
          "start_time": "2020-06-08T11:06:57.995558Z"
        },
        "id": "YZZNUTNe7brc",
        "outputId": "cad6b302-4b25-416d-cbfb-3b8af867b73e"
      },
      "outputs": [
        {
          "data": {
            "text/plain": [
              "array([12, 13, 14, 15, 16, 17, 18, 19, 20, 21, 22, 23])"
            ]
          },
          "execution_count": 87,
          "metadata": {},
          "output_type": "execute_result"
        }
      ],
      "source": [
        "# segunda fila\n",
        "\n",
        "b[1, :]"
      ]
    },
    {
      "cell_type": "code",
      "execution_count": null,
      "metadata": {
        "ExecuteTime": {
          "end_time": "2020-06-08T11:07:12.146700Z",
          "start_time": "2020-06-08T11:07:12.135701Z"
        },
        "id": "IO5xrA2U7brc",
        "outputId": "a60cb68e-5942-4617-c795-39b1ac5affe9"
      },
      "outputs": [
        {
          "data": {
            "text/plain": [
              "array([11, 23, 35, 47])"
            ]
          },
          "execution_count": 88,
          "metadata": {},
          "output_type": "execute_result"
        }
      ],
      "source": [
        "# última columna\n",
        "\n",
        "b[:, -1]"
      ]
    },
    {
      "cell_type": "markdown",
      "metadata": {
        "id": "APF2el9V7brd"
      },
      "source": [
        "### Indexado *fancy*"
      ]
    },
    {
      "cell_type": "markdown",
      "metadata": {
        "id": "jjhKgrbI7bre"
      },
      "source": [
        "El indexado *fancy* nos permite indexar un `array` mediante una lista con los índices de interés."
      ]
    },
    {
      "cell_type": "code",
      "execution_count": null,
      "metadata": {
        "ExecuteTime": {
          "end_time": "2020-06-08T11:10:07.527162Z",
          "start_time": "2020-06-08T11:10:07.507168Z"
        },
        "id": "CTRtfIWO7bre",
        "outputId": "616d5c88-ee3b-4019-f337-f47ddd83389a"
      },
      "outputs": [
        {
          "data": {
            "text/plain": [
              "array([[ 2,  3],\n",
              "       [26, 27]])"
            ]
          },
          "execution_count": 92,
          "metadata": {},
          "output_type": "execute_result"
        }
      ],
      "source": [
        "# primera y tercera fila, desde la tercera columna a la cuarta\n",
        "\n",
        "b[(0,2),2:4]"
      ]
    },
    {
      "cell_type": "markdown",
      "metadata": {
        "id": "Vl8Nug_F7bre"
      },
      "source": [
        "### Indexado booleano"
      ]
    },
    {
      "cell_type": "markdown",
      "metadata": {
        "ExecuteTime": {
          "end_time": "2020-06-08T11:11:11.523806Z",
          "start_time": "2020-06-08T11:11:11.506776Z"
        },
        "id": "mqNK04-p7bre"
      },
      "source": [
        "El indexado booleano es muy útil para trabajar con máscaras."
      ]
    },
    {
      "cell_type": "code",
      "execution_count": null,
      "metadata": {
        "ExecuteTime": {
          "end_time": "2020-06-08T11:11:41.567056Z",
          "start_time": "2020-06-08T11:11:41.550035Z"
        },
        "id": "u_XRe1fW7bri",
        "outputId": "baaf511f-4ab5-460c-d0e0-3a2223dc959b"
      },
      "outputs": [
        {
          "data": {
            "text/plain": [
              "array([1, 3])"
            ]
          },
          "execution_count": 94,
          "metadata": {},
          "output_type": "execute_result"
        }
      ],
      "source": [
        "a = np.array([1, 2, 3, 4])\n",
        "mask = np.array([True, False, True, False])\n",
        "\n",
        "a[mask]"
      ]
    },
    {
      "cell_type": "markdown",
      "metadata": {
        "id": "8Vg0DXI77brj"
      },
      "source": [
        "## Iterado"
      ]
    },
    {
      "cell_type": "markdown",
      "metadata": {
        "id": "S2cWOHCa7brj"
      },
      "source": [
        "Podemos iterar sobre un `array` de `NumPy` de la misma manera que iteramos cualquier otra estructura de datos en `Python`."
      ]
    },
    {
      "cell_type": "code",
      "execution_count": null,
      "metadata": {
        "ExecuteTime": {
          "end_time": "2020-06-08T11:14:24.355239Z",
          "start_time": "2020-06-08T11:14:24.337214Z"
        },
        "id": "tLNtuMbV7brj",
        "outputId": "944d8333-da4e-4001-aaac-7619d55abe00"
      },
      "outputs": [
        {
          "data": {
            "text/plain": [
              "array([0, 1, 2, 3, 4])"
            ]
          },
          "execution_count": 95,
          "metadata": {},
          "output_type": "execute_result"
        }
      ],
      "source": [
        "a = np.arange(5)\n",
        "a"
      ]
    },
    {
      "cell_type": "code",
      "execution_count": null,
      "metadata": {
        "ExecuteTime": {
          "end_time": "2020-06-08T11:14:29.465709Z",
          "start_time": "2020-06-08T11:14:29.454069Z"
        },
        "id": "ByensqMv7brk",
        "outputId": "6d370a2c-c4e6-4b60-c781-845b263e2211"
      },
      "outputs": [
        {
          "name": "stdout",
          "output_type": "stream",
          "text": [
            "0\n",
            "1\n",
            "2\n",
            "3\n",
            "4\n"
          ]
        }
      ],
      "source": [
        "for i in a:\n",
        "    print(i)"
      ]
    },
    {
      "cell_type": "markdown",
      "metadata": {
        "id": "ZeSJjTXm7brl"
      },
      "source": [
        "Al trabajar con `arrays` multidimensionales, necesitaremos un *loop* para cada dimensión."
      ]
    },
    {
      "cell_type": "code",
      "execution_count": null,
      "metadata": {
        "ExecuteTime": {
          "end_time": "2020-06-08T11:15:23.470727Z",
          "start_time": "2020-06-08T11:15:23.454700Z"
        },
        "id": "FUEukxgW7brl",
        "outputId": "ac38fe8e-d8a7-4e43-f916-17a38db9e633"
      },
      "outputs": [
        {
          "data": {
            "text/plain": [
              "array([[0, 1, 2],\n",
              "       [3, 4, 5],\n",
              "       [6, 7, 8]])"
            ]
          },
          "execution_count": 98,
          "metadata": {},
          "output_type": "execute_result"
        }
      ],
      "source": [
        "a = np.arange(9).reshape((3,3))\n",
        "a"
      ]
    },
    {
      "cell_type": "code",
      "execution_count": null,
      "metadata": {
        "ExecuteTime": {
          "end_time": "2020-06-08T11:15:57.760719Z",
          "start_time": "2020-06-08T11:15:57.746683Z"
        },
        "id": "9M3yHmgx7brm",
        "outputId": "717f864f-9a08-47f6-d0f8-de78e4b2e7fa"
      },
      "outputs": [
        {
          "name": "stdout",
          "output_type": "stream",
          "text": [
            "0\n",
            "1\n",
            "2\n",
            "3\n",
            "4\n",
            "5\n",
            "6\n",
            "7\n",
            "8\n"
          ]
        }
      ],
      "source": [
        "for fila in a:\n",
        "    for i in fila:\n",
        "        print(i)"
      ]
    },
    {
      "cell_type": "markdown",
      "metadata": {
        "id": "Igeys5rK7brn"
      },
      "source": [
        "## Guardar y Cargar"
      ]
    },
    {
      "cell_type": "markdown",
      "metadata": {
        "id": "VHrsjU1M7bro"
      },
      "source": [
        "Podemos guardar nuestros `arrays` en archivos que más tarde podemos cargar de nuevo."
      ]
    },
    {
      "cell_type": "code",
      "execution_count": null,
      "metadata": {
        "ExecuteTime": {
          "end_time": "2020-06-08T11:17:11.622578Z",
          "start_time": "2020-06-08T11:17:11.610082Z"
        },
        "id": "Lph-Jklc7bro",
        "outputId": "69bbaaf3-65f3-49e0-a8f8-bfcb6672dd35"
      },
      "outputs": [
        {
          "data": {
            "text/plain": [
              "array([[0.14663265, 0.98325048, 0.36281673],\n",
              "       [0.33008445, 0.31005347, 0.634345  ]])"
            ]
          },
          "execution_count": 102,
          "metadata": {},
          "output_type": "execute_result"
        }
      ],
      "source": [
        "a = np.random.rand(2,3)\n",
        "a"
      ]
    },
    {
      "cell_type": "code",
      "execution_count": null,
      "metadata": {
        "ExecuteTime": {
          "end_time": "2020-06-08T11:17:25.842313Z",
          "start_time": "2020-06-08T11:17:25.825289Z"
        },
        "id": "ivkfCchE7brp"
      },
      "outputs": [],
      "source": [
        "# guardar array en archivo\n",
        "\n",
        "np.save(\"mi_array\", a)"
      ]
    },
    {
      "cell_type": "markdown",
      "metadata": {
        "id": "GwNouypE7brp"
      },
      "source": [
        "Por defecto un `array` se guarda con la extensión `.npy`. Para cargar de nuevo el `array`"
      ]
    },
    {
      "cell_type": "code",
      "execution_count": null,
      "metadata": {
        "ExecuteTime": {
          "end_time": "2020-06-08T11:18:25.031883Z",
          "start_time": "2020-06-08T11:18:25.013883Z"
        },
        "id": "-XrdMPcf7brp",
        "outputId": "cf3fe66c-9290-441b-97d8-848e02f0cb71"
      },
      "outputs": [
        {
          "data": {
            "text/plain": [
              "array([[0.14663265, 0.98325048, 0.36281673],\n",
              "       [0.33008445, 0.31005347, 0.634345  ]])"
            ]
          },
          "execution_count": 105,
          "metadata": {},
          "output_type": "execute_result"
        }
      ],
      "source": [
        "b = np.load(\"mi_array.npy\")\n",
        "b"
      ]
    },
    {
      "cell_type": "markdown",
      "metadata": {
        "id": "H5-gLapv7brq"
      },
      "source": [
        "Las funciones que hemos visto guardan los `arrays` en formato binario para maximizar la velocidad de lectura. Sin embargo, podemos guardar nuestros `arrays` en formato texto para utilizarlos en otras aplicaciones."
      ]
    },
    {
      "cell_type": "code",
      "execution_count": null,
      "metadata": {
        "ExecuteTime": {
          "end_time": "2020-06-08T11:20:20.504327Z",
          "start_time": "2020-06-08T11:20:20.492801Z"
        },
        "id": "e4LgLPow7brq"
      },
      "outputs": [],
      "source": [
        "# guardar array en formato csv\n",
        "\n",
        "np.savetxt(\"mi_array.csv\", a, delimiter=\",\")"
      ]
    },
    {
      "cell_type": "markdown",
      "metadata": {
        "id": "QIcALy587brr"
      },
      "source": [
        "También podemos guardar varios `arrays` en un solo archivo comprimido en formato `.npz`."
      ]
    },
    {
      "cell_type": "code",
      "execution_count": null,
      "metadata": {
        "ExecuteTime": {
          "end_time": "2020-06-08T11:21:19.562505Z",
          "start_time": "2020-06-08T11:21:19.547951Z"
        },
        "id": "zISCkf4G7brr",
        "outputId": "c5fe7321-590b-45ca-b6c6-196343da3163"
      },
      "outputs": [
        {
          "data": {
            "text/plain": [
              "array([[[ 0,  1,  2,  3],\n",
              "        [ 4,  5,  6,  7],\n",
              "        [ 8,  9, 10, 11]],\n",
              "\n",
              "       [[12, 13, 14, 15],\n",
              "        [16, 17, 18, 19],\n",
              "        [20, 21, 22, 23]]], dtype=uint8)"
            ]
          },
          "execution_count": 107,
          "metadata": {},
          "output_type": "execute_result"
        }
      ],
      "source": [
        "b = np.arange(24, dtype=np.uint8).reshape(2, 3, 4)\n",
        "b"
      ]
    },
    {
      "cell_type": "code",
      "execution_count": null,
      "metadata": {
        "ExecuteTime": {
          "end_time": "2020-06-08T11:21:23.376906Z",
          "start_time": "2020-06-08T11:21:23.359904Z"
        },
        "id": "5OUW1GXP7brs",
        "outputId": "fafe1450-43ab-4bff-d2c0-09b7a5ccec86"
      },
      "outputs": [
        {
          "data": {
            "text/plain": [
              "array([[0.14663265, 0.98325048, 0.36281673],\n",
              "       [0.33008445, 0.31005347, 0.634345  ]])"
            ]
          },
          "execution_count": 108,
          "metadata": {},
          "output_type": "execute_result"
        }
      ],
      "source": [
        "a"
      ]
    },
    {
      "cell_type": "code",
      "execution_count": null,
      "metadata": {
        "ExecuteTime": {
          "end_time": "2020-06-08T11:21:47.155605Z",
          "start_time": "2020-06-08T11:21:47.144071Z"
        },
        "id": "WbpvFQ3z7brs"
      },
      "outputs": [],
      "source": [
        "# guardar arrays\n",
        "\n",
        "np.savez(\"mis_arrays\", a=a, b=b)"
      ]
    },
    {
      "cell_type": "code",
      "execution_count": null,
      "metadata": {
        "ExecuteTime": {
          "end_time": "2020-06-08T11:22:06.777013Z",
          "start_time": "2020-06-08T11:22:06.762011Z"
        },
        "id": "uezJB-Mn7brt",
        "outputId": "12e4ca40-b0b9-45cf-d543-a46556830873"
      },
      "outputs": [
        {
          "data": {
            "text/plain": [
              "<numpy.lib.npyio.NpzFile at 0x142cdf66e88>"
            ]
          },
          "execution_count": 112,
          "metadata": {},
          "output_type": "execute_result"
        }
      ],
      "source": [
        "# cargar arrays\n",
        "\n",
        "mis_arrays = np.load(\"mis_arrays.npz\")\n",
        "mis_arrays"
      ]
    },
    {
      "cell_type": "markdown",
      "metadata": {
        "id": "lnmmDLN17brt"
      },
      "source": [
        "Podemos extraer cada uno de los arrays mediante su nombre, al estilo `dict`."
      ]
    },
    {
      "cell_type": "code",
      "execution_count": null,
      "metadata": {
        "ExecuteTime": {
          "end_time": "2020-06-08T11:22:42.067652Z",
          "start_time": "2020-06-08T11:22:42.046629Z"
        },
        "id": "YjWxnnJz7bru",
        "outputId": "fce29ae6-c965-4792-eda0-0b84485812b5"
      },
      "outputs": [
        {
          "data": {
            "text/plain": [
              "array([[0.14663265, 0.98325048, 0.36281673],\n",
              "       [0.33008445, 0.31005347, 0.634345  ]])"
            ]
          },
          "execution_count": 113,
          "metadata": {},
          "output_type": "execute_result"
        }
      ],
      "source": [
        "mis_arrays[\"a\"]"
      ]
    },
    {
      "cell_type": "code",
      "execution_count": null,
      "metadata": {
        "ExecuteTime": {
          "end_time": "2020-06-08T11:22:46.166380Z",
          "start_time": "2020-06-08T11:22:46.148349Z"
        },
        "id": "mG9oOrfv7bru",
        "outputId": "94ef71bd-4100-4486-ed34-daca9da4ae55"
      },
      "outputs": [
        {
          "data": {
            "text/plain": [
              "array([[[ 0,  1,  2,  3],\n",
              "        [ 4,  5,  6,  7],\n",
              "        [ 8,  9, 10, 11]],\n",
              "\n",
              "       [[12, 13, 14, 15],\n",
              "        [16, 17, 18, 19],\n",
              "        [20, 21, 22, 23]]], dtype=uint8)"
            ]
          },
          "execution_count": 114,
          "metadata": {},
          "output_type": "execute_result"
        }
      ],
      "source": [
        "mis_arrays[\"b\"]"
      ]
    },
    {
      "cell_type": "markdown",
      "metadata": {
        "id": "Wv2dyf7a7bru"
      },
      "source": [
        "## Resumen"
      ]
    },
    {
      "cell_type": "markdown",
      "metadata": {
        "id": "IM2be9E97brv"
      },
      "source": [
        "En este post hemos introducido `NumPy` la librería de `Python` por defecto para cálculo numérico. Hemos hablado de sus propiedades principales y del objeto básico con el que trabajamos: el `ndarray`. Esta estructura de datos es similar a la lista de `Python`, pero implementada de manera eficiente para su aplicación en cálculo numérico. Con el `ndarray`, o simplemente `array`, podemos definir y operar con valores escalares, vectores, matrices y `tensores` de muchos tipos (numéricos). En el proceso del análisis de datos utilizaremos el `array` como estructura de datos básica tanto para representar nuestros datos (texto, imágenes, vídeos, datos tabulares, etc) como los distintos modelos y algoritmos de Machine Learning y Deep Learning que hagamos. En próximos posts hablaremos en más detalle sobre algunas características importantes que hay que tener en cuenta a la hora de trabajar con `NumPy` para sacarle el máximo provecho y empezaremos a utilizarlo para asentar las bases fundamentales que nos encaminarán hacia el desarrollo e implementación de algoritmos de Inteligencia Artificial."
      ]
    }
  ],
  "metadata": {
    "kernelspec": {
      "display_name": "Python 3",
      "language": "python",
      "name": "python3"
    },
    "language_info": {
      "codemirror_mode": {
        "name": "ipython",
        "version": 3
      },
      "file_extension": ".py",
      "mimetype": "text/x-python",
      "name": "python",
      "nbconvert_exporter": "python",
      "pygments_lexer": "ipython3",
      "version": "3.7.6"
    },
    "toc": {
      "base_numbering": 1,
      "nav_menu": {},
      "number_sections": true,
      "sideBar": true,
      "skip_h1_title": false,
      "title_cell": "Table of Contents",
      "title_sidebar": "Contents",
      "toc_cell": false,
      "toc_position": {},
      "toc_section_display": true,
      "toc_window_display": false
    },
    "colab": {
      "provenance": []
    }
  },
  "nbformat": 4,
  "nbformat_minor": 0
}