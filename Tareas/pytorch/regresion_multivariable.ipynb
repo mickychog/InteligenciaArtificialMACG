{
 "cells": [
  {
   "cell_type": "markdown",
   "metadata": {},
   "source": [
    "**REGRESION MULTIVARIABLE**"
   ]
  },
  {
   "cell_type": "code",
   "execution_count": 1,
   "metadata": {},
   "outputs": [],
   "source": [
    "import pandas as pd\n",
    "import torch\n",
    "import torch.nn as nn\n",
    "import torch.optim as optim\n",
    "from sklearn.model_selection import train_test_split\n",
    "from sklearn.preprocessing import StandardScaler\n",
    "from sklearn.preprocessing import LabelEncoder\n",
    "import numpy as np\n",
    "from datetime import datetime\n",
    "import matplotlib.pyplot as plt\n",
    "\n"
   ]
  },
  {
   "cell_type": "markdown",
   "metadata": {},
   "source": [
    "Carga y exploración de datos"
   ]
  },
  {
   "cell_type": "code",
   "execution_count": 2,
   "metadata": {},
   "outputs": [
    {
     "name": "stdout",
     "output_type": "stream",
     "text": [
      "   instant      dteday  season  yr  mnth  holiday  weekday  workingday  \\\n",
      "0        1  01.01.2018       1   0     1        0        6           0   \n",
      "1        2  02.01.2018       1   0     1        0        0           0   \n",
      "2        3  03.01.2018       1   0     1        0        1           1   \n",
      "3        4  04.01.2018       1   0     1        0        2           1   \n",
      "4        5  05.01.2018       1   0     1        0        3           1   \n",
      "\n",
      "   weathersit       temp     atemp      hum  windspeed  casual  registered  \\\n",
      "0           2  14.110847  18.18125  80.5833  10.749882     331         654   \n",
      "1           2  14.902598  17.68695  69.6087  16.652113     131         670   \n",
      "2           1   8.050924   9.47025  43.7273  16.636703     120        1229   \n",
      "3           1   8.200000  10.60610  59.0435  10.739832     108        1454   \n",
      "4           1   9.305237  11.46350  43.6957  12.522300      82        1518   \n",
      "\n",
      "    cnt  \n",
      "0   985  \n",
      "1   801  \n",
      "2  1349  \n",
      "3  1562  \n",
      "4  1600  \n"
     ]
    }
   ],
   "source": [
    "# Carga los datos desde un archivo CSV\n",
    "data = pd.read_csv('datasets/day1.csv')\n",
    "\n",
    "# Visualiza las primeras filas del conjunto de datos\n",
    "print(data.head())\n",
    "\n"
   ]
  },
  {
   "cell_type": "code",
   "execution_count": 3,
   "metadata": {},
   "outputs": [
    {
     "name": "stdout",
     "output_type": "stream",
     "text": [
      "<class 'pandas.core.frame.DataFrame'>\n",
      "RangeIndex: 730 entries, 0 to 729\n",
      "Data columns (total 16 columns):\n",
      " #   Column      Non-Null Count  Dtype  \n",
      "---  ------      --------------  -----  \n",
      " 0   instant     730 non-null    int64  \n",
      " 1   dteday      730 non-null    object \n",
      " 2   season      730 non-null    int64  \n",
      " 3   yr          730 non-null    int64  \n",
      " 4   mnth        730 non-null    int64  \n",
      " 5   holiday     730 non-null    int64  \n",
      " 6   weekday     730 non-null    int64  \n",
      " 7   workingday  730 non-null    int64  \n",
      " 8   weathersit  730 non-null    int64  \n",
      " 9   temp        730 non-null    float64\n",
      " 10  atemp       730 non-null    float64\n",
      " 11  hum         730 non-null    float64\n",
      " 12  windspeed   730 non-null    float64\n",
      " 13  casual      730 non-null    int64  \n",
      " 14  registered  730 non-null    int64  \n",
      " 15  cnt         730 non-null    int64  \n",
      "dtypes: float64(4), int64(11), object(1)\n",
      "memory usage: 91.4+ KB\n"
     ]
    }
   ],
   "source": [
    "# Realiza análisis exploratorio de datos\n",
    "data.info()"
   ]
  },
  {
   "cell_type": "markdown",
   "metadata": {},
   "source": [
    "Preprocesamiento de datos\n",
    "\n",
    "Realiza cualquier preprocesamiento necesario, como la eliminación de valores nulos, la codificación de variables categóricas y la normalización de datos."
   ]
  },
  {
   "cell_type": "code",
   "execution_count": 4,
   "metadata": {},
   "outputs": [],
   "source": [
    "#Convierte las variables categoricas en numericas \n",
    "columnas_categoricas = data.select_dtypes(include=['object']).columns\n",
    "# Convierte las variables tipo fechas en numericas\n",
    "columnas_fechas = data.select_dtypes(include=['datetime64']).columns"
   ]
  },
  {
   "cell_type": "code",
   "execution_count": 5,
   "metadata": {},
   "outputs": [],
   "source": [
    "\n",
    "#Procesamiento de frases o palabras\n",
    "for columna in columnas_categoricas:\n",
    "  le = LabelEncoder()\n",
    "  data[columna] = le.fit_transform(data[columna])"
   ]
  },
  {
   "cell_type": "code",
   "execution_count": 6,
   "metadata": {},
   "outputs": [],
   "source": [
    "# procesamiento de Fechas a numeros\n",
    "for columna in columnas_fechas:\n",
    "  data[columna] = pd.to_numeric(data[columna].map(datetime.timestamp))"
   ]
  },
  {
   "cell_type": "code",
   "execution_count": 7,
   "metadata": {},
   "outputs": [
    {
     "name": "stdout",
     "output_type": "stream",
     "text": [
      "<class 'pandas.core.frame.DataFrame'>\n",
      "RangeIndex: 730 entries, 0 to 729\n",
      "Data columns (total 16 columns):\n",
      " #   Column      Non-Null Count  Dtype  \n",
      "---  ------      --------------  -----  \n",
      " 0   instant     730 non-null    int64  \n",
      " 1   dteday      730 non-null    int32  \n",
      " 2   season      730 non-null    int64  \n",
      " 3   yr          730 non-null    int64  \n",
      " 4   mnth        730 non-null    int64  \n",
      " 5   holiday     730 non-null    int64  \n",
      " 6   weekday     730 non-null    int64  \n",
      " 7   workingday  730 non-null    int64  \n",
      " 8   weathersit  730 non-null    int64  \n",
      " 9   temp        730 non-null    float64\n",
      " 10  atemp       730 non-null    float64\n",
      " 11  hum         730 non-null    float64\n",
      " 12  windspeed   730 non-null    float64\n",
      " 13  casual      730 non-null    int64  \n",
      " 14  registered  730 non-null    int64  \n",
      " 15  cnt         730 non-null    int64  \n",
      "dtypes: float64(4), int32(1), int64(11)\n",
      "memory usage: 88.5 KB\n"
     ]
    }
   ],
   "source": [
    "# Realiza análisis exploratorio de datos\n",
    "\n",
    "data.info()"
   ]
  },
  {
   "cell_type": "code",
   "execution_count": 8,
   "metadata": {},
   "outputs": [],
   "source": [
    "# Elimina filas con valores nulos (si es necesario)\n",
    "data = data.dropna()\n",
    "\n",
    "# Divide el conjunto de datos en características (X) y variable objetivo (y)\n",
    "X = data.iloc[:, :15]\n",
    "y = data.iloc[:, 15]\n",
    "\n",
    "# Normaliza las características (opcional pero generalmente recomendado)\n",
    "scaler = StandardScaler()\n",
    "X = scaler.fit_transform(X)\n"
   ]
  },
  {
   "cell_type": "markdown",
   "metadata": {},
   "source": [
    "División del conjunto de datos\n",
    "\n",
    "Divide el conjunto de datos en conjuntos de entrenamiento y prueba."
   ]
  },
  {
   "cell_type": "code",
   "execution_count": 9,
   "metadata": {},
   "outputs": [],
   "source": [
    "X_train, X_test, y_train, y_test = train_test_split(X, y, test_size=0.2, random_state=42)\n"
   ]
  },
  {
   "cell_type": "markdown",
   "metadata": {},
   "source": [
    "**Conversion de datos de Numpy a tensores de Pytorch** para asegurar la compatibilidad con las operaciones y modelos de PyTorch, permitiendo el cálculo de gradientes durante el entrenamiento, lo que es esencial para el aprendizaje automático, y para aprovechar eficientemente la aceleración de hardware, como las GPUs, mientras se mantiene la flexibilidad de trabajar con datos en NumPy cuando sea necesario."
   ]
  },
  {
   "cell_type": "code",
   "execution_count": 10,
   "metadata": {},
   "outputs": [],
   "source": [
    "# Convertir tus datos de NumPy a tensores de PyTorch\n",
    "X_train_tensor = torch.Tensor(X_train)\n",
    "y_train_tensor = torch.Tensor(y_train)\n"
   ]
  },
  {
   "cell_type": "markdown",
   "metadata": {},
   "source": [
    "Definición del modelo de regresión\n",
    "\n",
    "Define tu modelo de regresión multivariable utilizando PyTorch."
   ]
  },
  {
   "cell_type": "code",
   "execution_count": 11,
   "metadata": {},
   "outputs": [],
   "source": [
    "# Define la clase RegresionMultivariable que hereda de nn.Module\n",
    "class RegresionMultivariable(nn.Module):\n",
    "    def __init__(self, input_dim):\n",
    "        super(RegresionMultivariable, self).__init__()\n",
    "        self.fc = nn.Linear(input_dim, 1)  # 1 salida para la regresión\n",
    "\n",
    "    def forward(self, x):\n",
    "        return self.fc(x)\n",
    "\n",
    "# Crea una instancia del modelo\n",
    "input_dim = X_train.shape[1]\n",
    "modelo = RegresionMultivariable(input_dim)\n"
   ]
  },
  {
   "cell_type": "markdown",
   "metadata": {},
   "source": [
    "Entrenamiento del modelo\n",
    "\n",
    "Entrena tu modelo utilizando los datos de entrenamiento."
   ]
  },
  {
   "cell_type": "code",
   "execution_count": 12,
   "metadata": {},
   "outputs": [
    {
     "name": "stderr",
     "output_type": "stream",
     "text": [
      "c:\\Users\\micky\\AppData\\Local\\Programs\\Python\\Python311\\Lib\\site-packages\\torch\\nn\\modules\\loss.py:536: UserWarning: Using a target size (torch.Size([584])) that is different to the input size (torch.Size([584, 1])). This will likely lead to incorrect results due to broadcasting. Please ensure they have the same size.\n",
      "  return F.mse_loss(input, target, reduction=self.reduction)\n"
     ]
    },
    {
     "name": "stdout",
     "output_type": "stream",
     "text": [
      "Época [100/800], Pérdida: 4204775.5000\n"
     ]
    },
    {
     "name": "stdout",
     "output_type": "stream",
     "text": [
      "Época [200/800], Pérdida: 3823961.0000\n",
      "Época [300/800], Pérdida: 3816314.5000\n",
      "Época [400/800], Pérdida: 3815954.0000\n",
      "Época [500/800], Pérdida: 3815835.5000\n",
      "Época [600/800], Pérdida: 3815772.5000\n",
      "Época [700/800], Pérdida: 3815738.0000\n",
      "Época [800/800], Pérdida: 3815718.5000\n"
     ]
    }
   ],
   "source": [
    "# Inicializa una lista para almacenar las pérdidas en cada época\n",
    "lista_perdidas = []\n",
    "# Define la función de pérdida (en este caso, error cuadrático medio)\n",
    "criterio = nn.MSELoss()\n",
    "\n",
    "# Define el optimizador (en este caso, descenso por el gradiente estocástico)\n",
    "optimizador = optim.SGD(modelo.parameters(), lr=0.01)\n",
    "\n",
    "# Entrenamiento del modelo utilizando descenso por el gradiente\n",
    "num_epochs = 800  # Número de épocas de entrenamiento\n",
    "for epoch in range(num_epochs):\n",
    "    # Paso 1: Realizar la predicción\n",
    "    predicciones = modelo(X_train_tensor)\n",
    "\n",
    "    # Paso 2: Calcular la pérdida\n",
    "    perdida = criterio(predicciones, y_train_tensor)\n",
    "\n",
    "    # Paso 3: Realizar el descenso por el gradiente\n",
    "    optimizador.zero_grad()  # Reiniciar los gradientes\n",
    "    perdida.backward()  # Calcular gradientes\n",
    "    optimizador.step()  # Actualizar parámetros\n",
    "    # Registra la pérdida en la lista\n",
    "    lista_perdidas.append(perdida.item())\n",
    "\n",
    "    # Imprimir la pérdida en cada época\n",
    "    if (epoch + 1) % 100 == 0:\n",
    "        print(f'Época [{epoch+1}/{num_epochs}], Pérdida: {perdida.item():.4f}')\n",
    "\n",
    "# Una vez finalizado el entrenamiento, tu modelo ha sido optimizado"
   ]
  },
  {
   "cell_type": "markdown",
   "metadata": {},
   "source": [
    "Grafica de la convergencia del costo durante el entrenamiento, se registra la pérdida (loss) en cada época y luego se traza esta información."
   ]
  },
  {
   "cell_type": "code",
   "execution_count": 13,
   "metadata": {},
   "outputs": [
    {
     "data": {
      "image/png": "[encoded data removed]",
      "text/plain": [
       "<Figure size 1000x500 with 1 Axes>"
      ]
     },
     "metadata": {},
     "output_type": "display_data"
    }
   ],
   "source": [
    "# Trazar la gráfica de la convergencia del costo\n",
    "plt.figure(figsize=(10, 5))\n",
    "plt.plot(range(1, num_epochs + 1), lista_perdidas, marker='o', linestyle='-')\n",
    "plt.title('Convergencia del Costo durante el Entrenamiento')\n",
    "plt.xlabel('Época')\n",
    "plt.ylabel('Pérdida')\n",
    "plt.grid(True)\n",
    "plt.show()\n"
   ]
  },
  {
   "cell_type": "markdown",
   "metadata": {},
   "source": [
    "Evaluación del modelo\n",
    "\n",
    "Evalúa el rendimiento del modelo en el conjunto de prueba."
   ]
  },
  {
   "cell_type": "code",
   "execution_count": 14,
   "metadata": {},
   "outputs": [
    {
     "name": "stdout",
     "output_type": "stream",
     "text": [
      "Error cuadrático medio en el conjunto de prueba: 3458949.5\n"
     ]
    },
    {
     "name": "stderr",
     "output_type": "stream",
     "text": [
      "c:\\Users\\micky\\AppData\\Local\\Programs\\Python\\Python311\\Lib\\site-packages\\torch\\nn\\modules\\loss.py:536: UserWarning: Using a target size (torch.Size([146])) that is different to the input size (torch.Size([146, 1])). This will likely lead to incorrect results due to broadcasting. Please ensure they have the same size.\n",
      "  return F.mse_loss(input, target, reduction=self.reduction)\n"
     ]
    }
   ],
   "source": [
    "# Crear tensores de PyTorch a partir de los arrays NumPy\n",
    "inputs_test = torch.Tensor(X_test)\n",
    "targets_test = torch.Tensor(y_test.values)  # Convierte la serie de Pandas en un array NumPy\n",
    "\n",
    "# Cambiar al modo de evaluación\n",
    "modelo.eval()\n",
    "\n",
    "with torch.no_grad():\n",
    "    predictions = modelo(inputs_test)\n",
    "    mse = criterio(predictions, targets_test)\n",
    "    print(f'Error cuadrático medio en el conjunto de prueba: {mse.item()}')\n"
   ]
  },
  {
   "cell_type": "markdown",
   "metadata": {},
   "source": [
    "Calcular el porcentaje de error utilizando un ejemplo de predicción real a partir de tus datos de prueba"
   ]
  },
  {
   "cell_type": "code",
   "execution_count": 15,
   "metadata": {},
   "outputs": [
    {
     "name": "stdout",
     "output_type": "stream",
     "text": [
      "Valor real (y_test): 4713\n",
      "Ejemplo de predicción: 4542.89\n",
      "Error absoluto: 170.11\n",
      "Porcentaje de error: 3.61%\n"
     ]
    }
   ],
   "source": [
    "\n",
    "# Índice del ejemplo específico que deseas utilizar\n",
    "indice_ejemplo = 22  # Reemplaza con el índice que deseas\n",
    "\n",
    "# Obtiene el ejemplo específico de X_test y el valor real correspondiente de y_test\n",
    "ejemplo = X_test[indice_ejemplo]\n",
    "valor_real = y_test.iloc[indice_ejemplo]\n",
    "\n",
    "# Realiza una predicción con tu modelo\n",
    "modelo_prediccion = modelo(torch.Tensor(ejemplo)).item()\n",
    "\n",
    "# Calcula el error absoluto entre la predicción y el valor real\n",
    "error_absoluto = abs(modelo_prediccion - valor_real)\n",
    "\n",
    "# Calcula el porcentaje de error en relación con el valor real\n",
    "porcentaje_error = (error_absoluto / valor_real) * 100\n",
    "\n",
    "# Muestra todos los datos del ejemplo con solo dos decimales\n",
    "\n",
    "print(f\"Valor real (y_test): {np.round(valor_real, 2)}\")\n",
    "\n",
    "print(f\"Ejemplo de predicción: {np.round(modelo_prediccion, 2)}\")\n",
    "print(f\"Error absoluto: {np.round(error_absoluto, 2)}\")\n",
    "print(f\"Porcentaje de error: {np.round(porcentaje_error, 2)}%\")\n"
   ]
  }
 ],
 "metadata": {
  "kernelspec": {
   "display_name": "Python 3",
   "language": "python",
   "name": "python3"
  },
  "language_info": {
   "codemirror_mode": {
    "name": "ipython",
    "version": 3
   },
   "file_extension": ".py",
   "mimetype": "text/x-python",
   "name": "python",
   "nbconvert_exporter": "python",
   "pygments_lexer": "ipython3",
   "version": "3.11.4"
  }
 },
 "nbformat": 4,
 "nbformat_minor": 2
}
