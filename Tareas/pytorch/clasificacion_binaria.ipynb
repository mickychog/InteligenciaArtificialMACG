{
 "cells": [
  {
   "cell_type": "markdown",
   "metadata": {},
   "source": [
    "**CLASIFICACION BINARIA**"
   ]
  },
  {
   "cell_type": "code",
   "execution_count": 157,
   "metadata": {},
   "outputs": [],
   "source": [
    "import pandas as pd\n",
    "import torch\n",
    "import torch.nn as nn\n",
    "import torch.optim as optim\n",
    "from sklearn.model_selection import train_test_split\n",
    "from sklearn.preprocessing import StandardScaler\n",
    "from sklearn.preprocessing import LabelEncoder\n",
    "from sklearn.metrics import accuracy_score, confusion_matrix, classification_report\n",
    "import numpy as np\n",
    "from datetime import datetime\n",
    "import matplotlib.pyplot as plt\n",
    "\n"
   ]
  },
  {
   "cell_type": "markdown",
   "metadata": {},
   "source": [
    "Carga y exploración de datos"
   ]
  },
  {
   "cell_type": "code",
   "execution_count": 158,
   "metadata": {},
   "outputs": [
    {
     "name": "stdout",
     "output_type": "stream",
     "text": [
      "           genres  acousticness  danceability   duration_ms    energy  \\\n",
      "0           432hz      0.494780      0.299333  1.048887e+06  0.450678   \n",
      "1              []      0.679245      0.521473  2.298526e+05  0.401522   \n",
      "2      a cappella      0.621532      0.577017  1.936522e+05  0.345694   \n",
      "3        abstract      0.359395      0.459500  3.430185e+05  0.487000   \n",
      "4  abstract beats      0.353347      0.694400  2.338244e+05  0.613400   \n",
      "\n",
      "   instrumentalness  liveness   loudness  speechiness       tempo   valence  \\\n",
      "0          0.477762  0.131000 -16.854000     0.076817  120.285667  0.221750   \n",
      "1          0.196737  0.221586 -12.679076     0.112267  112.025168  0.515920   \n",
      "2          0.003799  0.127087 -12.770211     0.095324  111.813230  0.453186   \n",
      "3          0.791400  0.119480 -14.092000     0.043420  124.743200  0.304990   \n",
      "4          0.349403  0.102453  -6.699800     0.143453  119.398400  0.634187   \n",
      "\n",
      "   popularity  key  mode  \n",
      "0   52.166667    5     1  \n",
      "1   21.682005    7     1  \n",
      "2   43.351819   11     1  \n",
      "3   41.500000    1     1  \n",
      "4   58.600000   10     0  \n"
     ]
    }
   ],
   "source": [
    "# Carga los datos desde un archivo CSV\n",
    "data = pd.read_csv('datasets/data_by_genres.csv')\n",
    "\n",
    "# Visualiza las primeras filas del conjunto de datos\n",
    "print(data.head())\n",
    "\n"
   ]
  },
  {
   "cell_type": "code",
   "execution_count": 159,
   "metadata": {},
   "outputs": [
    {
     "name": "stdout",
     "output_type": "stream",
     "text": [
      "<class 'pandas.core.frame.DataFrame'>\n",
      "RangeIndex: 2664 entries, 0 to 2663\n",
      "Data columns (total 14 columns):\n",
      " #   Column            Non-Null Count  Dtype  \n",
      "---  ------            --------------  -----  \n",
      " 0   genres            2664 non-null   object \n",
      " 1   acousticness      2664 non-null   float64\n",
      " 2   danceability      2664 non-null   float64\n",
      " 3   duration_ms       2664 non-null   float64\n",
      " 4   energy            2664 non-null   float64\n",
      " 5   instrumentalness  2664 non-null   float64\n",
      " 6   liveness          2664 non-null   float64\n",
      " 7   loudness          2664 non-null   float64\n",
      " 8   speechiness       2664 non-null   float64\n",
      " 9   tempo             2664 non-null   float64\n",
      " 10  valence           2664 non-null   float64\n",
      " 11  popularity        2664 non-null   float64\n",
      " 12  key               2664 non-null   int64  \n",
      " 13  mode              2664 non-null   int64  \n",
      "dtypes: float64(11), int64(2), object(1)\n",
      "memory usage: 291.5+ KB\n"
     ]
    }
   ],
   "source": [
    "# Realiza análisis exploratorio de datos\n",
    "data.info()"
   ]
  },
  {
   "cell_type": "markdown",
   "metadata": {},
   "source": [
    "Preprocesamiento de datos\n",
    "\n",
    "Realiza cualquier preprocesamiento necesario, como la eliminación de valores nulos, la codificación de variables categóricas y la normalización de datos."
   ]
  },
  {
   "cell_type": "code",
   "execution_count": 160,
   "metadata": {},
   "outputs": [],
   "source": [
    "#convierte las variables categoricas a numericas\n",
    "columnas_categoricas = data.select_dtypes(include=['object']).columns"
   ]
  },
  {
   "cell_type": "code",
   "execution_count": 161,
   "metadata": {},
   "outputs": [],
   "source": [
    "#Procesamiento de frases o palabras\n",
    "for columna in columnas_categoricas:\n",
    "  le = LabelEncoder()\n",
    "  data[columna] = le.fit_transform(data[columna])\n"
   ]
  },
  {
   "cell_type": "code",
   "execution_count": 162,
   "metadata": {},
   "outputs": [
    {
     "name": "stdout",
     "output_type": "stream",
     "text": [
      "<class 'pandas.core.frame.DataFrame'>\n",
      "RangeIndex: 2664 entries, 0 to 2663\n",
      "Data columns (total 14 columns):\n",
      " #   Column            Non-Null Count  Dtype  \n",
      "---  ------            --------------  -----  \n",
      " 0   genres            2664 non-null   int32  \n",
      " 1   acousticness      2664 non-null   float64\n",
      " 2   danceability      2664 non-null   float64\n",
      " 3   duration_ms       2664 non-null   float64\n",
      " 4   energy            2664 non-null   float64\n",
      " 5   instrumentalness  2664 non-null   float64\n",
      " 6   liveness          2664 non-null   float64\n",
      " 7   loudness          2664 non-null   float64\n",
      " 8   speechiness       2664 non-null   float64\n",
      " 9   tempo             2664 non-null   float64\n",
      " 10  valence           2664 non-null   float64\n",
      " 11  popularity        2664 non-null   float64\n",
      " 12  key               2664 non-null   int64  \n",
      " 13  mode              2664 non-null   int64  \n",
      "dtypes: float64(11), int32(1), int64(2)\n",
      "memory usage: 281.1 KB\n"
     ]
    }
   ],
   "source": [
    "# Realiza análisis exploratorio de datos\n",
    "\n",
    "data.info()"
   ]
  },
  {
   "cell_type": "code",
   "execution_count": 163,
   "metadata": {},
   "outputs": [],
   "source": [
    "# Elimina filas con valores nulos (si es necesario)\n",
    "data = data.dropna()\n",
    "\n",
    "# Divide el conjunto de datos en características (X) y variable objetivo (y)\n",
    "X = data.iloc[:, :13]\n",
    "y = data.iloc[:, 13]\n",
    "\n"
   ]
  },
  {
   "cell_type": "markdown",
   "metadata": {},
   "source": [
    "División del conjunto de datos\n",
    "\n",
    "Divide el conjunto de datos en conjuntos de entrenamiento y prueba."
   ]
  },
  {
   "cell_type": "code",
   "execution_count": 164,
   "metadata": {},
   "outputs": [],
   "source": [
    "X_train, X_test, y_train, y_test = train_test_split(X, y, test_size=0.2, random_state=42)\n"
   ]
  },
  {
   "cell_type": "markdown",
   "metadata": {},
   "source": [
    "**Conversion de datos de Numpy a tensores de Pytorch** para asegurar la compatibilidad con las operaciones y modelos de PyTorch, permitiendo el cálculo de gradientes durante el entrenamiento, lo que es esencial para el aprendizaje automático, y para aprovechar eficientemente la aceleración de hardware, como las GPUs, mientras se mantiene la flexibilidad de trabajar con datos en NumPy cuando sea necesario."
   ]
  },
  {
   "cell_type": "code",
   "execution_count": 165,
   "metadata": {},
   "outputs": [],
   "source": [
    "# Normaliza las características (opcional pero generalmente recomendado)\n",
    "scaler = StandardScaler()\n",
    "X_train = scaler.fit_transform(X_train)\n",
    "X_test = scaler.transform(X_test)"
   ]
  },
  {
   "cell_type": "markdown",
   "metadata": {},
   "source": [
    "Definición del modelo de regresión\n",
    "\n",
    "Definir el modelo de regresion logistica utilizando PyTorch."
   ]
  },
  {
   "cell_type": "code",
   "execution_count": 166,
   "metadata": {},
   "outputs": [],
   "source": [
    "class RegresionLogistica(nn.Module):\n",
    "    def __init__(self, input_size):\n",
    "        super(RegresionLogistica, self).__init__()\n",
    "        self.fc = nn.Linear(input_size, 1)\n",
    "        self.sigmoid = nn.Sigmoid()\n",
    "\n",
    "    def forward(self, x):\n",
    "        x = self.fc(x)\n",
    "        x = self.sigmoid(x)\n",
    "        return x\n",
    "\n",
    "input_size = X_train.shape[1]\n",
    "model = RegresionLogistica(input_size)"
   ]
  },
  {
   "cell_type": "markdown",
   "metadata": {},
   "source": [
    "Entrenamiento del modelo\n",
    "\n",
    "Entrena del modelo con descenso por el gradiente"
   ]
  },
  {
   "cell_type": "code",
   "execution_count": 167,
   "metadata": {},
   "outputs": [],
   "source": [
    "# Paso 6: Definir la función de pérdida y el optimizador\n",
    "criterion = nn.BCELoss()  # Para clasificación binaria (entropía cruzada binaria) \n",
    "optimizer = optim.SGD(model.parameters(), lr=0.01) # (descenso de gradiente estocástico) con una tasa de aprendizaje de 0.01\n",
    "\n",
    "num_epochs = 2000\n",
    "train_losses = []\n",
    "\n",
    "for epoch in range(num_epochs):\n",
    "    inputs = torch.Tensor(X_train).float()\n",
    "    targets = torch.Tensor(y_train.values).view(-1, 1).float()\n",
    "\n",
    "    optimizer.zero_grad()\n",
    "    outputs = model(inputs)\n",
    "    loss = criterion(outputs, targets)\n",
    "    loss.backward()\n",
    "    optimizer.step()\n",
    "    train_losses.append(loss.item())"
   ]
  },
  {
   "cell_type": "markdown",
   "metadata": {},
   "source": [
    "Grafica de la convergencia del costo durante el entrenamiento, se registra la pérdida (loss) en cada época y luego se traza esta información."
   ]
  },
  {
   "cell_type": "code",
   "execution_count": 168,
   "metadata": {},
   "outputs": [
    {
     "data": {
      "image/png": "[encoded data removed]",
      "text/plain": [
       "<Figure size 640x480 with 1 Axes>"
      ]
     },
     "metadata": {},
     "output_type": "display_data"
    }
   ],
   "source": [
    "# Trazar la gráfica de la convergencia del costo\n",
    "plt.plot(range(num_epochs), train_losses)\n",
    "plt.xlabel('Época')\n",
    "plt.ylabel('Pérdida')\n",
    "plt.title('Pérdida durante el entrenamiento')\n",
    "plt.show()\n"
   ]
  },
  {
   "cell_type": "markdown",
   "metadata": {},
   "source": [
    "Evaluación del modelo\n",
    "\n",
    "Evalúa el rendimiento del modelo en el conjunto de prueba."
   ]
  },
  {
   "cell_type": "code",
   "execution_count": 169,
   "metadata": {},
   "outputs": [
    {
     "name": "stdout",
     "output_type": "stream",
     "text": [
      "Exactitud: 0.7411\n",
      "Matriz de Confusión:\n",
      "[[ 29  55]\n",
      " [ 83 366]]\n",
      "Reporte de Clasificación:\n",
      "              precision    recall  f1-score   support\n",
      "\n",
      "           0       0.26      0.35      0.30        84\n",
      "           1       0.87      0.82      0.84       449\n",
      "\n",
      "    accuracy                           0.74       533\n",
      "   macro avg       0.56      0.58      0.57       533\n",
      "weighted avg       0.77      0.74      0.76       533\n",
      "\n"
     ]
    }
   ],
   "source": [
    "# Cambiar al modo de evaluación\n",
    "model.eval()\n",
    "with torch.no_grad():\n",
    "    test_inputs = torch.Tensor(X_test).float()\n",
    "    predictions = model(test_inputs)\n",
    "    predicted_classes = (predictions > 0.8).float()\n",
    "    accuracy = accuracy_score(y_test, predicted_classes)\n",
    "    conf_matrix = confusion_matrix(y_test, predicted_classes)\n",
    "    class_report = classification_report(y_test, predicted_classes)\n",
    "\n",
    "print(f'Exactitud: {accuracy:.4f}')\n",
    "print('Matriz de Confusión:')\n",
    "print(conf_matrix)\n",
    "print('Reporte de Clasificación:')\n",
    "print(class_report)"
   ]
  },
  {
   "cell_type": "markdown",
   "metadata": {},
   "source": [
    "Calcular el porcentaje de error utilizando un ejemplo de predicción real a partir de tus datos de prueba"
   ]
  },
  {
   "cell_type": "code",
   "execution_count": 180,
   "metadata": {},
   "outputs": [
    {
     "name": "stdout",
     "output_type": "stream",
     "text": [
      "Clase Predicha: 1\n",
      "Valor Real: 1\n",
      "Porcentaje de Error: 0.00%\n"
     ]
    }
   ],
   "source": [
    "# Supongamos que quieres calcular el error para el primer ejemplo de prueba\n",
    "\n",
    "# Tomar el indice del ejemplo que escojamos y este dentro de Test\n",
    "indice_ejemplo = 97\n",
    "\n",
    "ejemplo_prueba = X_test[indice_ejemplo]\n",
    "ejemplo_ptensor = torch.Tensor(ejemplo_prueba).float()\n",
    "\n",
    "# Realizar la predicción con el modelo\n",
    "with torch.no_grad():\n",
    "    prediccion = model(ejemplo_ptensor)\n",
    "    clase_predicha = 1 if prediccion > 0.5 else 0  # Clasificación binaria\n",
    "\n",
    "# Obtener el valor real para el primer ejemplo de prueba\n",
    "valor_real = y_test.iloc[indice_ejemplo]\n",
    "\n",
    "# Calcular el porcentaje de error\n",
    "porcentaje_error = abs(clase_predicha - valor_real) * 100\n",
    "\n",
    "print(f'Clase Predicha: {clase_predicha}')\n",
    "print(f'Valor Real: {valor_real}')\n",
    "print(f'Porcentaje de Error: {porcentaje_error:.2f}%')\n",
    "\n"
   ]
  }
 ],
 "metadata": {
  "kernelspec": {
   "display_name": "Python 3",
   "language": "python",
   "name": "python3"
  },
  "language_info": {
   "codemirror_mode": {
    "name": "ipython",
    "version": 3
   },
   "file_extension": ".py",
   "mimetype": "text/x-python",
   "name": "python",
   "nbconvert_exporter": "python",
   "pygments_lexer": "ipython3",
   "version": "3.11.4"
  }
 },
 "nbformat": 4,
 "nbformat_minor": 2
}
