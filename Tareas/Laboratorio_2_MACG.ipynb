{
  "cells": [
    {
      "cell_type": "code",
      "execution_count": 199,
      "metadata": {
        "id": "qUxgZvq33-ID"
      },
      "outputs": [],
      "source": [
        "# utilizado para manejos de directorios y rutas\n",
        "import os\n",
        "\n",
        "# Computacion vectorial y cientifica para python\n",
        "import numpy as np\n",
        "\n",
        "# Librerias para graficación (trazado de gráficos)\n",
        "from matplotlib import pyplot\n",
        "from mpl_toolkits.mplot3d import Axes3D  # Necesario para graficar superficies 3D\n",
        "\n",
        "# llama a matplotlib a embeber graficas dentro de los cuadernillos\n",
        "%matplotlib inline"
      ]
    },
    {
      "cell_type": "code",
      "execution_count": 200,
      "metadata": {
        "id": "3zeLCpwjiQCT"
      },
      "outputs": [],
      "source": [
        "# usando la libreria pandas para la manipulacion y analisis de datos\n",
        "import pandas as pd\n",
        "from sklearn.preprocessing import LabelEncoder\n",
        "from datetime import datetime"
      ]
    },
    {
      "cell_type": "code",
      "execution_count": 201,
      "metadata": {
        "id": "V0ZXOA-6iUmV"
      },
      "outputs": [],
      "source": [
        "#Carga de dataset para prediccion\n",
        "# https://www.kaggle.com/code/yasirabdaali/analysis-on-university-admission-dataset/input?select=adm_data.csv\n",
        "data = pd.read_csv('datasets/adm_data.csv')"
      ]
    },
    {
      "cell_type": "code",
      "execution_count": 202,
      "metadata": {
        "colab": {
          "base_uri": "https://localhost:8080/"
        },
        "id": "h325dVhXicrs",
        "outputId": "61b12e5d-71d6-4ebd-ea94-cf7574d675d5"
      },
      "outputs": [
        {
          "name": "stdout",
          "output_type": "stream",
          "text": [
            "     Serial No.  GRE Score  TOEFL Score  University Rating  SOP  LOR   CGPA  \\\n",
            "0             1        337          118                  4  4.5   4.5  9.65   \n",
            "1             2        324          107                  4  4.0   4.5  8.87   \n",
            "2             3        316          104                  3  3.0   3.5  8.00   \n",
            "3             4        322          110                  3  3.5   2.5  8.67   \n",
            "4             5        314          103                  2  2.0   3.0  8.21   \n",
            "..          ...        ...          ...                ...  ...   ...   ...   \n",
            "395         396        324          110                  3  3.5   3.5  9.04   \n",
            "396         397        325          107                  3  3.0   3.5  9.11   \n",
            "397         398        330          116                  4  5.0   4.5  9.45   \n",
            "398         399        312          103                  3  3.5   4.0  8.78   \n",
            "399         400        333          117                  4  5.0   4.0  9.66   \n",
            "\n",
            "     Research  Chance of Admit   \n",
            "0           1              0.92  \n",
            "1           1              0.76  \n",
            "2           1              0.72  \n",
            "3           1              0.80  \n",
            "4           0              0.65  \n",
            "..        ...               ...  \n",
            "395         1              0.82  \n",
            "396         1              0.84  \n",
            "397         1              0.91  \n",
            "398         0              0.67  \n",
            "399         1              0.95  \n",
            "\n",
            "[400 rows x 9 columns]\n"
          ]
        }
      ],
      "source": [
        "# Mostramos los datos de el dataset cargado\n",
        "print(data)"
      ]
    },
    {
      "cell_type": "code",
      "execution_count": 203,
      "metadata": {
        "colab": {
          "base_uri": "https://localhost:8080/"
        },
        "id": "ZoYIJwRyifh-",
        "outputId": "a199a48e-9dad-4f4f-fa20-dd7677f7ca87"
      },
      "outputs": [
        {
          "name": "stdout",
          "output_type": "stream",
          "text": [
            "<class 'pandas.core.frame.DataFrame'>\n",
            "RangeIndex: 400 entries, 0 to 399\n",
            "Data columns (total 9 columns):\n",
            " #   Column             Non-Null Count  Dtype  \n",
            "---  ------             --------------  -----  \n",
            " 0   Serial No.         400 non-null    int64  \n",
            " 1   GRE Score          400 non-null    int64  \n",
            " 2   TOEFL Score        400 non-null    int64  \n",
            " 3   University Rating  400 non-null    int64  \n",
            " 4   SOP                400 non-null    float64\n",
            " 5   LOR                400 non-null    float64\n",
            " 6   CGPA               400 non-null    float64\n",
            " 7   Research           400 non-null    int64  \n",
            " 8   Chance of Admit    400 non-null    float64\n",
            "dtypes: float64(4), int64(5)\n",
            "memory usage: 28.3 KB\n"
          ]
        }
      ],
      "source": [
        "# Mostramos la informacion de los datos del dataset donde podemos ver un elemento tipo object\n",
        "data.info()"
      ]
    },
    {
      "cell_type": "code",
      "execution_count": 204,
      "metadata": {
        "id": "sFmWfM7Mjn9Z"
      },
      "outputs": [],
      "source": [
        "#Convierte las variables categoricas en numericas en nuestro caso nel dataset no contiene este tipo de variables\n",
        "columnas_categoricas = data.select_dtypes(include=['object']).columns\n",
        "# Convierte las variables tipo fechas en numericas\n",
        "columnas_fechas = data.select_dtypes(include=['datetime64']).columns"
      ]
    },
    {
      "cell_type": "code",
      "execution_count": 205,
      "metadata": {
        "id": "GcxRaOoqkOyD"
      },
      "outputs": [],
      "source": [
        "#Procesamiento de frases o palabras\n",
        "for columna in columnas_categoricas:\n",
        "  le = LabelEncoder()\n",
        "  data[columna] = le.fit_transform(data[columna])"
      ]
    },
    {
      "cell_type": "code",
      "execution_count": 206,
      "metadata": {
        "id": "hVuep7WXkQvA"
      },
      "outputs": [],
      "source": [
        "# procesamiento de Fechas a numeros\n",
        "for columna in columnas_fechas:\n",
        "  data[columna] = pd.to_numeric(data[columna].map(datetime.timestamp))"
      ]
    },
    {
      "cell_type": "code",
      "execution_count": 207,
      "metadata": {
        "colab": {
          "base_uri": "https://localhost:8080/"
        },
        "id": "vHzN_Uj0kS96",
        "outputId": "ed75b50d-e879-44db-bba7-19a104c967a7"
      },
      "outputs": [
        {
          "name": "stdout",
          "output_type": "stream",
          "text": [
            "     Serial No.  GRE Score  TOEFL Score  University Rating  SOP  LOR   CGPA  \\\n",
            "0             1        337          118                  4  4.5   4.5  9.65   \n",
            "1             2        324          107                  4  4.0   4.5  8.87   \n",
            "2             3        316          104                  3  3.0   3.5  8.00   \n",
            "3             4        322          110                  3  3.5   2.5  8.67   \n",
            "4             5        314          103                  2  2.0   3.0  8.21   \n",
            "..          ...        ...          ...                ...  ...   ...   ...   \n",
            "395         396        324          110                  3  3.5   3.5  9.04   \n",
            "396         397        325          107                  3  3.0   3.5  9.11   \n",
            "397         398        330          116                  4  5.0   4.5  9.45   \n",
            "398         399        312          103                  3  3.5   4.0  8.78   \n",
            "399         400        333          117                  4  5.0   4.0  9.66   \n",
            "\n",
            "     Research  Chance of Admit   \n",
            "0           1              0.92  \n",
            "1           1              0.76  \n",
            "2           1              0.72  \n",
            "3           1              0.80  \n",
            "4           0              0.65  \n",
            "..        ...               ...  \n",
            "395         1              0.82  \n",
            "396         1              0.84  \n",
            "397         1              0.91  \n",
            "398         0              0.67  \n",
            "399         1              0.95  \n",
            "\n",
            "[400 rows x 9 columns]\n"
          ]
        }
      ],
      "source": [
        "#Mostramos el resultado despues de procesar fechas a numeros\n",
        "print(data)"
      ]
    },
    {
      "cell_type": "code",
      "execution_count": 208,
      "metadata": {
        "colab": {
          "base_uri": "https://localhost:8080/"
        },
        "id": "tJ9GFsACksGy",
        "outputId": "d5d6703f-41a0-4209-921e-92a92b9719d7"
      },
      "outputs": [
        {
          "name": "stdout",
          "output_type": "stream",
          "text": [
            "<class 'pandas.core.frame.DataFrame'>\n",
            "RangeIndex: 400 entries, 0 to 399\n",
            "Data columns (total 9 columns):\n",
            " #   Column             Non-Null Count  Dtype  \n",
            "---  ------             --------------  -----  \n",
            " 0   Serial No.         400 non-null    int64  \n",
            " 1   GRE Score          400 non-null    int64  \n",
            " 2   TOEFL Score        400 non-null    int64  \n",
            " 3   University Rating  400 non-null    int64  \n",
            " 4   SOP                400 non-null    float64\n",
            " 5   LOR                400 non-null    float64\n",
            " 6   CGPA               400 non-null    float64\n",
            " 7   Research           400 non-null    int64  \n",
            " 8   Chance of Admit    400 non-null    float64\n",
            "dtypes: float64(4), int64(5)\n",
            "memory usage: 28.3 KB\n"
          ]
        }
      ],
      "source": [
        "#Mostramos la informacion del dataset donde podemos ver que todas las columnas son de tipo numerico\n",
        "data.info()"
      ]
    },
    {
      "cell_type": "code",
      "execution_count": 209,
      "metadata": {
        "colab": {
          "base_uri": "https://localhost:8080/"
        },
        "id": "IZheY0q7lvQg",
        "outputId": "a459eee5-528e-4e1e-f527-a35f7ce1ed27"
      },
      "outputs": [
        {
          "name": "stdout",
          "output_type": "stream",
          "text": [
            "<class 'pandas.core.frame.DataFrame'>\n",
            "RangeIndex: 400 entries, 0 to 399\n",
            "Data columns (total 9 columns):\n",
            " #   Column             Non-Null Count  Dtype  \n",
            "---  ------             --------------  -----  \n",
            " 0   Serial No.         400 non-null    int64  \n",
            " 1   GRE Score          400 non-null    int64  \n",
            " 2   TOEFL Score        400 non-null    int64  \n",
            " 3   University Rating  400 non-null    int64  \n",
            " 4   SOP                400 non-null    float64\n",
            " 5   LOR                400 non-null    float64\n",
            " 6   CGPA               400 non-null    float64\n",
            " 7   Research           400 non-null    int64  \n",
            " 8   Chance of Admit    400 non-null    float64\n",
            "dtypes: float64(4), int64(5)\n",
            "memory usage: 28.3 KB\n"
          ]
        }
      ],
      "source": [
        "data.info()"
      ]
    },
    {
      "cell_type": "code",
      "execution_count": 210,
      "metadata": {
        "id": "YuuRUXgCwvZ_"
      },
      "outputs": [],
      "source": [
        "# Realizamos la lectura de Datos\n",
        "# x es igual a las primeras 8 columnas\n",
        "# y es igual a la columna 9\n",
        "X = data.iloc[:, :8]\n",
        "y = data.iloc[:, 8]\n",
        "m = y.size"
      ]
    },
    {
      "cell_type": "code",
      "execution_count": 211,
      "metadata": {
        "colab": {
          "base_uri": "https://localhost:8080/"
        },
        "id": "x1NBC6A6xFoC",
        "outputId": "cf9c7792-f6f0-4d56-889e-23b0dd3cf9c6"
      },
      "outputs": [
        {
          "name": "stdout",
          "output_type": "stream",
          "text": [
            "     Serial No.  GRE Score  TOEFL Score  University Rating  SOP  LOR   CGPA  \\\n",
            "0             1        337          118                  4  4.5   4.5  9.65   \n",
            "1             2        324          107                  4  4.0   4.5  8.87   \n",
            "2             3        316          104                  3  3.0   3.5  8.00   \n",
            "3             4        322          110                  3  3.5   2.5  8.67   \n",
            "4             5        314          103                  2  2.0   3.0  8.21   \n",
            "..          ...        ...          ...                ...  ...   ...   ...   \n",
            "395         396        324          110                  3  3.5   3.5  9.04   \n",
            "396         397        325          107                  3  3.0   3.5  9.11   \n",
            "397         398        330          116                  4  5.0   4.5  9.45   \n",
            "398         399        312          103                  3  3.5   4.0  8.78   \n",
            "399         400        333          117                  4  5.0   4.0  9.66   \n",
            "\n",
            "     Research  \n",
            "0           1  \n",
            "1           1  \n",
            "2           1  \n",
            "3           1  \n",
            "4           0  \n",
            "..        ...  \n",
            "395         1  \n",
            "396         1  \n",
            "397         1  \n",
            "398         0  \n",
            "399         1  \n",
            "\n",
            "[400 rows x 8 columns]\n",
            "****************************************************************************************************\n",
            "****************************************************************************************************\n",
            "****************************************************************************************************\n",
            "0      0.92\n",
            "1      0.76\n",
            "2      0.72\n",
            "3      0.80\n",
            "4      0.65\n",
            "       ... \n",
            "395    0.82\n",
            "396    0.84\n",
            "397    0.91\n",
            "398    0.67\n",
            "399    0.95\n",
            "Name: Chance of Admit , Length: 400, dtype: float64\n"
          ]
        }
      ],
      "source": [
        "# Mostramos los datos x\n",
        "print(X)\n",
        "print('*'*100)\n",
        "print('*'*100)\n",
        "print('*'*100)\n",
        "# Mostramos los datos de la columna y\n",
        "print(y)"
      ]
    },
    {
      "cell_type": "code",
      "execution_count": 212,
      "metadata": {
        "id": "DrrFytt2gkI8"
      },
      "outputs": [],
      "source": [
        "#Normalizamos x\n",
        "def  featureNormalize(X):\n",
        "    X_norm = X.copy()\n",
        "    mu = np.zeros(X.shape[1])\n",
        "    sigma = np.zeros(X.shape[1])\n",
        "# Calculamos mu, sigma y la x normalizada\n",
        "    mu = np.mean(X, axis = 0)\n",
        "    sigma = np.std(X, axis = 0)\n",
        "    X_norm = (X - mu) / sigma\n",
        "    return X_norm, mu, sigma"
      ]
    },
    {
      "cell_type": "code",
      "execution_count": 213,
      "metadata": {
        "colab": {
          "base_uri": "https://localhost:8080/"
        },
        "id": "MhHhItqc4YLy",
        "outputId": "dcaaf87c-69d5-49ff-9521-34b26b80d70f"
      },
      "outputs": [
        {
          "name": "stdout",
          "output_type": "stream",
          "text": [
            "     Serial No.  GRE Score  TOEFL Score  University Rating  SOP  LOR   CGPA  \\\n",
            "0             1        337          118                  4  4.5   4.5  9.65   \n",
            "1             2        324          107                  4  4.0   4.5  8.87   \n",
            "2             3        316          104                  3  3.0   3.5  8.00   \n",
            "3             4        322          110                  3  3.5   2.5  8.67   \n",
            "4             5        314          103                  2  2.0   3.0  8.21   \n",
            "..          ...        ...          ...                ...  ...   ...   ...   \n",
            "395         396        324          110                  3  3.5   3.5  9.04   \n",
            "396         397        325          107                  3  3.0   3.5  9.11   \n",
            "397         398        330          116                  4  5.0   4.5  9.45   \n",
            "398         399        312          103                  3  3.5   4.0  8.78   \n",
            "399         400        333          117                  4  5.0   4.0  9.66   \n",
            "\n",
            "     Research  \n",
            "0           1  \n",
            "1           1  \n",
            "2           1  \n",
            "3           1  \n",
            "4           0  \n",
            "..        ...  \n",
            "395         1  \n",
            "396         1  \n",
            "397         1  \n",
            "398         0  \n",
            "399         1  \n",
            "\n",
            "[400 rows x 8 columns]\n",
            "****************************************************************************************************\n",
            "****************************************************************************************************\n",
            "Media calculada: Serial No.           200.500000\n",
            "GRE Score            316.807500\n",
            "TOEFL Score          107.410000\n",
            "University Rating      3.087500\n",
            "SOP                    3.400000\n",
            "LOR                    3.452500\n",
            "CGPA                   8.598925\n",
            "Research               0.547500\n",
            "dtype: float64\n",
            "****************************************************************************************************\n",
            "****************************************************************************************************\n",
            "Desviación estandar calculada: Serial No.           115.469693\n",
            "GRE Score             11.459295\n",
            "TOEFL Score            6.061922\n",
            "University Rating      1.142298\n",
            "SOP                    1.005609\n",
            "LOR                    0.897354\n",
            "CGPA                   0.595571\n",
            "Research               0.497739\n",
            "dtype: float64\n",
            "****************************************************************************************************\n",
            "****************************************************************************************************\n",
            "     Serial No.  GRE Score  TOEFL Score  University Rating       SOP  \\\n",
            "0     -1.727726   1.762107     1.746971           0.798829  1.093864   \n",
            "1     -1.719066   0.627656    -0.067635           0.798829  0.596653   \n",
            "2     -1.710406  -0.070467    -0.562528          -0.076600 -0.397769   \n",
            "3     -1.701745   0.453126     0.427257          -0.076600  0.099442   \n",
            "4     -1.693085  -0.244998    -0.727492          -0.952029 -1.392191   \n",
            "..          ...        ...          ...                ...       ...   \n",
            "395    1.693085   0.627656     0.427257          -0.076600  0.099442   \n",
            "396    1.701745   0.714922    -0.067635          -0.076600 -0.397769   \n",
            "397    1.710406   1.151249     1.417042           0.798829  1.591075   \n",
            "398    1.719066  -0.419528    -0.727492          -0.076600  0.099442   \n",
            "399    1.727726   1.413045     1.582006           0.798829  1.591075   \n",
            "\n",
            "         LOR       CGPA  Research  \n",
            "0    1.167321  1.764818  0.909112  \n",
            "1    1.167321  0.455151  0.909112  \n",
            "2    0.052933 -1.005631  0.909112  \n",
            "3   -1.061454  0.119339  0.909112  \n",
            "4   -0.504260 -0.653029 -1.099975  \n",
            "..        ...       ...       ...  \n",
            "395  0.052933  0.740592  0.909112  \n",
            "396  0.052933  0.858126  0.909112  \n",
            "397  1.167321  1.429006  0.909112  \n",
            "398  0.610127  0.304036 -1.099975  \n",
            "399  0.610127  1.781609  0.909112  \n",
            "\n",
            "[400 rows x 8 columns]\n"
          ]
        }
      ],
      "source": [
        "# llama featureNormalize con los datos cargados\n",
        "X_norm, mu, sigma = featureNormalize(X)\n",
        "\n",
        "print(X)\n",
        "print('*'*100)\n",
        "print('*'*100)\n",
        "print('Media calculada:', mu)\n",
        "print('*'*100)\n",
        "print('*'*100)\n",
        "print('Desviación estandar calculada:', sigma)\n",
        "print('*'*100)\n",
        "print('*'*100)\n",
        "print(X_norm)"
      ]
    },
    {
      "cell_type": "code",
      "execution_count": 214,
      "metadata": {
        "id": "EB4cCmdm4bxJ"
      },
      "outputs": [],
      "source": [
        "# Añade el termino de interseccion a X\n",
        "# (Columna de unos para X0)\n",
        "X = np.concatenate([np.ones((m, 1)), X_norm], axis=1)"
      ]
    },
    {
      "cell_type": "code",
      "execution_count": 215,
      "metadata": {
        "colab": {
          "base_uri": "https://localhost:8080/"
        },
        "id": "jxdWrQDC4fcD",
        "outputId": "1ec268ee-14cd-4a08-865e-6fe257c44282"
      },
      "outputs": [
        {
          "name": "stdout",
          "output_type": "stream",
          "text": [
            "[[ 1.         -1.72772608  1.76210664 ...  1.16732114  1.76481828\n",
            "   0.90911166]\n",
            " [ 1.         -1.7190658   0.62765641 ...  1.16732114  0.45515126\n",
            "   0.90911166]\n",
            " [ 1.         -1.71040552 -0.07046681 ...  0.05293342 -1.00563118\n",
            "   0.90911166]\n",
            " ...\n",
            " [ 1.          1.71040552  1.15124883 ...  1.16732114  1.42900622\n",
            "   0.90911166]\n",
            " [ 1.          1.7190658  -0.41952842 ...  0.61012728  0.30403584\n",
            "  -1.09997489]\n",
            " [ 1.          1.72772608  1.41304503 ...  0.61012728  1.78160888\n",
            "   0.90911166]]\n"
          ]
        }
      ],
      "source": [
        "#mostramos x con la columna de 1 añadida\n",
        "print(X)"
      ]
    },
    {
      "cell_type": "code",
      "execution_count": 216,
      "metadata": {
        "id": "is_NER384kX5"
      },
      "outputs": [],
      "source": [
        "def computeCostMulti(X, y, theta):\n",
        "    # Inicializa algunos valores utiles\n",
        "    m = y.shape[0] # numero de ejemplos de entrenamiento\n",
        "\n",
        "    J = 0\n",
        "\n",
        "    h = np.dot(X, theta)\n",
        "\n",
        "    J = (1/(2 * m)) * np.sum(np.square(np.dot(X, theta) - y))\n",
        "\n",
        "    return J\n"
      ]
    },
    {
      "cell_type": "code",
      "execution_count": 217,
      "metadata": {
        "id": "NTic99Il4k9H"
      },
      "outputs": [],
      "source": [
        "def gradientDescentMulti(X, y, theta, alpha, num_iters):\n",
        "\n",
        "    # realiza una copia de theta, el cual será acutalizada por el descenso por el gradiente\n",
        "    theta = theta.copy()\n",
        "\n",
        "    J_history = []\n",
        "\n",
        "    for i in range(num_iters):\n",
        "        theta = theta - (alpha / m) * (np.dot(X, theta) - y).dot(X)\n",
        "        J_history.append(computeCostMulti(X, y, theta))\n",
        "\n",
        "    return theta, J_history"
      ]
    },
    {
      "cell_type": "code",
      "execution_count": 218,
      "metadata": {
        "colab": {
          "base_uri": "https://localhost:8080/",
          "height": 534
        },
        "id": "2sc2AmKF4qJQ",
        "outputId": "dbf8bad8-ea69-4f51-a39f-7ea5b1d3ddec"
      },
      "outputs": [
        {
          "name": "stdout",
          "output_type": "stream",
          "text": [
            "theta calculado por el descenso por el gradiente: [0.72431728 0.01925421 0.0242267  0.02410454 0.01098188 0.00178527\n",
            " 0.01960488 0.05526398 0.01180152]\n"
          ]
        },
        {
          "data": {
            "image/png": "[encoded data removed]",
            "text/plain": [
              "<Figure size 640x480 with 1 Axes>"
            ]
          },
          "metadata": {},
          "output_type": "display_data"
        }
      ],
      "source": [
        "# Elegir algun valor para alpha para lograr la grafica mas indicada\n",
        "alpha = 0.001\n",
        "num_iters = 10000\n",
        "\n",
        "# inicializa theta y ejecuta el descenso por el gradiente\n",
        "theta = np.zeros(9)\n",
        "theta, J_history = gradientDescentMulti(X, y, theta, alpha, num_iters)\n",
        "\n",
        "# Grafica la convergencia del costo\n",
        "pyplot.plot(np.arange(len(J_history)), J_history, lw=2)\n",
        "pyplot.xlabel('Numero de iteraciones')\n",
        "pyplot.ylabel('Posibilidad  de admision')\n",
        "\n",
        "# Muestra los resultados del descenso por el gradiente\n",
        "print('theta calculado por el descenso por el gradiente: {:s}'.format(str(theta)))\n"
      ]
    },
    {
      "cell_type": "code",
      "execution_count": 219,
      "metadata": {
        "colab": {
          "base_uri": "https://localhost:8080/"
        },
        "id": "TFd4RaYmofW2",
        "outputId": "bab93f01-30c0-4b73-bef2-b4c4fad46d5b"
      },
      "outputs": [
        {
          "name": "stdout",
          "output_type": "stream",
          "text": [
            "El valor predecido para la posibilidad de admision es: 0.5379\n"
          ]
        }
      ],
      "source": [
        "# Estimar la posibilidad de admision con distintas caracteristicas\n",
        "# Los datos de x son: [Serual n, puntuacion GRE, puntuacion TOEFL, Calificacion universitaria, declaracion de proposito, recomendacion, CGPA, Investigacion]\n",
        "X_array = [1, 1,310, 110, 3, 3, 3, 7, 1]\n",
        "X_array[1:9] = (X_array[1:9] - mu) / sigma\n",
        "count = np.dot(X_array, theta)\n",
        "\n",
        "print('El valor predecido para la posibilidad de admision es: {:.4f}'.format(count))"
      ]
    }
  ],
  "metadata": {
    "colab": {
      "provenance": []
    },
    "kernelspec": {
      "display_name": "Python 3",
      "name": "python3"
    },
    "language_info": {
      "codemirror_mode": {
        "name": "ipython",
        "version": 3
      },
      "file_extension": ".py",
      "mimetype": "text/x-python",
      "name": "python",
      "nbconvert_exporter": "python",
      "pygments_lexer": "ipython3",
      "version": "3.11.4"
    }
  },
  "nbformat": 4,
  "nbformat_minor": 0
}
