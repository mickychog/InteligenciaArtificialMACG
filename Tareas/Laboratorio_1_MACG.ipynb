{
  "cells": [
    {
      "cell_type": "code",
      "execution_count": 123,
      "metadata": {
        "id": "qUxgZvq33-ID"
      },
      "outputs": [],
      "source": [
        "# utilizado para manejos de directorios y rutas\n",
        "import os\n",
        "\n",
        "# Computacion vectorial y cientifica para python\n",
        "import numpy as np\n",
        "\n",
        "# Librerias para graficación (trazado de gráficos)\n",
        "from matplotlib import pyplot\n",
        "from mpl_toolkits.mplot3d import Axes3D  # Necesario para graficar superficies 3D\n",
        "\n",
        "# llama a matplotlib a embeber graficas dentro de los cuadernillos\n",
        "%matplotlib inline"
      ]
    },
    {
      "cell_type": "code",
      "execution_count": 124,
      "metadata": {
        "id": "3zeLCpwjiQCT"
      },
      "outputs": [],
      "source": [
        "# usando la libreria pandas para la manipulacion y analisis de datos\n",
        "import pandas as pd\n",
        "from sklearn.preprocessing import LabelEncoder\n",
        "from datetime import datetime"
      ]
    },
    {
      "cell_type": "code",
      "execution_count": 125,
      "metadata": {
        "id": "V0ZXOA-6iUmV"
      },
      "outputs": [],
      "source": [
        "#Carga de dataset para prediccion\n",
        "data = pd.read_csv('/content/day1.csv')"
      ]
    },
    {
      "cell_type": "code",
      "execution_count": 126,
      "metadata": {
        "colab": {
          "base_uri": "https://localhost:8080/"
        },
        "id": "h325dVhXicrs",
        "outputId": "61b12e5d-71d6-4ebd-ea94-cf7574d675d5"
      },
      "outputs": [
        {
          "name": "stdout",
          "output_type": "stream",
          "text": [
            "     instant      dteday  season  yr  mnth  holiday  weekday  workingday  \\\n",
            "0          1  01.01.2018       1   0     1        0        6           0   \n",
            "1          2  02.01.2018       1   0     1        0        0           0   \n",
            "2          3  03.01.2018       1   0     1        0        1           1   \n",
            "3          4  04.01.2018       1   0     1        0        2           1   \n",
            "4          5  05.01.2018       1   0     1        0        3           1   \n",
            "..       ...         ...     ...  ..   ...      ...      ...         ...   \n",
            "725      726  27.12.2019       1   1    12        0        4           1   \n",
            "726      727  28.12.2019       1   1    12        0        5           1   \n",
            "727      728  29.12.2019       1   1    12        0        6           0   \n",
            "728      729  30.12.2019       1   1    12        0        0           0   \n",
            "729      730  31.12.2019       1   1    12        0        1           1   \n",
            "\n",
            "     weathersit       temp     atemp      hum  windspeed  casual  registered  \\\n",
            "0             2  14.110847  18.18125  80.5833  10.749882     331         654   \n",
            "1             2  14.902598  17.68695  69.6087  16.652113     131         670   \n",
            "2             1   8.050924   9.47025  43.7273  16.636703     120        1229   \n",
            "3             1   8.200000  10.60610  59.0435  10.739832     108        1454   \n",
            "4             1   9.305237  11.46350  43.6957  12.522300      82        1518   \n",
            "..          ...        ...       ...      ...        ...     ...         ...   \n",
            "725           2  10.420847  11.33210  65.2917  23.458911     247        1867   \n",
            "726           2  10.386653  12.75230  59.0000  10.416557     644        2451   \n",
            "727           2  10.386653  12.12000  75.2917   8.333661     159        1182   \n",
            "728           1  10.489153  11.58500  48.3333  23.500518     364        1432   \n",
            "729           2   8.849153  11.17435  57.7500  10.374682     439        2290   \n",
            "\n",
            "      cnt  \n",
            "0     985  \n",
            "1     801  \n",
            "2    1349  \n",
            "3    1562  \n",
            "4    1600  \n",
            "..    ...  \n",
            "725  2114  \n",
            "726  3095  \n",
            "727  1341  \n",
            "728  1796  \n",
            "729  2729  \n",
            "\n",
            "[730 rows x 16 columns]\n"
          ]
        }
      ],
      "source": [
        "# Mostramos los datos de el dataset cargado\n",
        "print(data)"
      ]
    },
    {
      "cell_type": "code",
      "execution_count": 127,
      "metadata": {
        "colab": {
          "base_uri": "https://localhost:8080/"
        },
        "id": "ZoYIJwRyifh-",
        "outputId": "a199a48e-9dad-4f4f-fa20-dd7677f7ca87"
      },
      "outputs": [
        {
          "name": "stdout",
          "output_type": "stream",
          "text": [
            "<class 'pandas.core.frame.DataFrame'>\n",
            "RangeIndex: 730 entries, 0 to 729\n",
            "Data columns (total 16 columns):\n",
            " #   Column      Non-Null Count  Dtype  \n",
            "---  ------      --------------  -----  \n",
            " 0   instant     730 non-null    int64  \n",
            " 1   dteday      730 non-null    object \n",
            " 2   season      730 non-null    int64  \n",
            " 3   yr          730 non-null    int64  \n",
            " 4   mnth        730 non-null    int64  \n",
            " 5   holiday     730 non-null    int64  \n",
            " 6   weekday     730 non-null    int64  \n",
            " 7   workingday  730 non-null    int64  \n",
            " 8   weathersit  730 non-null    int64  \n",
            " 9   temp        730 non-null    float64\n",
            " 10  atemp       730 non-null    float64\n",
            " 11  hum         730 non-null    float64\n",
            " 12  windspeed   730 non-null    float64\n",
            " 13  casual      730 non-null    int64  \n",
            " 14  registered  730 non-null    int64  \n",
            " 15  cnt         730 non-null    int64  \n",
            "dtypes: float64(4), int64(11), object(1)\n",
            "memory usage: 91.4+ KB\n"
          ]
        }
      ],
      "source": [
        "# Mostramos la informacion de los datos del dataset donde podemos ver un elemento tipo object\n",
        "data.info()"
      ]
    },
    {
      "cell_type": "code",
      "execution_count": 128,
      "metadata": {
        "id": "sFmWfM7Mjn9Z"
      },
      "outputs": [],
      "source": [
        "#Convierte las variables categoricas en numericas en nuestro caso nel dataset no contiene este tipo de variables\n",
        "columnas_categoricas = data.select_dtypes(include=['object']).columns\n",
        "# Convierte las variables tipo fechas en numericas\n",
        "columnas_fechas = data.select_dtypes(include=['datetime64']).columns"
      ]
    },
    {
      "cell_type": "code",
      "execution_count": 129,
      "metadata": {
        "id": "GcxRaOoqkOyD"
      },
      "outputs": [],
      "source": [
        "#Procesamiento de frases o palabras\n",
        "for columna in columnas_categoricas:\n",
        "  le = LabelEncoder()\n",
        "  data[columna] = le.fit_transform(data[columna])"
      ]
    },
    {
      "cell_type": "code",
      "execution_count": 130,
      "metadata": {
        "id": "hVuep7WXkQvA"
      },
      "outputs": [],
      "source": [
        "# procesamiento de Fechas a numeros\n",
        "for columna in columnas_fechas:\n",
        "  data[columna] = pd.to_numeric(data[columna].map(datetime.timestamp))"
      ]
    },
    {
      "cell_type": "code",
      "execution_count": 131,
      "metadata": {
        "colab": {
          "base_uri": "https://localhost:8080/"
        },
        "id": "vHzN_Uj0kS96",
        "outputId": "ed75b50d-e879-44db-bba7-19a104c967a7"
      },
      "outputs": [
        {
          "name": "stdout",
          "output_type": "stream",
          "text": [
            "     instant  dteday  season  yr  mnth  holiday  weekday  workingday  \\\n",
            "0          1       0       1   0     1        0        6           0   \n",
            "1          2      24       1   0     1        0        0           0   \n",
            "2          3      48       1   0     1        0        1           1   \n",
            "3          4      72       1   0     1        0        2           1   \n",
            "4          5      96       1   0     1        0        3           1   \n",
            "..       ...     ...     ...  ..   ...      ...      ...         ...   \n",
            "725      726     647       1   1    12        0        4           1   \n",
            "726      727     671       1   1    12        0        5           1   \n",
            "727      728     693       1   1    12        0        6           0   \n",
            "728      729     715       1   1    12        0        0           0   \n",
            "729      730     729       1   1    12        0        1           1   \n",
            "\n",
            "     weathersit       temp     atemp      hum  windspeed  casual  registered  \\\n",
            "0             2  14.110847  18.18125  80.5833  10.749882     331         654   \n",
            "1             2  14.902598  17.68695  69.6087  16.652113     131         670   \n",
            "2             1   8.050924   9.47025  43.7273  16.636703     120        1229   \n",
            "3             1   8.200000  10.60610  59.0435  10.739832     108        1454   \n",
            "4             1   9.305237  11.46350  43.6957  12.522300      82        1518   \n",
            "..          ...        ...       ...      ...        ...     ...         ...   \n",
            "725           2  10.420847  11.33210  65.2917  23.458911     247        1867   \n",
            "726           2  10.386653  12.75230  59.0000  10.416557     644        2451   \n",
            "727           2  10.386653  12.12000  75.2917   8.333661     159        1182   \n",
            "728           1  10.489153  11.58500  48.3333  23.500518     364        1432   \n",
            "729           2   8.849153  11.17435  57.7500  10.374682     439        2290   \n",
            "\n",
            "      cnt  \n",
            "0     985  \n",
            "1     801  \n",
            "2    1349  \n",
            "3    1562  \n",
            "4    1600  \n",
            "..    ...  \n",
            "725  2114  \n",
            "726  3095  \n",
            "727  1341  \n",
            "728  1796  \n",
            "729  2729  \n",
            "\n",
            "[730 rows x 16 columns]\n"
          ]
        }
      ],
      "source": [
        "#Mostramos el resultado despues de procesar fechas a numeros\n",
        "print(data)"
      ]
    },
    {
      "cell_type": "code",
      "execution_count": 132,
      "metadata": {
        "colab": {
          "base_uri": "https://localhost:8080/"
        },
        "id": "tJ9GFsACksGy",
        "outputId": "d5d6703f-41a0-4209-921e-92a92b9719d7"
      },
      "outputs": [
        {
          "name": "stdout",
          "output_type": "stream",
          "text": [
            "<class 'pandas.core.frame.DataFrame'>\n",
            "RangeIndex: 730 entries, 0 to 729\n",
            "Data columns (total 16 columns):\n",
            " #   Column      Non-Null Count  Dtype  \n",
            "---  ------      --------------  -----  \n",
            " 0   instant     730 non-null    int64  \n",
            " 1   dteday      730 non-null    int64  \n",
            " 2   season      730 non-null    int64  \n",
            " 3   yr          730 non-null    int64  \n",
            " 4   mnth        730 non-null    int64  \n",
            " 5   holiday     730 non-null    int64  \n",
            " 6   weekday     730 non-null    int64  \n",
            " 7   workingday  730 non-null    int64  \n",
            " 8   weathersit  730 non-null    int64  \n",
            " 9   temp        730 non-null    float64\n",
            " 10  atemp       730 non-null    float64\n",
            " 11  hum         730 non-null    float64\n",
            " 12  windspeed   730 non-null    float64\n",
            " 13  casual      730 non-null    int64  \n",
            " 14  registered  730 non-null    int64  \n",
            " 15  cnt         730 non-null    int64  \n",
            "dtypes: float64(4), int64(12)\n",
            "memory usage: 91.4 KB\n"
          ]
        }
      ],
      "source": [
        "#Mostramos la informacion del dataset donde podemos ver que todas las columnas son de tipo numerico\n",
        "data.info()"
      ]
    },
    {
      "cell_type": "code",
      "execution_count": 133,
      "metadata": {
        "colab": {
          "base_uri": "https://localhost:8080/"
        },
        "id": "IZheY0q7lvQg",
        "outputId": "a459eee5-528e-4e1e-f527-a35f7ce1ed27"
      },
      "outputs": [
        {
          "name": "stdout",
          "output_type": "stream",
          "text": [
            "<class 'pandas.core.frame.DataFrame'>\n",
            "RangeIndex: 730 entries, 0 to 729\n",
            "Data columns (total 16 columns):\n",
            " #   Column      Non-Null Count  Dtype  \n",
            "---  ------      --------------  -----  \n",
            " 0   instant     730 non-null    int64  \n",
            " 1   dteday      730 non-null    int64  \n",
            " 2   season      730 non-null    int64  \n",
            " 3   yr          730 non-null    int64  \n",
            " 4   mnth        730 non-null    int64  \n",
            " 5   holiday     730 non-null    int64  \n",
            " 6   weekday     730 non-null    int64  \n",
            " 7   workingday  730 non-null    int64  \n",
            " 8   weathersit  730 non-null    int64  \n",
            " 9   temp        730 non-null    float64\n",
            " 10  atemp       730 non-null    float64\n",
            " 11  hum         730 non-null    float64\n",
            " 12  windspeed   730 non-null    float64\n",
            " 13  casual      730 non-null    int64  \n",
            " 14  registered  730 non-null    int64  \n",
            " 15  cnt         730 non-null    int64  \n",
            "dtypes: float64(4), int64(12)\n",
            "memory usage: 91.4 KB\n"
          ]
        }
      ],
      "source": [
        "data.info()"
      ]
    },
    {
      "cell_type": "code",
      "execution_count": 134,
      "metadata": {
        "id": "YuuRUXgCwvZ_"
      },
      "outputs": [],
      "source": [
        "# Realizamos la lectura de Datos\n",
        "# x es igual a las primeras 15 columnas\n",
        "# y es igual a la columna 16\n",
        "X = data.iloc[:, :15]\n",
        "y = data.iloc[:, 15]\n",
        "m = y.size"
      ]
    },
    {
      "cell_type": "code",
      "execution_count": 135,
      "metadata": {
        "colab": {
          "base_uri": "https://localhost:8080/"
        },
        "id": "x1NBC6A6xFoC",
        "outputId": "cf9c7792-f6f0-4d56-889e-23b0dd3cf9c6"
      },
      "outputs": [
        {
          "name": "stdout",
          "output_type": "stream",
          "text": [
            "     instant  dteday  season  yr  mnth  holiday  weekday  workingday  \\\n",
            "0          1       0       1   0     1        0        6           0   \n",
            "1          2      24       1   0     1        0        0           0   \n",
            "2          3      48       1   0     1        0        1           1   \n",
            "3          4      72       1   0     1        0        2           1   \n",
            "4          5      96       1   0     1        0        3           1   \n",
            "..       ...     ...     ...  ..   ...      ...      ...         ...   \n",
            "725      726     647       1   1    12        0        4           1   \n",
            "726      727     671       1   1    12        0        5           1   \n",
            "727      728     693       1   1    12        0        6           0   \n",
            "728      729     715       1   1    12        0        0           0   \n",
            "729      730     729       1   1    12        0        1           1   \n",
            "\n",
            "     weathersit       temp     atemp      hum  windspeed  casual  registered  \n",
            "0             2  14.110847  18.18125  80.5833  10.749882     331         654  \n",
            "1             2  14.902598  17.68695  69.6087  16.652113     131         670  \n",
            "2             1   8.050924   9.47025  43.7273  16.636703     120        1229  \n",
            "3             1   8.200000  10.60610  59.0435  10.739832     108        1454  \n",
            "4             1   9.305237  11.46350  43.6957  12.522300      82        1518  \n",
            "..          ...        ...       ...      ...        ...     ...         ...  \n",
            "725           2  10.420847  11.33210  65.2917  23.458911     247        1867  \n",
            "726           2  10.386653  12.75230  59.0000  10.416557     644        2451  \n",
            "727           2  10.386653  12.12000  75.2917   8.333661     159        1182  \n",
            "728           1  10.489153  11.58500  48.3333  23.500518     364        1432  \n",
            "729           2   8.849153  11.17435  57.7500  10.374682     439        2290  \n",
            "\n",
            "[730 rows x 15 columns]\n",
            "****************************************************************************************************\n",
            "****************************************************************************************************\n",
            "****************************************************************************************************\n",
            "0       985\n",
            "1       801\n",
            "2      1349\n",
            "3      1562\n",
            "4      1600\n",
            "       ... \n",
            "725    2114\n",
            "726    3095\n",
            "727    1341\n",
            "728    1796\n",
            "729    2729\n",
            "Name: cnt, Length: 730, dtype: int64\n"
          ]
        }
      ],
      "source": [
        "# Mostramos los datos x\n",
        "print(X)\n",
        "print('*'*100)\n",
        "print('*'*100)\n",
        "print('*'*100)\n",
        "# Mostramos los datos de la columna y\n",
        "print(y)"
      ]
    },
    {
      "cell_type": "code",
      "execution_count": 136,
      "metadata": {
        "id": "DrrFytt2gkI8"
      },
      "outputs": [],
      "source": [
        "#Normalizamos x\n",
        "def  featureNormalize(X):\n",
        "    X_norm = X.copy()\n",
        "    mu = np.zeros(X.shape[1])\n",
        "    sigma = np.zeros(X.shape[1])\n",
        "# Calculamos mu, sigma y la x normalizada\n",
        "    mu = np.mean(X, axis = 0)\n",
        "    sigma = np.std(X, axis = 0)\n",
        "    X_norm = (X - mu) / sigma\n",
        "    return X_norm, mu, sigma"
      ]
    },
    {
      "cell_type": "code",
      "execution_count": 137,
      "metadata": {
        "colab": {
          "base_uri": "https://localhost:8080/"
        },
        "id": "MhHhItqc4YLy",
        "outputId": "dcaaf87c-69d5-49ff-9521-34b26b80d70f"
      },
      "outputs": [
        {
          "name": "stdout",
          "output_type": "stream",
          "text": [
            "     instant  dteday  season  yr  mnth  holiday  weekday  workingday  \\\n",
            "0          1       0       1   0     1        0        6           0   \n",
            "1          2      24       1   0     1        0        0           0   \n",
            "2          3      48       1   0     1        0        1           1   \n",
            "3          4      72       1   0     1        0        2           1   \n",
            "4          5      96       1   0     1        0        3           1   \n",
            "..       ...     ...     ...  ..   ...      ...      ...         ...   \n",
            "725      726     647       1   1    12        0        4           1   \n",
            "726      727     671       1   1    12        0        5           1   \n",
            "727      728     693       1   1    12        0        6           0   \n",
            "728      729     715       1   1    12        0        0           0   \n",
            "729      730     729       1   1    12        0        1           1   \n",
            "\n",
            "     weathersit       temp     atemp      hum  windspeed  casual  registered  \n",
            "0             2  14.110847  18.18125  80.5833  10.749882     331         654  \n",
            "1             2  14.902598  17.68695  69.6087  16.652113     131         670  \n",
            "2             1   8.050924   9.47025  43.7273  16.636703     120        1229  \n",
            "3             1   8.200000  10.60610  59.0435  10.739832     108        1454  \n",
            "4             1   9.305237  11.46350  43.6957  12.522300      82        1518  \n",
            "..          ...        ...       ...      ...        ...     ...         ...  \n",
            "725           2  10.420847  11.33210  65.2917  23.458911     247        1867  \n",
            "726           2  10.386653  12.75230  59.0000  10.416557     644        2451  \n",
            "727           2  10.386653  12.12000  75.2917   8.333661     159        1182  \n",
            "728           1  10.489153  11.58500  48.3333  23.500518     364        1432  \n",
            "729           2   8.849153  11.17435  57.7500  10.374682     439        2290  \n",
            "\n",
            "[730 rows x 15 columns]\n",
            "****************************************************************************************************\n",
            "****************************************************************************************************\n",
            "Media calculada: instant        365.500000\n",
            "dteday         364.500000\n",
            "season           2.498630\n",
            "yr               0.500000\n",
            "mnth             6.526027\n",
            "holiday          0.028767\n",
            "weekday          2.997260\n",
            "workingday       0.683562\n",
            "weathersit       1.394521\n",
            "temp            20.319259\n",
            "atemp           23.726322\n",
            "hum             62.765175\n",
            "windspeed       12.763620\n",
            "casual         849.249315\n",
            "registered    3658.757534\n",
            "dtype: float64\n",
            "****************************************************************************************************\n",
            "****************************************************************************************************\n",
            "Desviación estandar calculada: instant        210.732651\n",
            "dteday         210.732651\n",
            "season           1.109423\n",
            "yr               0.500000\n",
            "mnth             3.447851\n",
            "holiday          0.167151\n",
            "weekday          2.004787\n",
            "workingday       0.465086\n",
            "weathersit       0.544434\n",
            "temp             7.501586\n",
            "atemp            8.144723\n",
            "hum             14.227834\n",
            "windspeed        5.192281\n",
            "casual         686.009522\n",
            "registered    1558.690034\n",
            "dtype: float64\n",
            "****************************************************************************************************\n",
            "****************************************************************************************************\n",
            "      instant    dteday    season   yr      mnth   holiday   weekday  \\\n",
            "0   -1.729680 -1.729680 -1.350819 -1.0 -1.602745 -0.172102  1.497785   \n",
            "1   -1.724934 -1.615791 -1.350819 -1.0 -1.602745 -0.172102 -1.495052   \n",
            "2   -1.720189 -1.501903 -1.350819 -1.0 -1.602745 -0.172102 -0.996246   \n",
            "3   -1.715444 -1.388015 -1.350819 -1.0 -1.602745 -0.172102 -0.497440   \n",
            "4   -1.710698 -1.274126 -1.350819 -1.0 -1.602745 -0.172102  0.001367   \n",
            "..        ...       ...       ...  ...       ...       ...       ...   \n",
            "725  1.710698  1.340561 -1.350819  1.0  1.587648 -0.172102  0.500173   \n",
            "726  1.715444  1.454450 -1.350819  1.0  1.587648 -0.172102  0.998979   \n",
            "727  1.720189  1.558847 -1.350819  1.0  1.587648 -0.172102  1.497785   \n",
            "728  1.724934  1.663245 -1.350819  1.0  1.587648 -0.172102 -1.495052   \n",
            "729  1.729680  1.729680 -1.350819  1.0  1.587648 -0.172102 -0.996246   \n",
            "\n",
            "     workingday  weathersit      temp     atemp       hum  windspeed  \\\n",
            "0     -1.469753    1.112127 -0.827613 -0.680818  1.252343  -0.387833   \n",
            "1     -1.469753    1.112127 -0.722069 -0.741507  0.480996   0.748899   \n",
            "2      0.680387   -0.724644 -1.635432 -1.750344 -1.338073   0.745931   \n",
            "3      0.680387   -0.724644 -1.615560 -1.610886 -0.261577  -0.389769   \n",
            "4      0.680387   -0.724644 -1.468226 -1.505615 -1.340294  -0.046477   \n",
            "..          ...         ...       ...       ...       ...        ...   \n",
            "725    0.680387    1.112127 -1.319509 -1.521749  0.177576   2.059845   \n",
            "726    0.680387    1.112127 -1.324068 -1.347378 -0.264634  -0.452029   \n",
            "727   -1.469753    1.112127 -1.324068 -1.425011  0.880424  -0.853182   \n",
            "728   -1.469753   -0.724644 -1.310404 -1.490698 -1.014341   2.067858   \n",
            "729    0.680387    1.112127 -1.529024 -1.541117 -0.352490  -0.460094   \n",
            "\n",
            "       casual  registered  \n",
            "0   -0.755455   -1.927745  \n",
            "1   -1.046996   -1.917480  \n",
            "2   -1.063031   -1.558846  \n",
            "3   -1.080523   -1.414494  \n",
            "4   -1.118424   -1.373434  \n",
            "..        ...         ...  \n",
            "725 -0.877902   -1.149528  \n",
            "726 -0.299193   -0.774854  \n",
            "727 -1.006180   -1.588999  \n",
            "728 -0.707351   -1.428608  \n",
            "729 -0.598023   -0.878146  \n",
            "\n",
            "[730 rows x 15 columns]\n"
          ]
        }
      ],
      "source": [
        "# llama featureNormalize con los datos cargados\n",
        "X_norm, mu, sigma = featureNormalize(X)\n",
        "\n",
        "print(X)\n",
        "print('*'*100)\n",
        "print('*'*100)\n",
        "print('Media calculada:', mu)\n",
        "print('*'*100)\n",
        "print('*'*100)\n",
        "print('Desviación estandar calculada:', sigma)\n",
        "print('*'*100)\n",
        "print('*'*100)\n",
        "print(X_norm)"
      ]
    },
    {
      "cell_type": "code",
      "execution_count": 138,
      "metadata": {
        "id": "EB4cCmdm4bxJ"
      },
      "outputs": [],
      "source": [
        "# Añade el termino de interseccion a X\n",
        "# (Columna de unos para X0)\n",
        "X = np.concatenate([np.ones((m, 1)), X_norm], axis=1)"
      ]
    },
    {
      "cell_type": "code",
      "execution_count": 139,
      "metadata": {
        "colab": {
          "base_uri": "https://localhost:8080/"
        },
        "id": "jxdWrQDC4fcD",
        "outputId": "1ec268ee-14cd-4a08-865e-6fe257c44282"
      },
      "outputs": [
        {
          "name": "stdout",
          "output_type": "stream",
          "text": [
            "[[ 1.         -1.72967976 -1.72967976 ... -0.38783297 -0.75545499\n",
            "  -1.92774539]\n",
            " [ 1.         -1.72493441 -1.61579138 ...  0.74889891 -1.04699613\n",
            "  -1.91748036]\n",
            " [ 1.         -1.72018906 -1.501903   ...  0.74593104 -1.06303089\n",
            "  -1.55884588]\n",
            " ...\n",
            " [ 1.          1.72018906  1.55884719 ... -0.85318166 -1.00618037\n",
            "  -1.5889994 ]\n",
            " [ 1.          1.72493441  1.66324487 ...  2.06785784 -0.7073507\n",
            "  -1.42860831]\n",
            " [ 1.          1.72967976  1.72967976 ... -0.46009409 -0.59802277\n",
            "  -0.87814607]]\n"
          ]
        }
      ],
      "source": [
        "#mostramos x con la columna de 1 añadida\n",
        "print(X)"
      ]
    },
    {
      "cell_type": "code",
      "execution_count": 140,
      "metadata": {
        "id": "is_NER384kX5"
      },
      "outputs": [],
      "source": [
        "def computeCostMulti(X, y, theta):\n",
        "    # Inicializa algunos valores utiles\n",
        "    m = y.shape[0] # numero de ejemplos de entrenamiento\n",
        "\n",
        "    J = 0\n",
        "\n",
        "    h = np.dot(X, theta)\n",
        "\n",
        "    J = (1/(2 * m)) * np.sum(np.square(np.dot(X, theta) - y))\n",
        "\n",
        "    return J\n"
      ]
    },
    {
      "cell_type": "code",
      "execution_count": 141,
      "metadata": {
        "id": "NTic99Il4k9H"
      },
      "outputs": [],
      "source": [
        "def gradientDescentMulti(X, y, theta, alpha, num_iters):\n",
        "\n",
        "    # realiza una copia de theta, el cual será acutalizada por el descenso por el gradiente\n",
        "    theta = theta.copy()\n",
        "\n",
        "    J_history = []\n",
        "\n",
        "    for i in range(num_iters):\n",
        "        theta = theta - (alpha / m) * (np.dot(X, theta) - y).dot(X)\n",
        "        J_history.append(computeCostMulti(X, y, theta))\n",
        "\n",
        "    return theta, J_history"
      ]
    },
    {
      "cell_type": "code",
      "execution_count": 154,
      "metadata": {
        "colab": {
          "base_uri": "https://localhost:8080/",
          "height": 534
        },
        "id": "2sc2AmKF4qJQ",
        "outputId": "dbf8bad8-ea69-4f51-a39f-7ea5b1d3ddec"
      },
      "outputs": [
        {
          "name": "stdout",
          "output_type": "stream",
          "text": [
            "theta calculado por el descenso por el gradiente: [4507.80320756   59.5107493   -13.2575358   117.23254044  112.14450908\n",
            "  -72.81320527   -4.98555698   16.17964985  100.10710511  -52.62505602\n",
            "   42.60748586   50.05081667  -10.08479013  -22.74869673  713.69038343\n",
            " 1280.75578649]\n"
          ]
        },
        {
          "data": {
            "image/png": "[encoded data removed]",
            "text/plain": [
              "<Figure size 640x480 with 1 Axes>"
            ]
          },
          "metadata": {},
          "output_type": "display_data"
        }
      ],
      "source": [
        "# Elegir algun valor para alpha para lograr la grafica mas indicada\n",
        "alpha = 0.001\n",
        "num_iters = 10000\n",
        "\n",
        "# inicializa theta y ejecuta el descenso por el gradiente\n",
        "theta = np.zeros(16)\n",
        "theta, J_history = gradientDescentMulti(X, y, theta, alpha, num_iters)\n",
        "\n",
        "# Grafica la convergencia del costo\n",
        "pyplot.plot(np.arange(len(J_history)), J_history, lw=2)\n",
        "pyplot.xlabel('Numero de iteraciones')\n",
        "pyplot.ylabel('Recuento de alquiler de bicicletas')\n",
        "\n",
        "# Muestra los resultados del descenso por el gradiente\n",
        "print('theta calculado por el descenso por el gradiente: {:s}'.format(str(theta)))\n"
      ]
    },
    {
      "cell_type": "code",
      "execution_count": 155,
      "metadata": {
        "colab": {
          "base_uri": "https://localhost:8080/"
        },
        "id": "TFd4RaYmofW2",
        "outputId": "bab93f01-30c0-4b73-bef2-b4c4fad46d5b"
      },
      "outputs": [
        {
          "name": "stdout",
          "output_type": "stream",
          "text": [
            "El valor predecido del recuento de bicicletas alquiladas es: 688.5629\n"
          ]
        }
      ],
      "source": [
        "# Estimar el recuento de alquiler de bicicletas con distintas caracteristicas\n",
        "# Los datos de x son: [1, id, fecha, estacion, año, mes, dia festivo, dia de la semana, dia de trabajo, en la intemperie, temperatura, sensacion termica, humedad, velocidad del viento, usuario casual, usuario registrado]\n",
        "X_array = [1, 2, 96, 3, 0, 10, 1, 6, 0, 1, 12, 15.1, 65.2, 15.1, 100, 500]\n",
        "X_array[1:16] = (X_array[1:16] - mu) / sigma\n",
        "count = np.dot(X_array, theta)\n",
        "\n",
        "print('El valor predecido del recuento de bicicletas alquiladas es: {:.4f}'.format(count))"
      ]
    },
    {
      "cell_type": "code",
      "execution_count": 156,
      "metadata": {
        "id": "_MMoIdODf9FN"
      },
      "outputs": [],
      "source": [
        "def normalEqn(X, y):\n",
        "\n",
        "    theta = np.zeros(X.shape[1])\n",
        "\n",
        "    theta = np.dot(np.dot(np.linalg.inv(np.dot(X.T,X)),X.T),y)\n",
        "\n",
        "    return theta"
      ]
    },
    {
      "cell_type": "code",
      "execution_count": 160,
      "metadata": {
        "colab": {
          "base_uri": "https://localhost:8080/"
        },
        "id": "E7px4OMrf9un",
        "outputId": "2769b43b-2df3-43ae-ab2b-811d85b75206"
      },
      "outputs": [
        {
          "name": "stdout",
          "output_type": "stream",
          "text": [
            "Theta calculado a partir de la ecuación de la normal: [ 4.50800685e+03 -1.73915851e-08 -3.85369958e-10 -7.41601980e-09\n",
            "  4.48255832e-09  1.71799570e-08  3.68460817e-12  5.45341550e-12\n",
            " -3.78204135e-11 -3.09476889e-11 -4.16036983e-10  3.79355214e-10\n",
            " -3.03757020e-13 -1.06902265e-11  6.86009522e+02  1.55869003e+03]\n",
            "El valor predecido del recuento de bicicletas alquiladas (usando la ecuación de la normal) es: 689\n"
          ]
        }
      ],
      "source": [
        "# Calcula los parametros con la ecuación de la normal\n",
        "theta = normalEqn(X, y);\n",
        "\n",
        "# Muestra los resultados optenidos a partir de la aplicación de la ecuación de la normal\n",
        "print('Theta calculado a partir de la ecuación de la normal: {:s}'.format(str(theta)));\n",
        "\n",
        "# Estimar el recuento de alquiler de bicicletas con distintas caracteristicas\n",
        "\n",
        "X_array = [1, 2, 96, 3, 0, 10, 1, 6, 0, 1, 12, 15.1, 65.2, 15.1, 100, 500]\n",
        "count = np.dot(X_array, theta)\n",
        "\n",
        "print('El valor predecido del recuento de bicicletas alquiladas (usando la ecuación de la normal) es: {:.0f}'.format(count))"
      ]
    }
  ],
  "metadata": {
    "colab": {
      "provenance": []
    },
    "kernelspec": {
      "display_name": "Python 3",
      "name": "python3"
    },
    "language_info": {
      "name": "python",
      "version": "3.11.4"
    }
  },
  "nbformat": 4,
  "nbformat_minor": 0
}
